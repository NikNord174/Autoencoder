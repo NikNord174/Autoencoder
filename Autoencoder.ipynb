{
  "nbformat": 4,
  "nbformat_minor": 0,
  "metadata": {
    "colab": {
      "name": "Untitled17.ipynb",
      "provenance": [],
      "authorship_tag": "ABX9TyPxdR+6gX+E9FWzQQA2csiK",
      "include_colab_link": true
    },
    "kernelspec": {
      "name": "python3",
      "display_name": "Python 3"
    },
    "language_info": {
      "name": "python"
    },
    "accelerator": "GPU"
  },
  "cells": [
    {
      "cell_type": "markdown",
      "metadata": {
        "id": "view-in-github",
        "colab_type": "text"
      },
      "source": [
        "<a href=\"https://colab.research.google.com/github/NikNord174/Autoencoder/blob/main/Autoencoder.ipynb\" target=\"_parent\"><img src=\"https://colab.research.google.com/assets/colab-badge.svg\" alt=\"Open In Colab\"/></a>"
      ]
    },
    {
      "cell_type": "markdown",
      "source": [
        "# Autoencoder"
      ],
      "metadata": {
        "id": "nt2Axcc5LT4q"
      }
    },
    {
      "cell_type": "code",
      "execution_count": null,
      "metadata": {
        "id": "w02GLPKNLTEJ"
      },
      "outputs": [],
      "source": [
        "import os\n",
        "import sys\n",
        "from time import time\n",
        "\n",
        "import numpy as np\n",
        "import matplotlib.pyplot as plt\n",
        "from PIL import Image\n",
        "\n",
        "import torch\n",
        "import torch.nn as nn\n",
        "import torch.nn.functional as F\n",
        "from torch import optim\n",
        "from torch.utils.data import DataLoader\n",
        "from torchvision import datasets, transforms\n",
        "from torchvision.transforms import Compose, ToTensor, Normalize\n"
      ]
    },
    {
      "cell_type": "code",
      "source": [
        "BATCH_SIZE = 64\n",
        "NUM_WORKERS = 2\n",
        "if torch.cuda.is_available():\n",
        "  DEVICE = torch.device('cuda')\n",
        "else:\n",
        "  DEVICE = torch.device('cpu')\n"
      ],
      "metadata": {
        "id": "2077QcCUMIym"
      },
      "execution_count": null,
      "outputs": []
    },
    {
      "cell_type": "code",
      "source": [
        "transform=transforms.Compose([\n",
        "                              ToTensor(),\n",
        "                              Normalize((0.5, 0.5, 0.5), (0.5, 0.5, 0.5))\n",
        "                              ])\n",
        "train = datasets.CIFAR10('../data',\n",
        "                         train=True,\n",
        "                         download=True,\n",
        "                         transform=transform)\n",
        "test = datasets.CIFAR10('../data',\n",
        "                        train=False,\n",
        "                        download=True,\n",
        "                        transform=transform)\n",
        "train_loader = torch.utils.data.DataLoader(train,\n",
        "                                           batch_size=BATCH_SIZE,\n",
        "                                           num_workers=NUM_WORKERS,\n",
        "                                           shuffle=True)\n",
        "test_loader = torch.utils.data.DataLoader(test,\n",
        "                                          batch_size=BATCH_SIZE,\n",
        "                                          num_workers=NUM_WORKERS,\n",
        "                                          shuffle=True)\n"
      ],
      "metadata": {
        "id": "_h07tFQRLwHm"
      },
      "execution_count": null,
      "outputs": []
    },
    {
      "cell_type": "markdown",
      "source": [
        "## Models"
      ],
      "metadata": {
        "id": "i14ms2fzMc9Q"
      }
    },
    {
      "cell_type": "markdown",
      "source": [
        "### Test cells"
      ],
      "metadata": {
        "id": "bLuHwBaorM5C"
      }
    },
    {
      "cell_type": "code",
      "source": [
        "def simple_conv_block(decoder: bool = False,\n",
        "                      input_channels: int = 3,\n",
        "                      output_channels: int = 3,\n",
        "                      kernel_size: int = 4,\n",
        "                      stride: int = 2,\n",
        "                      padding: int = 1,\n",
        "                      final_layer: bool = False) -> nn.Sequential:\n",
        "    if not decoder:\n",
        "      if not final_layer:\n",
        "        return nn.Sequential(\n",
        "            nn.Conv2d(in_channels=input_channels,\n",
        "                      out_channels=output_channels,\n",
        "                      kernel_size=kernel_size,\n",
        "                      stride=stride,\n",
        "                      padding=padding),\n",
        "            nn.BatchNorm2d(output_channels),\n",
        "            #nn.MaxPool2d(kernel_size=2, stride=2, padding=1),\n",
        "            #nn.Dropout(p=0.2),\n",
        "            nn.LeakyReLU(0.2)\n",
        "            )\n",
        "      else:  # Final Layer\n",
        "        return nn.Sequential(\n",
        "            nn.Conv2d(in_channels=input_channels,\n",
        "                      out_channels=output_channels,\n",
        "                      kernel_size=kernel_size,\n",
        "                      padding=padding)\n",
        "            )\n",
        "    else:\n",
        "        if not final_layer:\n",
        "                return nn.Sequential(\n",
        "                    nn.ConvTranspose2d(in_channels=input_channels,\n",
        "                              out_channels=output_channels,\n",
        "                              kernel_size=kernel_size,\n",
        "                              padding=padding),\n",
        "                    nn.BatchNorm2d(output_channels),\n",
        "                    #nn.Dropout(p=0.2),\n",
        "                    nn.LeakyReLU(0.2)\n",
        "                )\n",
        "        else:\n",
        "                return nn.Sequential(\n",
        "                    nn.ConvTranspose2d(in_channels=input_channels,\n",
        "                              out_channels=output_channels,\n",
        "                              kernel_size=kernel_size,\n",
        "                              padding=padding)\n",
        "                )\n",
        "        \n",
        "encoder = nn.Sequential(simple_conv_block(input_channels=3,\n",
        "                                          output_channels=30),\n",
        "                        simple_conv_block(input_channels=30,\n",
        "                                          output_channels=60),\n",
        "                        simple_conv_block(input_channels=60,\n",
        "                                          output_channels=120,\n",
        "                                          final_layer=True),\n",
        "                        simple_conv_block(input_channels=120,\n",
        "                                          output_channels=240,\n",
        "                                          final_layer=True),\n",
        "        )\n",
        "\n",
        "fake = torch.randn(64, 3, 32, 32)\n",
        "m = simple_conv_block(input_channels=3, output_channels=30)\n",
        "#m(fake).shape\n",
        "encoder(fake).shape"
      ],
      "metadata": {
        "id": "gnUMySSJhk2t"
      },
      "execution_count": null,
      "outputs": []
    },
    {
      "cell_type": "code",
      "source": [
        "fake = torch.randn(64, 3, 32, 32)\n",
        "m = nn.Conv2d(3, 60, 3, 3)\n",
        "a = m(fake)\n",
        "m_1 = nn.ConvTranspose2d(60, 3, 3, 1,)\n",
        "b = m_1(a)\n",
        "print(a.shape)\n",
        "print(b.shape)\n",
        "#fake = torch.randn(64, 3, 32, 32).to(DEVICE)\n",
        "#model(fake).shape"
      ],
      "metadata": {
        "id": "c2AB_o0GeFNs"
      },
      "execution_count": null,
      "outputs": []
    },
    {
      "cell_type": "code",
      "source": [
        "layers = []\n",
        "channels = [3, 60, 120, 240]\n",
        "for i in range(len(channels)-1):\n",
        "    if channels[i] != channels[-2]:\n",
        "        layers.append(simple_conv_block(input_channels=channels[i],\n",
        "                                             output_channels=channels[i+1]))\n",
        "    else:\n",
        "        layers.append(simple_conv_block(input_channels=channels[i],\n",
        "                                             output_channels=channels[i+1],\n",
        "                                             final_layer=True))\n",
        "encoder = nn.Sequential(*layers)\n",
        "fake = torch.randn(64, 3, 32, 32)\n",
        "print(fake.shape)\n",
        "#flatten = nn.Flatten()\n",
        "#fake=flatten(fake)\n",
        "#print(fake.shape)\n",
        "#print(encoder)\n",
        "encoder(fake).shape"
      ],
      "metadata": {
        "id": "hkBonpGs35IA"
      },
      "execution_count": null,
      "outputs": []
    },
    {
      "cell_type": "markdown",
      "source": [
        "### Model"
      ],
      "metadata": {
        "id": "KfftygNsrRWk"
      }
    },
    {
      "cell_type": "code",
      "source": [
        "class Autoencoder(nn.Module):\n",
        "    def __init__(self):\n",
        "        super(Autoencoder, self).__init__()\n",
        "        self.channels = [3, 60, 120, 240]\n",
        "        self.hidden_state = 300\n",
        "        self.encoder = self.encoder_layers()\n",
        "        self.flatten = nn.Flatten()\n",
        "        self.lin_neurons = [240, 4, 4]\n",
        "        self.enc_neurons = np.prod(self.lin_neurons)\n",
        "        self.linear = nn.Linear(self.enc_neurons,\n",
        "                                self.hidden_state)\n",
        "        self.rev_linear = nn.Linear(self.hidden_state,\n",
        "                                    self.enc_neurons)\n",
        "        self.decoder = self.decoder_layers()\n",
        "\n",
        "\n",
        "    def simple_enc_block(self,\n",
        "                         input_channels: int = 3,\n",
        "                         output_channels: int = 3,\n",
        "                         kernel_size: int = 4,\n",
        "                         stride: int = 2,\n",
        "                         padding: int = 1,\n",
        "                         final_layer: bool = False) -> nn.Sequential:\n",
        "        if not final_layer:\n",
        "            return nn.Sequential(\n",
        "                nn.Conv2d(in_channels=input_channels,\n",
        "                          out_channels=output_channels,\n",
        "                          kernel_size=kernel_size,\n",
        "                          stride=stride,\n",
        "                          padding=padding),\n",
        "                nn.BatchNorm2d(output_channels),\n",
        "                #nn.MaxPool2d(kernel_size=2, stride=2, padding=1),\n",
        "                nn.Dropout(p=0.2),\n",
        "                nn.LeakyReLU(0.2)\n",
        "                )\n",
        "        else:\n",
        "            return nn.Sequential(\n",
        "                nn.Conv2d(in_channels=input_channels,\n",
        "                          out_channels=output_channels,\n",
        "                          kernel_size=kernel_size,\n",
        "                          stride=stride,\n",
        "                          padding=padding)\n",
        "                )\n",
        "\n",
        "\n",
        "    def encoder_layers(self) -> nn.Sequential:\n",
        "        layers = []\n",
        "        for i in range(len(self.channels)-1):\n",
        "            if self.channels[i] != self.channels[-2]:\n",
        "                layers.append(self.simple_enc_block(input_channels=self.channels[i],\n",
        "                                                     output_channels=self.channels[i+1]))\n",
        "            else:\n",
        "                layers.append(self.simple_enc_block(input_channels=self.channels[i],\n",
        "                                                     output_channels=self.channels[i+1],\n",
        "                                                     final_layer=True))\n",
        "        return nn.Sequential(*layers)\n",
        "    \n",
        "    \n",
        "    def simple_dec_block(self,\n",
        "                         input_channels: int = 3,\n",
        "                         output_channels: int = 3,\n",
        "                         kernel_size: int = 4,\n",
        "                         stride: int = 2,\n",
        "                         padding: int = 1,\n",
        "                         final_layer: bool = False) -> nn.Sequential:\n",
        "        if not final_layer:\n",
        "            return nn.Sequential(\n",
        "                nn.ConvTranspose2d(in_channels=input_channels,\n",
        "                                   out_channels=output_channels,\n",
        "                                   kernel_size=kernel_size,\n",
        "                                   stride=stride,\n",
        "                                   padding=padding),\n",
        "                nn.BatchNorm2d(output_channels),\n",
        "                nn.Dropout(p=0.2),\n",
        "                nn.LeakyReLU(0.2)\n",
        "                )\n",
        "        else:\n",
        "            return nn.Sequential(\n",
        "                nn.ConvTranspose2d(in_channels=input_channels,\n",
        "                                   out_channels=output_channels,\n",
        "                                   kernel_size=kernel_size,\n",
        "                                   stride=stride,\n",
        "                                   padding=padding)\n",
        "                )\n",
        "\n",
        "\n",
        "    def decoder_layers(self) -> nn.Sequential:\n",
        "        layers = []\n",
        "        dec_channels = list(reversed(self.channels))\n",
        "        for i in range(len(dec_channels)-1):\n",
        "            if dec_channels[i] != dec_channels[-2]:\n",
        "                layers.append(self.simple_dec_block(input_channels=dec_channels[i],\n",
        "                                                    output_channels=dec_channels[i+1]))\n",
        "            else:\n",
        "                layers.append(self.simple_dec_block(input_channels=dec_channels[i],\n",
        "                                                    output_channels=dec_channels[i+1],\n",
        "                                                    final_layer=True))\n",
        "        return nn.Sequential(*layers)\n",
        "\n",
        "\n",
        "    def forward(self, x):\n",
        "        encoded = self.encoder(x)\n",
        "        hidden_layer = torch.flatten(encoded, start_dim = 1)\n",
        "        hidden_layer = self.linear(hidden_layer)\n",
        "        hidden_layer = self.rev_linear(hidden_layer)\n",
        "        hidden_layer = hidden_layer.view(-1, *self.lin_neurons)\n",
        "        decoded = self.decoder(hidden_layer)\n",
        "        return decoded\n",
        "    \n",
        "\n",
        "model = Autoencoder().to(DEVICE)"
      ],
      "metadata": {
        "id": "ht3baJMLFgdN"
      },
      "execution_count": null,
      "outputs": []
    },
    {
      "cell_type": "code",
      "source": [
        "fake = torch.randn(64, 3, 32, 32).to(DEVICE)\n",
        "print(fake.shape)\n",
        "print(model(fake).shape)\n",
        "a = Autoencoder()\n",
        "b=a.encoder_layers().to(DEVICE)\n",
        "#print(b)\n",
        "b(fake).shape"
      ],
      "metadata": {
        "id": "1DVA762tKXYB"
      },
      "execution_count": null,
      "outputs": []
    },
    {
      "cell_type": "code",
      "source": [
        "def MSE(fake: torch.Tensor,\n",
        "        image: torch.Tensor) -> torch.Tensor:\n",
        "    return torch.mean((fake - image)**2)\n",
        "\n",
        "\n",
        "def train(model: nn.Sequential,\n",
        "          train_loader: DataLoader,\n",
        "          optimizer: torch.optim,\n",
        "          device: torch.device) -> None:\n",
        "    for images, _ in train_loader:\n",
        "        images = images.to(DEVICE)\n",
        "        optimizer.zero_grad()\n",
        "        outputs = model(images)\n",
        "        batch_loss = MSE(outputs, images)\n",
        "        batch_loss.backward()\n",
        "        optimizer.step()\n",
        "\n",
        "\n",
        "def test(model: nn.Sequential,\n",
        "         test_loader: DataLoader,\n",
        "         device: torch.device) -> float:\n",
        "    model.eval()\n",
        "    test_loss = 0\n",
        "    acc = 0\n",
        "    with torch.no_grad():\n",
        "        for images, _ in test_loader:\n",
        "            images = images.to(DEVICE)\n",
        "            output = model(images)\n",
        "            loss = MSE(output, images)\n",
        "            test_loss += loss.item()\n",
        "    return test_loss / len(test_loader.dataset)"
      ],
      "metadata": {
        "id": "DQM8mIj0WZNi"
      },
      "execution_count": null,
      "outputs": []
    },
    {
      "cell_type": "code",
      "source": [
        "epochs = 100\n",
        "running_loss = 0.0\n",
        "lr = 0.001\n",
        "test_loss_list = []\n",
        "eps = 1e-4\n",
        "\n",
        "model = Autoencoder().to(DEVICE)\n",
        "optimizer = torch.optim.Adam(model.parameters(), lr=lr)\n",
        "scheduler = torch.optim.lr_scheduler.ReduceLROnPlateau(optimizer, 'min')\n",
        "\n",
        "t0 = time()\n",
        "\n",
        "for epoch in range(epochs):\n",
        "    loss = 0.0\n",
        "    train(model, train_loader, optimizer, DEVICE)\n",
        "    test_loss = test(model, train_loader, DEVICE)\n",
        "    test_loss_list.append(test_loss)\n",
        "    t1 = (time() - t0) / 60\n",
        "    print('Epoch: {}, test loss: {:.5f}, '.format(epoch+1, test_loss) + \n",
        "            'time: {:.2f} min'.format(t1))\n",
        "    if epoch > 2:\n",
        "        if max(test_loss_list[-5:]) - min(test_loss_list[-5:]) > eps:\n",
        "            continue\n",
        "        else:\n",
        "            break\n",
        "print('Finish!')\n"
      ],
      "metadata": {
        "id": "RtxjR-Tjufv9"
      },
      "execution_count": null,
      "outputs": []
    },
    {
      "cell_type": "code",
      "source": [
        "plt.plot(range(1, len(test_loss_list) + 1), test_loss_list)\n",
        "plt.show()"
      ],
      "metadata": {
        "id": "Ss8XWQ8Hv-GT"
      },
      "execution_count": null,
      "outputs": []
    },
    {
      "cell_type": "code",
      "source": [
        "%matplotlib inline\n",
        "import matplotlib.pyplot as plt\n",
        "import numpy as np\n",
        "from torchvision.utils import save_image\n",
        "\n",
        "def imshow(img, im_name):\n",
        "    img = img.detach().cpu()\n",
        "    save_image(img, im_name)\n",
        "    npimg = img.numpy()\n",
        "    plt.axis('off')\n",
        "    npimg = np.transpose(npimg, (1, 2, 0))\n",
        "    #im = Image.fromarray(npimg)\n",
        "    #im.save(im_name)\n",
        "    #plt.imsave(im_name, npimg/)\n",
        "    plt.imshow(npimg)\n",
        "    plt.show()\n",
        "\n",
        "\n",
        "def get_file_size_in_bytes(file_path):\n",
        "   size = os.path.getsize(file_path)\n",
        "   return size\n",
        "\n",
        "\n",
        "for i, (im, lab) in enumerate(train_loader):\n",
        "    print(im.shape)\n",
        "    print(lab[0])\n",
        "    imshow(im[0], '/content/image.jpeg')\n",
        "    fake = model(im.to(DEVICE))\n",
        "    print(fake.shape)\n",
        "    imshow(fake[0], '/content/fake.jpeg')\n",
        "    real_size = get_file_size_in_bytes('/content/image.jpeg')\n",
        "    compressed_state=model.encoder_layers()\n",
        "    jpeg_comp_rate = 3*32*32 / real_size\n",
        "    #ae_comp_rate = sys.getsizeof(fake[0]) / sys.getsizeof(compressed_state(im)[0])\n",
        "    ae_comp_rate = 3*32*32 / sys.getsizeof(compressed_state(im)[0])\n",
        "    print('jpeg ompression rate : {:.2f}'.format(jpeg_comp_rate))\n",
        "    print('AE ompression rate : {:.2f}'.format(ae_comp_rate))\n",
        "    break\n",
        "\n"
      ],
      "metadata": {
        "id": "mEBXemhvxsoL"
      },
      "execution_count": null,
      "outputs": []
    },
    {
      "cell_type": "code",
      "source": [
        ""
      ],
      "metadata": {
        "id": "Xd0AqceTD2iU"
      },
      "execution_count": null,
      "outputs": []
    }
  ]
}