{
  "cells": [
    {
      "cell_type": "markdown",
      "metadata": {
        "colab_type": "text",
        "id": "view-in-github"
      },
      "source": [
        "<a href=\"https://colab.research.google.com/github/NikNord174/Autoencoder/blob/main/Autoencoder.ipynb\" target=\"_parent\"><img src=\"https://colab.research.google.com/assets/colab-badge.svg\" alt=\"Open In Colab\"/></a>"
      ]
    },
    {
      "cell_type": "markdown",
      "metadata": {
        "id": "nt2Axcc5LT4q"
      },
      "source": [
        "# Autoencoder"
      ]
    },
    {
      "cell_type": "code",
      "execution_count": 7,
      "metadata": {
        "id": "w02GLPKNLTEJ"
      },
      "outputs": [],
      "source": [
        "import os\n",
        "import sys\n",
        "\n",
        "from time import time\n",
        "\n",
        "import numpy as np\n",
        "import matplotlib.pyplot as plt\n",
        "from PIL import Image\n",
        "\n",
        "import torch\n",
        "import torch.nn as nn\n",
        "import torch.nn.functional as F\n",
        "from torch import optim\n",
        "from torch.utils.data import DataLoader\n",
        "from torchvision import datasets, transforms\n",
        "from torchvision.transforms import Compose, ToTensor, Normalize\n"
      ]
    },
    {
      "cell_type": "code",
      "execution_count": 8,
      "metadata": {
        "id": "2077QcCUMIym"
      },
      "outputs": [],
      "source": [
        "BATCH_SIZE = 64\n",
        "NUM_WORKERS = 2\n",
        "if torch.cuda.is_available():\n",
        "  DEVICE = torch.device('cuda')\n",
        "else:\n",
        "  DEVICE = torch.device('cpu')\n"
      ]
    },
    {
      "cell_type": "code",
      "execution_count": 9,
      "metadata": {
        "id": "_h07tFQRLwHm"
      },
      "outputs": [
        {
          "name": "stdout",
          "output_type": "stream",
          "text": [
            "Files already downloaded and verified\n",
            "Files already downloaded and verified\n"
          ]
        }
      ],
      "source": [
        "transform=transforms.Compose([\n",
        "                              ToTensor(),\n",
        "                              Normalize((0.5, 0.5, 0.5), (0.5, 0.5, 0.5))\n",
        "                              ])\n",
        "train = datasets.CIFAR10('../data',\n",
        "                         train=True,\n",
        "                         download=True,\n",
        "                         transform=transform)\n",
        "test = datasets.CIFAR10('../data',\n",
        "                        train=False,\n",
        "                        download=True,\n",
        "                        transform=transform)\n",
        "train_loader = torch.utils.data.DataLoader(train,\n",
        "                                           batch_size=BATCH_SIZE,\n",
        "                                           num_workers=NUM_WORKERS,\n",
        "                                           shuffle=True)\n",
        "test_loader = torch.utils.data.DataLoader(test,\n",
        "                                          batch_size=BATCH_SIZE,\n",
        "                                          num_workers=NUM_WORKERS,\n",
        "                                          shuffle=True)\n"
      ]
    },
    {
      "cell_type": "code",
      "execution_count": 11,
      "metadata": {},
      "outputs": [
        {
          "data": {
            "text/plain": [
              "157"
            ]
          },
          "execution_count": 11,
          "metadata": {},
          "output_type": "execute_result"
        }
      ],
      "source": [
        "len(test_loader)"
      ]
    },
    {
      "cell_type": "markdown",
      "metadata": {
        "id": "i14ms2fzMc9Q"
      },
      "source": [
        "## Models"
      ]
    },
    {
      "cell_type": "markdown",
      "metadata": {
        "id": "bLuHwBaorM5C"
      },
      "source": [
        "### Test cells"
      ]
    },
    {
      "cell_type": "code",
      "execution_count": 6,
      "metadata": {
        "id": "gnUMySSJhk2t"
      },
      "outputs": [
        {
          "ename": "RuntimeError",
          "evalue": "Calculated padded input size per channel: (2 x 2). Kernel size: (3 x 3). Kernel size can't be greater than actual input size",
          "output_type": "error",
          "traceback": [
            "\u001b[0;31m---------------------------------------------------------------------------\u001b[0m",
            "\u001b[0;31mRuntimeError\u001b[0m                              Traceback (most recent call last)",
            "\u001b[1;32m/Users/nikolai/CV (Falaleev)/Autoencoder/Autoencoder.ipynb Cell 8'\u001b[0m in \u001b[0;36m<cell line: 62>\u001b[0;34m()\u001b[0m\n\u001b[1;32m     <a href='vscode-notebook-cell:/Users/nikolai/CV%20%28Falaleev%29/Autoencoder/Autoencoder.ipynb#ch0000007?line=59'>60</a>\u001b[0m m \u001b[39m=\u001b[39m simple_conv_block(input_channels\u001b[39m=\u001b[39m\u001b[39m3\u001b[39m, output_channels\u001b[39m=\u001b[39m\u001b[39m30\u001b[39m)\n\u001b[1;32m     <a href='vscode-notebook-cell:/Users/nikolai/CV%20%28Falaleev%29/Autoencoder/Autoencoder.ipynb#ch0000007?line=60'>61</a>\u001b[0m \u001b[39m#m(fake).shape\u001b[39;00m\n\u001b[0;32m---> <a href='vscode-notebook-cell:/Users/nikolai/CV%20%28Falaleev%29/Autoencoder/Autoencoder.ipynb#ch0000007?line=61'>62</a>\u001b[0m encoder(fake)\u001b[39m.\u001b[39mshape\n",
            "File \u001b[0;32m/Library/Frameworks/Python.framework/Versions/3.10/lib/python3.10/site-packages/torch/nn/modules/module.py:1110\u001b[0m, in \u001b[0;36mModule._call_impl\u001b[0;34m(self, *input, **kwargs)\u001b[0m\n\u001b[1;32m   1106\u001b[0m \u001b[39m# If we don't have any hooks, we want to skip the rest of the logic in\u001b[39;00m\n\u001b[1;32m   1107\u001b[0m \u001b[39m# this function, and just call forward.\u001b[39;00m\n\u001b[1;32m   1108\u001b[0m \u001b[39mif\u001b[39;00m \u001b[39mnot\u001b[39;00m (\u001b[39mself\u001b[39m\u001b[39m.\u001b[39m_backward_hooks \u001b[39mor\u001b[39;00m \u001b[39mself\u001b[39m\u001b[39m.\u001b[39m_forward_hooks \u001b[39mor\u001b[39;00m \u001b[39mself\u001b[39m\u001b[39m.\u001b[39m_forward_pre_hooks \u001b[39mor\u001b[39;00m _global_backward_hooks\n\u001b[1;32m   1109\u001b[0m         \u001b[39mor\u001b[39;00m _global_forward_hooks \u001b[39mor\u001b[39;00m _global_forward_pre_hooks):\n\u001b[0;32m-> 1110\u001b[0m     \u001b[39mreturn\u001b[39;00m forward_call(\u001b[39m*\u001b[39;49m\u001b[39minput\u001b[39;49m, \u001b[39m*\u001b[39;49m\u001b[39m*\u001b[39;49mkwargs)\n\u001b[1;32m   1111\u001b[0m \u001b[39m# Do not call functions when jit is used\u001b[39;00m\n\u001b[1;32m   1112\u001b[0m full_backward_hooks, non_full_backward_hooks \u001b[39m=\u001b[39m [], []\n",
            "File \u001b[0;32m/Library/Frameworks/Python.framework/Versions/3.10/lib/python3.10/site-packages/torch/nn/modules/container.py:141\u001b[0m, in \u001b[0;36mSequential.forward\u001b[0;34m(self, input)\u001b[0m\n\u001b[1;32m    139\u001b[0m \u001b[39mdef\u001b[39;00m \u001b[39mforward\u001b[39m(\u001b[39mself\u001b[39m, \u001b[39minput\u001b[39m):\n\u001b[1;32m    140\u001b[0m     \u001b[39mfor\u001b[39;00m module \u001b[39min\u001b[39;00m \u001b[39mself\u001b[39m:\n\u001b[0;32m--> 141\u001b[0m         \u001b[39minput\u001b[39m \u001b[39m=\u001b[39m module(\u001b[39minput\u001b[39;49m)\n\u001b[1;32m    142\u001b[0m     \u001b[39mreturn\u001b[39;00m \u001b[39minput\u001b[39m\n",
            "File \u001b[0;32m/Library/Frameworks/Python.framework/Versions/3.10/lib/python3.10/site-packages/torch/nn/modules/module.py:1110\u001b[0m, in \u001b[0;36mModule._call_impl\u001b[0;34m(self, *input, **kwargs)\u001b[0m\n\u001b[1;32m   1106\u001b[0m \u001b[39m# If we don't have any hooks, we want to skip the rest of the logic in\u001b[39;00m\n\u001b[1;32m   1107\u001b[0m \u001b[39m# this function, and just call forward.\u001b[39;00m\n\u001b[1;32m   1108\u001b[0m \u001b[39mif\u001b[39;00m \u001b[39mnot\u001b[39;00m (\u001b[39mself\u001b[39m\u001b[39m.\u001b[39m_backward_hooks \u001b[39mor\u001b[39;00m \u001b[39mself\u001b[39m\u001b[39m.\u001b[39m_forward_hooks \u001b[39mor\u001b[39;00m \u001b[39mself\u001b[39m\u001b[39m.\u001b[39m_forward_pre_hooks \u001b[39mor\u001b[39;00m _global_backward_hooks\n\u001b[1;32m   1109\u001b[0m         \u001b[39mor\u001b[39;00m _global_forward_hooks \u001b[39mor\u001b[39;00m _global_forward_pre_hooks):\n\u001b[0;32m-> 1110\u001b[0m     \u001b[39mreturn\u001b[39;00m forward_call(\u001b[39m*\u001b[39;49m\u001b[39minput\u001b[39;49m, \u001b[39m*\u001b[39;49m\u001b[39m*\u001b[39;49mkwargs)\n\u001b[1;32m   1111\u001b[0m \u001b[39m# Do not call functions when jit is used\u001b[39;00m\n\u001b[1;32m   1112\u001b[0m full_backward_hooks, non_full_backward_hooks \u001b[39m=\u001b[39m [], []\n",
            "File \u001b[0;32m/Library/Frameworks/Python.framework/Versions/3.10/lib/python3.10/site-packages/torch/nn/modules/container.py:141\u001b[0m, in \u001b[0;36mSequential.forward\u001b[0;34m(self, input)\u001b[0m\n\u001b[1;32m    139\u001b[0m \u001b[39mdef\u001b[39;00m \u001b[39mforward\u001b[39m(\u001b[39mself\u001b[39m, \u001b[39minput\u001b[39m):\n\u001b[1;32m    140\u001b[0m     \u001b[39mfor\u001b[39;00m module \u001b[39min\u001b[39;00m \u001b[39mself\u001b[39m:\n\u001b[0;32m--> 141\u001b[0m         \u001b[39minput\u001b[39m \u001b[39m=\u001b[39m module(\u001b[39minput\u001b[39;49m)\n\u001b[1;32m    142\u001b[0m     \u001b[39mreturn\u001b[39;00m \u001b[39minput\u001b[39m\n",
            "File \u001b[0;32m/Library/Frameworks/Python.framework/Versions/3.10/lib/python3.10/site-packages/torch/nn/modules/module.py:1110\u001b[0m, in \u001b[0;36mModule._call_impl\u001b[0;34m(self, *input, **kwargs)\u001b[0m\n\u001b[1;32m   1106\u001b[0m \u001b[39m# If we don't have any hooks, we want to skip the rest of the logic in\u001b[39;00m\n\u001b[1;32m   1107\u001b[0m \u001b[39m# this function, and just call forward.\u001b[39;00m\n\u001b[1;32m   1108\u001b[0m \u001b[39mif\u001b[39;00m \u001b[39mnot\u001b[39;00m (\u001b[39mself\u001b[39m\u001b[39m.\u001b[39m_backward_hooks \u001b[39mor\u001b[39;00m \u001b[39mself\u001b[39m\u001b[39m.\u001b[39m_forward_hooks \u001b[39mor\u001b[39;00m \u001b[39mself\u001b[39m\u001b[39m.\u001b[39m_forward_pre_hooks \u001b[39mor\u001b[39;00m _global_backward_hooks\n\u001b[1;32m   1109\u001b[0m         \u001b[39mor\u001b[39;00m _global_forward_hooks \u001b[39mor\u001b[39;00m _global_forward_pre_hooks):\n\u001b[0;32m-> 1110\u001b[0m     \u001b[39mreturn\u001b[39;00m forward_call(\u001b[39m*\u001b[39;49m\u001b[39minput\u001b[39;49m, \u001b[39m*\u001b[39;49m\u001b[39m*\u001b[39;49mkwargs)\n\u001b[1;32m   1111\u001b[0m \u001b[39m# Do not call functions when jit is used\u001b[39;00m\n\u001b[1;32m   1112\u001b[0m full_backward_hooks, non_full_backward_hooks \u001b[39m=\u001b[39m [], []\n",
            "File \u001b[0;32m/Library/Frameworks/Python.framework/Versions/3.10/lib/python3.10/site-packages/torch/nn/modules/conv.py:447\u001b[0m, in \u001b[0;36mConv2d.forward\u001b[0;34m(self, input)\u001b[0m\n\u001b[1;32m    446\u001b[0m \u001b[39mdef\u001b[39;00m \u001b[39mforward\u001b[39m(\u001b[39mself\u001b[39m, \u001b[39minput\u001b[39m: Tensor) \u001b[39m-\u001b[39m\u001b[39m>\u001b[39m Tensor:\n\u001b[0;32m--> 447\u001b[0m     \u001b[39mreturn\u001b[39;00m \u001b[39mself\u001b[39;49m\u001b[39m.\u001b[39;49m_conv_forward(\u001b[39minput\u001b[39;49m, \u001b[39mself\u001b[39;49m\u001b[39m.\u001b[39;49mweight, \u001b[39mself\u001b[39;49m\u001b[39m.\u001b[39;49mbias)\n",
            "File \u001b[0;32m/Library/Frameworks/Python.framework/Versions/3.10/lib/python3.10/site-packages/torch/nn/modules/conv.py:443\u001b[0m, in \u001b[0;36mConv2d._conv_forward\u001b[0;34m(self, input, weight, bias)\u001b[0m\n\u001b[1;32m    439\u001b[0m \u001b[39mif\u001b[39;00m \u001b[39mself\u001b[39m\u001b[39m.\u001b[39mpadding_mode \u001b[39m!=\u001b[39m \u001b[39m'\u001b[39m\u001b[39mzeros\u001b[39m\u001b[39m'\u001b[39m:\n\u001b[1;32m    440\u001b[0m     \u001b[39mreturn\u001b[39;00m F\u001b[39m.\u001b[39mconv2d(F\u001b[39m.\u001b[39mpad(\u001b[39minput\u001b[39m, \u001b[39mself\u001b[39m\u001b[39m.\u001b[39m_reversed_padding_repeated_twice, mode\u001b[39m=\u001b[39m\u001b[39mself\u001b[39m\u001b[39m.\u001b[39mpadding_mode),\n\u001b[1;32m    441\u001b[0m                     weight, bias, \u001b[39mself\u001b[39m\u001b[39m.\u001b[39mstride,\n\u001b[1;32m    442\u001b[0m                     _pair(\u001b[39m0\u001b[39m), \u001b[39mself\u001b[39m\u001b[39m.\u001b[39mdilation, \u001b[39mself\u001b[39m\u001b[39m.\u001b[39mgroups)\n\u001b[0;32m--> 443\u001b[0m \u001b[39mreturn\u001b[39;00m F\u001b[39m.\u001b[39;49mconv2d(\u001b[39minput\u001b[39;49m, weight, bias, \u001b[39mself\u001b[39;49m\u001b[39m.\u001b[39;49mstride,\n\u001b[1;32m    444\u001b[0m                 \u001b[39mself\u001b[39;49m\u001b[39m.\u001b[39;49mpadding, \u001b[39mself\u001b[39;49m\u001b[39m.\u001b[39;49mdilation, \u001b[39mself\u001b[39;49m\u001b[39m.\u001b[39;49mgroups)\n",
            "\u001b[0;31mRuntimeError\u001b[0m: Calculated padded input size per channel: (2 x 2). Kernel size: (3 x 3). Kernel size can't be greater than actual input size"
          ]
        }
      ],
      "source": [
        "def simple_conv_block(decoder: bool = False,\n",
        "                      input_channels: int = 3,\n",
        "                      output_channels: int = 3,\n",
        "                      kernel_size: int = 3,\n",
        "                      stride: int = 1,\n",
        "                      padding: int = 0,\n",
        "                      final_layer: bool = False) -> nn.Sequential:\n",
        "    if not decoder:\n",
        "      if not final_layer:\n",
        "        return nn.Sequential(\n",
        "            nn.Conv2d(in_channels=input_channels,\n",
        "                      out_channels=output_channels,\n",
        "                      kernel_size=kernel_size,\n",
        "                      stride=stride,\n",
        "                      padding=padding),\n",
        "            nn.BatchNorm2d(output_channels),\n",
        "            nn.MaxPool2d(kernel_size=3, stride=None, padding=0),\n",
        "            #nn.Dropout(p=0.2),\n",
        "            nn.LeakyReLU(0.2)\n",
        "            )\n",
        "      else:  # Final Layer\n",
        "        return nn.Sequential(\n",
        "            nn.Conv2d(in_channels=input_channels,\n",
        "                      out_channels=output_channels,\n",
        "                      kernel_size=kernel_size,\n",
        "                      padding=padding)\n",
        "            )\n",
        "    else:\n",
        "        if not final_layer:\n",
        "                return nn.Sequential(\n",
        "                    nn.ConvTranspose2d(in_channels=input_channels,\n",
        "                              out_channels=output_channels,\n",
        "                              kernel_size=kernel_size,\n",
        "                              padding=padding),\n",
        "                    nn.BatchNorm2d(output_channels),\n",
        "                    #nn.Dropout(p=0.2),\n",
        "                    nn.LeakyReLU(0.2)\n",
        "                )\n",
        "        else:\n",
        "                return nn.Sequential(\n",
        "                    nn.ConvTranspose2d(in_channels=input_channels,\n",
        "                              out_channels=output_channels,\n",
        "                              kernel_size=kernel_size,\n",
        "                              padding=padding)\n",
        "                )\n",
        "        \n",
        "encoder = nn.Sequential(simple_conv_block(input_channels=3,\n",
        "                                          output_channels=30),\n",
        "                        simple_conv_block(input_channels=30,\n",
        "                                          output_channels=60),\n",
        "                        simple_conv_block(input_channels=60,\n",
        "                                          output_channels=120,\n",
        "                                          final_layer=True),\n",
        "                        simple_conv_block(input_channels=120,\n",
        "                                          output_channels=240,\n",
        "                                          final_layer=True),\n",
        "        )\n",
        "\n",
        "fake = torch.randn(64, 3, 32, 32)\n",
        "m = simple_conv_block(input_channels=3, output_channels=30)\n",
        "#m(fake).shape\n",
        "encoder(fake).shape"
      ]
    },
    {
      "cell_type": "code",
      "execution_count": 5,
      "metadata": {
        "id": "c2AB_o0GeFNs"
      },
      "outputs": [
        {
          "name": "stdout",
          "output_type": "stream",
          "text": [
            "torch.Size([64, 60, 10, 10])\n",
            "torch.Size([64, 3, 12, 12])\n"
          ]
        }
      ],
      "source": [
        "fake = torch.randn(64, 3, 32, 32)\n",
        "m = nn.Conv2d(3, 30, 3, 3)\n",
        "a = m(fake)\n",
        "m_1 = nn.ConvTranspose2d(60, 3, 3, 1,)\n",
        "b = m_1(a)\n",
        "print(a.shape)\n",
        "print(b.shape)\n",
        "#fake = torch.randn(64, 3, 32, 32).to(DEVICE)\n",
        "#model(fake).shape"
      ]
    },
    {
      "cell_type": "code",
      "execution_count": null,
      "metadata": {
        "id": "hkBonpGs35IA"
      },
      "outputs": [],
      "source": [
        "layers = []\n",
        "channels = [3, 30, 120]#, 240]\n",
        "for i in range(len(channels)-1):\n",
        "    if channels[i] != channels[-2]:\n",
        "        layers.append(simple_conv_block(input_channels=channels[i],\n",
        "                                             output_channels=channels[i+1]))\n",
        "    else:\n",
        "        layers.append(simple_conv_block(input_channels=channels[i],\n",
        "                                             output_channels=channels[i+1],\n",
        "                                             final_layer=True))\n",
        "encoder = nn.Sequential(*layers)\n",
        "fake = torch.randn(64, 3, 32, 32)\n",
        "print(fake.shape)\n",
        "#flatten = nn.Flatten()\n",
        "#fake=flatten(fake)\n",
        "#print(fake.shape)\n",
        "#print(encoder)\n",
        "encoder(fake).shape"
      ]
    },
    {
      "cell_type": "markdown",
      "metadata": {
        "id": "KfftygNsrRWk"
      },
      "source": [
        "### Model"
      ]
    },
    {
      "cell_type": "code",
      "execution_count": 12,
      "metadata": {},
      "outputs": [],
      "source": [
        "from models import Autoencoder\n",
        "model = Autoencoder()"
      ]
    },
    {
      "cell_type": "code",
      "execution_count": 14,
      "metadata": {},
      "outputs": [
        {
          "name": "stdout",
          "output_type": "stream",
          "text": [
            "Autoencoder(\n",
            "  (encoder): Sequential(\n",
            "    (0): Sequential(\n",
            "      (0): Conv2d(3, 60, kernel_size=(4, 4), stride=(2, 2), padding=(1, 1))\n",
            "      (1): BatchNorm2d(60, eps=1e-05, momentum=0.1, affine=True, track_running_stats=True)\n",
            "      (2): Dropout(p=0.2, inplace=False)\n",
            "      (3): LeakyReLU(negative_slope=0.2)\n",
            "    )\n",
            "    (1): Sequential(\n",
            "      (0): Conv2d(60, 120, kernel_size=(4, 4), stride=(2, 2), padding=(1, 1))\n",
            "      (1): BatchNorm2d(120, eps=1e-05, momentum=0.1, affine=True, track_running_stats=True)\n",
            "      (2): Dropout(p=0.2, inplace=False)\n",
            "      (3): LeakyReLU(negative_slope=0.2)\n",
            "    )\n",
            "    (2): Sequential(\n",
            "      (0): Conv2d(120, 240, kernel_size=(4, 4), stride=(2, 2), padding=(1, 1))\n",
            "    )\n",
            "  )\n",
            "  (flatten): Flatten(start_dim=1, end_dim=-1)\n",
            "  (linear): Linear(in_features=3840, out_features=300, bias=True)\n",
            "  (rev_linear): Linear(in_features=300, out_features=3840, bias=True)\n",
            "  (decoder): Sequential(\n",
            "    (0): Sequential(\n",
            "      (0): ConvTranspose2d(240, 120, kernel_size=(4, 4), stride=(2, 2), padding=(1, 1))\n",
            "      (1): BatchNorm2d(120, eps=1e-05, momentum=0.1, affine=True, track_running_stats=True)\n",
            "      (2): Dropout(p=0.2, inplace=False)\n",
            "      (3): LeakyReLU(negative_slope=0.2)\n",
            "    )\n",
            "    (1): Sequential(\n",
            "      (0): ConvTranspose2d(120, 60, kernel_size=(4, 4), stride=(2, 2), padding=(1, 1))\n",
            "      (1): BatchNorm2d(60, eps=1e-05, momentum=0.1, affine=True, track_running_stats=True)\n",
            "      (2): Dropout(p=0.2, inplace=False)\n",
            "      (3): LeakyReLU(negative_slope=0.2)\n",
            "    )\n",
            "    (2): Sequential(\n",
            "      (0): ConvTranspose2d(60, 3, kernel_size=(4, 4), stride=(2, 2), padding=(1, 1))\n",
            "    )\n",
            "  )\n",
            ")\n"
          ]
        }
      ],
      "source": [
        "print(model)"
      ]
    },
    {
      "cell_type": "code",
      "execution_count": null,
      "metadata": {
        "id": "ht3baJMLFgdN"
      },
      "outputs": [],
      "source": [
        "class Autoencoder(nn.Module):\n",
        "    def __init__(self):\n",
        "        super(Autoencoder, self).__init__()\n",
        "        self.channels = [3, 60, 120, 240]\n",
        "        self.hidden_state = 300\n",
        "        self.encoder = self.encoder_layers()\n",
        "        self.flatten = nn.Flatten()\n",
        "        self.lin_neurons = [240, 4, 4]\n",
        "        self.enc_neurons = np.prod(self.lin_neurons)\n",
        "        self.linear = nn.Linear(self.enc_neurons,\n",
        "                                self.hidden_state)\n",
        "        self.rev_linear = nn.Linear(self.hidden_state,\n",
        "                                    self.enc_neurons)\n",
        "        self.decoder = self.decoder_layers()\n",
        "\n",
        "\n",
        "    def simple_enc_block(self,\n",
        "                         input_channels: int = 3,\n",
        "                         output_channels: int = 3,\n",
        "                         kernel_size: int = 4,\n",
        "                         stride: int = 2,\n",
        "                         padding: int = 1,\n",
        "                         final_layer: bool = False) -> nn.Sequential:\n",
        "        if not final_layer:\n",
        "            return nn.Sequential(\n",
        "                nn.Conv2d(in_channels=input_channels,\n",
        "                          out_channels=output_channels,\n",
        "                          kernel_size=kernel_size,\n",
        "                          stride=stride,\n",
        "                          padding=padding),\n",
        "                nn.BatchNorm2d(output_channels),\n",
        "                #nn.MaxPool2d(kernel_size=2, stride=2, padding=1),\n",
        "                nn.Dropout(p=0.2),\n",
        "                nn.LeakyReLU(0.2)\n",
        "                )\n",
        "        else:\n",
        "            return nn.Sequential(\n",
        "                nn.Conv2d(in_channels=input_channels,\n",
        "                          out_channels=output_channels,\n",
        "                          kernel_size=kernel_size,\n",
        "                          stride=stride,\n",
        "                          padding=padding)\n",
        "                )\n",
        "\n",
        "\n",
        "    def encoder_layers(self) -> nn.Sequential:\n",
        "        layers = []\n",
        "        for i in range(len(self.channels)-1):\n",
        "            if self.channels[i] != self.channels[-2]:\n",
        "                layers.append(self.simple_enc_block(input_channels=self.channels[i],\n",
        "                                                     output_channels=self.channels[i+1]))\n",
        "            else:\n",
        "                layers.append(self.simple_enc_block(input_channels=self.channels[i],\n",
        "                                                     output_channels=self.channels[i+1],\n",
        "                                                     final_layer=True))\n",
        "        return nn.Sequential(*layers)\n",
        "    \n",
        "    \n",
        "    def simple_dec_block(self,\n",
        "                         input_channels: int = 3,\n",
        "                         output_channels: int = 3,\n",
        "                         kernel_size: int = 4,\n",
        "                         stride: int = 2,\n",
        "                         padding: int = 1,\n",
        "                         final_layer: bool = False) -> nn.Sequential:\n",
        "        if not final_layer:\n",
        "            return nn.Sequential(\n",
        "                nn.ConvTranspose2d(in_channels=input_channels,\n",
        "                                   out_channels=output_channels,\n",
        "                                   kernel_size=kernel_size,\n",
        "                                   stride=stride,\n",
        "                                   padding=padding),\n",
        "                nn.BatchNorm2d(output_channels),\n",
        "                nn.Dropout(p=0.2),\n",
        "                nn.LeakyReLU(0.2)\n",
        "                )\n",
        "        else:\n",
        "            return nn.Sequential(\n",
        "                nn.ConvTranspose2d(in_channels=input_channels,\n",
        "                                   out_channels=output_channels,\n",
        "                                   kernel_size=kernel_size,\n",
        "                                   stride=stride,\n",
        "                                   padding=padding)\n",
        "                )\n",
        "\n",
        "\n",
        "    def decoder_layers(self) -> nn.Sequential:\n",
        "        layers = []\n",
        "        dec_channels = list(reversed(self.channels))\n",
        "        for i in range(len(dec_channels)-1):\n",
        "            if dec_channels[i] != dec_channels[-2]:\n",
        "                layers.append(self.simple_dec_block(input_channels=dec_channels[i],\n",
        "                                                    output_channels=dec_channels[i+1]))\n",
        "            else:\n",
        "                layers.append(self.simple_dec_block(input_channels=dec_channels[i],\n",
        "                                                    output_channels=dec_channels[i+1],\n",
        "                                                    final_layer=True))\n",
        "        return nn.Sequential(*layers)\n",
        "\n",
        "\n",
        "    def forward(self, x):\n",
        "        encoded = self.encoder(x)\n",
        "        hidden_layer = torch.flatten(encoded, start_dim = 1)\n",
        "        hidden_layer = self.linear(hidden_layer)\n",
        "        hidden_layer = self.rev_linear(hidden_layer)\n",
        "        hidden_layer = hidden_layer.view(-1, *self.lin_neurons)\n",
        "        decoded = self.decoder(hidden_layer)\n",
        "        return decoded\n",
        "    \n",
        "\n",
        "model = Autoencoder().to(DEVICE)"
      ]
    },
    {
      "cell_type": "code",
      "execution_count": null,
      "metadata": {
        "id": "1DVA762tKXYB"
      },
      "outputs": [],
      "source": [
        "fake = torch.randn(64, 3, 32, 32).to(DEVICE)\n",
        "print(fake.shape)\n",
        "print(model(fake).shape)\n",
        "a = Autoencoder()\n",
        "b=a.encoder_layers().to(DEVICE)\n",
        "#print(b)\n",
        "b(fake).shape"
      ]
    },
    {
      "cell_type": "code",
      "execution_count": null,
      "metadata": {
        "id": "DQM8mIj0WZNi"
      },
      "outputs": [],
      "source": [
        "def MSE(fake: torch.Tensor,\n",
        "        image: torch.Tensor) -> torch.Tensor:\n",
        "    return torch.mean((fake - image)**2)\n",
        "\n",
        "\n",
        "def train(model: nn.Sequential,\n",
        "          train_loader: DataLoader,\n",
        "          optimizer: torch.optim,\n",
        "          device: torch.device) -> None:\n",
        "    for images, _ in train_loader:\n",
        "        images = images.to(DEVICE)\n",
        "        optimizer.zero_grad()\n",
        "        outputs = model(images)\n",
        "        batch_loss = MSE(outputs, images)\n",
        "        batch_loss.backward()\n",
        "        optimizer.step()\n",
        "\n",
        "\n",
        "def test(model: nn.Sequential,\n",
        "         test_loader: DataLoader,\n",
        "         device: torch.device) -> float:\n",
        "    model.eval()\n",
        "    test_loss = 0\n",
        "    acc = 0\n",
        "    with torch.no_grad():\n",
        "        for images, _ in test_loader:\n",
        "            images = images.to(DEVICE)\n",
        "            output = model(images)\n",
        "            loss = MSE(output, images)\n",
        "            test_loss += loss.item()\n",
        "    return test_loss / len(test_loader.dataset)"
      ]
    },
    {
      "cell_type": "code",
      "execution_count": null,
      "metadata": {
        "id": "RtxjR-Tjufv9"
      },
      "outputs": [],
      "source": [
        "epochs = 100\n",
        "running_loss = 0.0\n",
        "lr = 0.001\n",
        "test_loss_list = []\n",
        "eps = 1e-4\n",
        "\n",
        "model = Autoencoder().to(DEVICE)\n",
        "optimizer = torch.optim.Adam(model.parameters(), lr=lr)\n",
        "scheduler = torch.optim.lr_scheduler.ReduceLROnPlateau(optimizer, 'min')\n",
        "\n",
        "t0 = time()\n",
        "\n",
        "for epoch in range(epochs):\n",
        "    loss = 0.0\n",
        "    train(model, train_loader, optimizer, DEVICE)\n",
        "    test_loss = test(model, train_loader, DEVICE)\n",
        "    test_loss_list.append(test_loss)\n",
        "    t1 = (time() - t0) / 60\n",
        "    print('Epoch: {}, test loss: {:.5f}, '.format(epoch+1, test_loss) + \n",
        "            'time: {:.2f} min'.format(t1))\n",
        "    if epoch > 2:\n",
        "        if max(test_loss_list[-5:]) - min(test_loss_list[-5:]) > eps:\n",
        "            continue\n",
        "        else:\n",
        "            break\n",
        "print('Finish!')\n"
      ]
    },
    {
      "cell_type": "code",
      "execution_count": null,
      "metadata": {
        "id": "Ss8XWQ8Hv-GT"
      },
      "outputs": [],
      "source": [
        "plt.plot(range(1, len(test_loss_list) + 1), test_loss_list)\n",
        "plt.show()"
      ]
    },
    {
      "cell_type": "code",
      "execution_count": null,
      "metadata": {
        "id": "mEBXemhvxsoL"
      },
      "outputs": [],
      "source": [
        "%matplotlib inline\n",
        "import matplotlib.pyplot as plt\n",
        "import numpy as np\n",
        "from torchvision.utils import save_image\n",
        "\n",
        "def imshow(img, im_name):\n",
        "    img = img.detach().cpu()\n",
        "    save_image(img, im_name)\n",
        "    npimg = img.numpy()\n",
        "    plt.axis('off')\n",
        "    npimg = np.transpose(npimg, (1, 2, 0))\n",
        "    #im = Image.fromarray(npimg)\n",
        "    #im.save(im_name)\n",
        "    #plt.imsave(im_name, npimg/)\n",
        "    plt.imshow(npimg)\n",
        "    plt.show()\n",
        "\n",
        "\n",
        "def get_file_size_in_bytes(file_path):\n",
        "   size = os.path.getsize(file_path)\n",
        "   return size\n",
        "\n",
        "\n",
        "for i, (im, lab) in enumerate(train_loader):\n",
        "    print(im.shape)\n",
        "    print(lab[0])\n",
        "    imshow(im[0], '/content/image.jpeg')\n",
        "    fake = model(im.to(DEVICE))\n",
        "    print(fake.shape)\n",
        "    imshow(fake[0], '/content/fake.jpeg')\n",
        "    real_size = get_file_size_in_bytes('/content/image.jpeg')\n",
        "    compressed_state=model.encoder_layers()\n",
        "    jpeg_comp_rate = 3*32*32 / real_size\n",
        "    #ae_comp_rate = sys.getsizeof(fake[0]) / sys.getsizeof(compressed_state(im)[0])\n",
        "    ae_comp_rate = 3*32*32 / sys.getsizeof(compressed_state(im)[0])\n",
        "    print('jpeg ompression rate : {:.2f}'.format(jpeg_comp_rate))\n",
        "    print('AE ompression rate : {:.2f}'.format(ae_comp_rate))\n",
        "    break\n",
        "\n"
      ]
    },
    {
      "cell_type": "code",
      "execution_count": null,
      "metadata": {
        "id": "Xd0AqceTD2iU"
      },
      "outputs": [],
      "source": []
    }
  ],
  "metadata": {
    "accelerator": "GPU",
    "colab": {
      "authorship_tag": "ABX9TyPxdR+6gX+E9FWzQQA2csiK",
      "include_colab_link": true,
      "name": "Untitled17.ipynb",
      "provenance": []
    },
    "kernelspec": {
      "display_name": "Python 3.10.4 64-bit",
      "language": "python",
      "name": "python3"
    },
    "language_info": {
      "codemirror_mode": {
        "name": "ipython",
        "version": 3
      },
      "file_extension": ".py",
      "mimetype": "text/x-python",
      "name": "python",
      "nbconvert_exporter": "python",
      "pygments_lexer": "ipython3",
      "version": "3.10.4"
    },
    "vscode": {
      "interpreter": {
        "hash": "7e1998ff7f8aa20ada591c520b972326324e5ea05489af9e422744c7c09f6dad"
      }
    }
  },
  "nbformat": 4,
  "nbformat_minor": 0
}
