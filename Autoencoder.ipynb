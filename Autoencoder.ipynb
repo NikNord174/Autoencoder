{
  "cells": [
    {
      "cell_type": "markdown",
      "metadata": {
        "id": "nt2Axcc5LT4q"
      },
      "source": [
        "# Autoencoder"
      ]
    },
    {
      "cell_type": "markdown",
      "metadata": {
        "id": "SHXXNaXIMv5-"
      },
      "source": [
        "## Packages and data import"
      ]
    },
    {
      "cell_type": "code",
      "execution_count": 1,
      "metadata": {
        "id": "w02GLPKNLTEJ"
      },
      "outputs": [],
      "source": [
        "import os\n",
        "import sys\n",
        "\n",
        "from time import time\n",
        "\n",
        "import numpy as np\n",
        "import matplotlib.pyplot as plt\n",
        "from PIL import Image\n",
        "\n",
        "import torch\n",
        "import torch.nn as nn\n",
        "import torch.nn.functional as F\n",
        "from torch import optim\n",
        "from torch.utils.data import DataLoader\n",
        "from torchvision import datasets, transforms\n",
        "from torchvision.transforms import Compose, ToTensor, Normalize\n",
        "from torch.nn.modules.container import Sequential\n"
      ]
    },
    {
      "cell_type": "code",
      "execution_count": 3,
      "metadata": {
        "id": "2077QcCUMIym"
      },
      "outputs": [],
      "source": [
        "BATCH_SIZE = 64\n",
        "NUM_WORKERS = 2\n",
        "if torch.cuda.is_available():\n",
        "    DEVICE = torch.device('cuda')\n",
        "elif torch.backends.mps.is_available():\n",
        "    DEVICE = torch.device('mps')\n",
        "else:\n",
        "    DEVICE = torch.device('cpu')"
      ]
    },
    {
      "cell_type": "code",
      "execution_count": null,
      "metadata": {
        "id": "_h07tFQRLwHm"
      },
      "outputs": [],
      "source": [
        "transform=transforms.Compose([\n",
        "                              ToTensor(),\n",
        "                              Normalize((0.5, 0.5, 0.5), (0.5, 0.5, 0.5))\n",
        "                              ])\n",
        "train = datasets.CIFAR10('../data',\n",
        "                         train=True,\n",
        "                         download=True,\n",
        "                         transform=transform)\n",
        "test = datasets.CIFAR10('../data',\n",
        "                        train=False,\n",
        "                        download=True,\n",
        "                        transform=transform)\n",
        "train_loader = torch.utils.data.DataLoader(train,\n",
        "                                           batch_size=BATCH_SIZE,\n",
        "                                           num_workers=NUM_WORKERS,\n",
        "                                           shuffle=True)\n",
        "test_loader = torch.utils.data.DataLoader(test,\n",
        "                                          batch_size=BATCH_SIZE,\n",
        "                                          num_workers=NUM_WORKERS,\n",
        "                                          shuffle=True)\n"
      ]
    },
    {
      "cell_type": "markdown",
      "metadata": {
        "id": "KfftygNsrRWk"
      },
      "source": [
        "## Models"
      ]
    },
    {
      "cell_type": "markdown",
      "metadata": {
        "id": "OzenWK-7wl1w"
      },
      "source": [
        "### Autoencoder_Initial"
      ]
    },
    {
      "cell_type": "code",
      "execution_count": 6,
      "metadata": {
        "id": "a_HvV9KREizm"
      },
      "outputs": [],
      "source": [
        "class Autoencoder_Initial(nn.Module):\n",
        "    def __init__(self):\n",
        "        super(Autoencoder_Initial, self).__init__()\n",
        "        self.channels = [3, 60, 120, 240]\n",
        "        self.hidden_state = 300\n",
        "        self.encoder = self.encoder_layers(self.channels, self.simple_enc_block)\n",
        "        self.flatten = nn.Flatten()\n",
        "        self.lin_neurons = [240, 4, 4]\n",
        "        self.enc_neurons = np.prod(self.lin_neurons)\n",
        "        self.linear = nn.Linear(self.enc_neurons,\n",
        "                                self.hidden_state)\n",
        "        self.rev_linear = nn.Linear(self.hidden_state,\n",
        "                                    self.enc_neurons)\n",
        "        self.decoder = self.decoder_layers(self.channels, self.simple_dec_block)\n",
        "\n",
        "    def simple_enc_block(self,\n",
        "                         input_channels: int = 3,\n",
        "                         output_channels: int = 3,\n",
        "                         kernel_size: int = 4,\n",
        "                         stride: int = 2,\n",
        "                         padding: int = 1,\n",
        "                         final_layer: bool = False) -> Sequential:\n",
        "        if not final_layer:\n",
        "            return nn.Sequential(\n",
        "                nn.Conv2d(in_channels=input_channels,\n",
        "                          out_channels=output_channels,\n",
        "                          kernel_size=kernel_size,\n",
        "                          stride=stride,\n",
        "                          padding=padding),\n",
        "                nn.BatchNorm2d(output_channels),\n",
        "                nn.Dropout(p=0.2),\n",
        "                nn.LeakyReLU(0.2)\n",
        "                )\n",
        "        else:\n",
        "            return nn.Sequential(\n",
        "                nn.Conv2d(in_channels=input_channels,\n",
        "                          out_channels=output_channels,\n",
        "                          kernel_size=kernel_size,\n",
        "                          stride=stride,\n",
        "                          padding=padding)\n",
        "                )\n",
        "\n",
        "    def encoder_layers(self, channels, simple_enc_block) -> Sequential:\n",
        "        layers = []\n",
        "        for i in range(len(channels)-1):\n",
        "            if self.channels[i] != channels[-2]:\n",
        "                layers.append(simple_enc_block(\n",
        "                    input_channels=channels[i],\n",
        "                    output_channels=channels[i+1]\n",
        "                ))\n",
        "            else:\n",
        "                layers.append(simple_enc_block(\n",
        "                    input_channels=channels[i],\n",
        "                    output_channels=channels[i+1],\n",
        "                    final_layer=True\n",
        "                    ))\n",
        "        return nn.Sequential(*layers)\n",
        "\n",
        "    def simple_dec_block(self,\n",
        "                         input_channels: int = 3,\n",
        "                         output_channels: int = 3,\n",
        "                         kernel_size: int = 4,\n",
        "                         stride: int = 2,\n",
        "                         padding: int = 1,\n",
        "                         final_layer: bool = False) -> Sequential:\n",
        "        if not final_layer:\n",
        "            return nn.Sequential(\n",
        "                nn.ConvTranspose2d(in_channels=input_channels,\n",
        "                                   out_channels=output_channels,\n",
        "                                   kernel_size=kernel_size,\n",
        "                                   stride=stride,\n",
        "                                   padding=padding),\n",
        "                nn.BatchNorm2d(output_channels),\n",
        "                nn.Dropout(p=0.2),\n",
        "                nn.LeakyReLU(0.2)\n",
        "                )\n",
        "        else:\n",
        "            return nn.Sequential(\n",
        "                nn.ConvTranspose2d(in_channels=input_channels,\n",
        "                                   out_channels=output_channels,\n",
        "                                   kernel_size=kernel_size,\n",
        "                                   stride=stride,\n",
        "                                   padding=padding)\n",
        "                )\n",
        "\n",
        "    def decoder_layers(self, channels, simple_dec_block) -> Sequential:\n",
        "        layers = []\n",
        "        dec_channels = list(reversed(channels))\n",
        "        for i in range(len(dec_channels)-1):\n",
        "            if dec_channels[i] != dec_channels[-2]:\n",
        "                layers.append(simple_dec_block(\n",
        "                    input_channels=dec_channels[i],\n",
        "                    output_channels=dec_channels[i+1]\n",
        "                    ))\n",
        "            else:\n",
        "                layers.append(simple_dec_block(\n",
        "                    input_channels=dec_channels[i],\n",
        "                    output_channels=dec_channels[i+1],\n",
        "                    final_layer=True\n",
        "                    ))\n",
        "        return nn.Sequential(*layers)\n",
        "\n",
        "    def forward(self, x) -> torch.Tensor:\n",
        "        encoded = self.encoder(x)\n",
        "        hidden_layer = torch.flatten(encoded, start_dim=1)\n",
        "        hidden_layer = self.linear(hidden_layer)\n",
        "        hidden_layer = self.rev_linear(hidden_layer)\n",
        "        hidden_layer = hidden_layer.view(-1, *self.lin_neurons)\n",
        "        decoded = self.decoder(hidden_layer)\n",
        "        return decoded"
      ]
    },
    {
      "cell_type": "markdown",
      "metadata": {
        "id": "bJRQkJg1Eyms"
      },
      "source": [
        "### Autoencoder_ConvTranspose"
      ]
    },
    {
      "cell_type": "code",
      "execution_count": 7,
      "metadata": {
        "id": "ht3baJMLFgdN"
      },
      "outputs": [],
      "source": [
        "class Autoencoder_ConvTranspose(nn.Module):\n",
        "    def __init__(self):\n",
        "        super(Autoencoder_ConvTranspose, self).__init__()\n",
        "        self.channels = [3, 100, 200, 300]\n",
        "        self.encoder = Autoencoder_Initial().encoder_layers(\n",
        "            self.channels,\n",
        "            self.simple_enc_block\n",
        "        )\n",
        "        self.decoder = Autoencoder_Initial().decoder_layers(\n",
        "            self.channels,\n",
        "            self.simple_dec_block\n",
        "        )\n",
        "\n",
        "    def simple_enc_block(self,\n",
        "                         input_channels: int = 3,\n",
        "                         output_channels: int = 3,\n",
        "                         kernel_size: int = 3,\n",
        "                         final_layer: bool = False) -> Sequential:\n",
        "        if not final_layer:\n",
        "            return nn.Sequential(\n",
        "                nn.Conv2d(\n",
        "                    in_channels=input_channels,\n",
        "                    out_channels=output_channels,\n",
        "                    kernel_size=kernel_size,\n",
        "                ),\n",
        "                nn.BatchNorm2d(output_channels),\n",
        "                nn.MaxPool2d(kernel_size=3),\n",
        "                nn.Dropout(p=0.2),\n",
        "                nn.LeakyReLU(0.2)\n",
        "                )\n",
        "        else:\n",
        "            return nn.Sequential(\n",
        "                nn.Conv2d(\n",
        "                    in_channels=input_channels,\n",
        "                    out_channels=300,\n",
        "                    kernel_size=2,\n",
        "                ),\n",
        "                )\n",
        "\n",
        "    def simple_dec_block(self,\n",
        "                         input_channels: int = 3,\n",
        "                         output_channels: int = 3,\n",
        "                         kernel_size: int = 3,\n",
        "                         stride=2,\n",
        "                         dilation=2,\n",
        "                         output_padding=1,\n",
        "                         final_layer: bool = False) -> Sequential:\n",
        "        if not final_layer:\n",
        "            return nn.Sequential(\n",
        "                nn.ConvTranspose2d(in_channels=input_channels,\n",
        "                                   out_channels=output_channels,\n",
        "                                   kernel_size=kernel_size,\n",
        "                                   stride=stride,\n",
        "                                   dilation=dilation,\n",
        "                                   output_padding=output_padding,),\n",
        "                nn.BatchNorm2d(output_channels),\n",
        "                nn.Dropout(p=0.2),\n",
        "                nn.LeakyReLU(0.2)\n",
        "                )\n",
        "        else:\n",
        "            return nn.Sequential(\n",
        "                nn.ConvTranspose2d(in_channels=input_channels,\n",
        "                                   out_channels=output_channels,\n",
        "                                   kernel_size=kernel_size,\n",
        "                                   stride=stride,\n",
        "                                   dilation=1,\n",
        "                                   padding=1,\n",
        "                                   output_padding=1)\n",
        "                )\n",
        "\n",
        "    def forward(self, x) -> torch.Tensor:\n",
        "        encoded = self.encoder(x)\n",
        "        decoded = self.decoder(encoded)\n",
        "        return decoded"
      ]
    },
    {
      "cell_type": "markdown",
      "metadata": {
        "id": "pjbsmhefwxXp"
      },
      "source": [
        "### Autoencoder_Upsamling"
      ]
    },
    {
      "cell_type": "code",
      "execution_count": 82,
      "metadata": {
        "id": "X2E9kePOw025"
      },
      "outputs": [],
      "source": [
        "class Autoencoder_Upsampling(nn.Module):\n",
        "    def __init__(self):\n",
        "        super(Autoencoder_Upsampling, self).__init__()\n",
        "        self.channels = [3, 100, 200, 300]\n",
        "        simple_enc_block = self.simple_enc_block\n",
        "        self.encoder = self.layers(\n",
        "            channels=self.channels,\n",
        "            simple_block=simple_enc_block,\n",
        "            kernel_size=3\n",
        "        )\n",
        "        simple_dec_block = self.simple_dec_block\n",
        "        self.decoder = self.layers(\n",
        "            channels=list(reversed(self.channels)),\n",
        "            simple_block=simple_dec_block,\n",
        "            kernel_size=1\n",
        "        )\n",
        "        print(self.decoder)\n",
        "\n",
        "    def layers(self, channels, simple_block, kernel_size):\n",
        "        layers = []\n",
        "        for i in range(len(channels)-1):\n",
        "            layers.append(\n",
        "                self.simple_enc_block(\n",
        "                    input_channels=self.channels[i],\n",
        "                    output_channels=self.channels[i+1],\n",
        "                    kernel_size=kernel_size,\n",
        "                )\n",
        "            )\n",
        "        self.encoder = nn.Sequential(*layers)\n",
        "\n",
        "    def simple_enc_block(self,\n",
        "                         input_channels: int = 3,\n",
        "                         output_channels: int = 3,\n",
        "                         kernel_size: int = 3) -> Sequential:\n",
        "        return nn.Sequential(\n",
        "            nn.Conv2d(\n",
        "                in_channels=input_channels,\n",
        "                out_channels=output_channels,\n",
        "                kernel_size=kernel_size,\n",
        "            ),\n",
        "            nn.BatchNorm2d(output_channels),\n",
        "            nn.MaxPool2d(kernel_size=kernel_size),\n",
        "            nn.Dropout(p=0.2),\n",
        "            nn.LeakyReLU(0.2)\n",
        "        )\n",
        "\n",
        "    def simple_dec_block(self,\n",
        "                         input_channels: int = 3,\n",
        "                         output_channels: int = 3,\n",
        "                         kernel_size: int = 1,\n",
        "                         scale_factor: float = 4) -> Sequential:\n",
        "        return nn.Sequential(\n",
        "            nn.Conv2d(\n",
        "                in_channels=input_channels,\n",
        "                out_channels=output_channels,\n",
        "                kernel_size=kernel_size,\n",
        "            ),\n",
        "            nn.Upsample(scale_factor=scale_factor, mode='bilinear'),\n",
        "            nn.BatchNorm2d(output_channels),\n",
        "            nn.Dropout(p=0.2),\n",
        "            nn.LeakyReLU(0.2)\n",
        "        )\n",
        "\n",
        "    def forward(self, x) -> torch.Tensor:\n",
        "        encoded = self.encoder(x)\n",
        "        decoded = self.decoder(encoded)\n",
        "        return decoded\n"
      ]
    },
    {
      "cell_type": "code",
      "execution_count": 18,
      "metadata": {
        "colab": {
          "base_uri": "https://localhost:8080/"
        },
        "id": "Xp02PNfjRdIy",
        "outputId": "101294ee-f9b8-4f3a-d923-04dc062dff9f"
      },
      "outputs": [
        {
          "data": {
            "text/plain": [
              "Sequential(\n",
              "  (0): Conv2d(3, 3, kernel_size=(3, 3), stride=(2, 2), padding=(1, 1))\n",
              ")"
            ]
          },
          "execution_count": 18,
          "metadata": {},
          "output_type": "execute_result"
        }
      ],
      "source": [
        "sb = Autoencoder_Initial().simple_enc_block(kernel_size=3, final_layer=True)\n",
        "sb"
      ]
    },
    {
      "cell_type": "code",
      "execution_count": 83,
      "metadata": {
        "colab": {
          "base_uri": "https://localhost:8080/"
        },
        "id": "CQXXq3q1OVNq",
        "outputId": "da6c6cd7-81b4-42c1-d3f2-d525af0584cb"
      },
      "outputs": [
        {
          "ename": "TypeError",
          "evalue": "unsupported operand type(s) for %: 'Autoencoder_Upsampling' and 'int'",
          "output_type": "error",
          "traceback": [
            "\u001b[0;31m---------------------------------------------------------------------------\u001b[0m",
            "\u001b[0;31mTypeError\u001b[0m                                 Traceback (most recent call last)",
            "\u001b[1;32m/Users/nikolai/CV (Falaleev)/Autoencoder/Autoencoder._new models.ipynb Cell 14'\u001b[0m in \u001b[0;36m<cell line: 1>\u001b[0;34m()\u001b[0m\n\u001b[0;32m----> <a href='vscode-notebook-cell:/Users/nikolai/CV%20%28Falaleev%29/Autoencoder/Autoencoder._new%20models.ipynb#ch0000013?line=0'>1</a>\u001b[0m model \u001b[39m=\u001b[39m Autoencoder_Upsampling()\u001b[39m#.decoder#_layers#([3, 100, 200, 300], sb)\u001b[39;00m\n\u001b[1;32m      <a href='vscode-notebook-cell:/Users/nikolai/CV%20%28Falaleev%29/Autoencoder/Autoencoder._new%20models.ipynb#ch0000013?line=1'>2</a>\u001b[0m model\n",
            "\u001b[1;32m/Users/nikolai/CV (Falaleev)/Autoencoder/Autoencoder._new models.ipynb Cell 12'\u001b[0m in \u001b[0;36mAutoencoder_Upsampling.__init__\u001b[0;34m(self)\u001b[0m\n\u001b[1;32m      <a href='vscode-notebook-cell:/Users/nikolai/CV%20%28Falaleev%29/Autoencoder/Autoencoder._new%20models.ipynb#ch0000011?line=2'>3</a>\u001b[0m \u001b[39msuper\u001b[39m(Autoencoder_Upsampling, \u001b[39mself\u001b[39m)\u001b[39m.\u001b[39m\u001b[39m__init__\u001b[39m()\n\u001b[1;32m      <a href='vscode-notebook-cell:/Users/nikolai/CV%20%28Falaleev%29/Autoencoder/Autoencoder._new%20models.ipynb#ch0000011?line=3'>4</a>\u001b[0m \u001b[39mself\u001b[39m\u001b[39m.\u001b[39mchannels \u001b[39m=\u001b[39m [\u001b[39m3\u001b[39m, \u001b[39m100\u001b[39m, \u001b[39m200\u001b[39m, \u001b[39m300\u001b[39m]\n\u001b[0;32m----> <a href='vscode-notebook-cell:/Users/nikolai/CV%20%28Falaleev%29/Autoencoder/Autoencoder._new%20models.ipynb#ch0000011?line=4'>5</a>\u001b[0m simple_enc_block \u001b[39m=\u001b[39m \u001b[39mself\u001b[39;49m\u001b[39m.\u001b[39;49msimple_enc_block(\u001b[39mself\u001b[39;49m)\n\u001b[1;32m      <a href='vscode-notebook-cell:/Users/nikolai/CV%20%28Falaleev%29/Autoencoder/Autoencoder._new%20models.ipynb#ch0000011?line=5'>6</a>\u001b[0m \u001b[39mself\u001b[39m\u001b[39m.\u001b[39mencoder \u001b[39m=\u001b[39m \u001b[39mself\u001b[39m\u001b[39m.\u001b[39mlayers(\n\u001b[1;32m      <a href='vscode-notebook-cell:/Users/nikolai/CV%20%28Falaleev%29/Autoencoder/Autoencoder._new%20models.ipynb#ch0000011?line=6'>7</a>\u001b[0m     channels\u001b[39m=\u001b[39m\u001b[39mself\u001b[39m\u001b[39m.\u001b[39mchannels,\n\u001b[1;32m      <a href='vscode-notebook-cell:/Users/nikolai/CV%20%28Falaleev%29/Autoencoder/Autoencoder._new%20models.ipynb#ch0000011?line=7'>8</a>\u001b[0m     simple_block\u001b[39m=\u001b[39msimple_enc_block,\n\u001b[1;32m      <a href='vscode-notebook-cell:/Users/nikolai/CV%20%28Falaleev%29/Autoencoder/Autoencoder._new%20models.ipynb#ch0000011?line=8'>9</a>\u001b[0m     kernel_size\u001b[39m=\u001b[39m\u001b[39m3\u001b[39m\n\u001b[1;32m     <a href='vscode-notebook-cell:/Users/nikolai/CV%20%28Falaleev%29/Autoencoder/Autoencoder._new%20models.ipynb#ch0000011?line=9'>10</a>\u001b[0m )\n\u001b[1;32m     <a href='vscode-notebook-cell:/Users/nikolai/CV%20%28Falaleev%29/Autoencoder/Autoencoder._new%20models.ipynb#ch0000011?line=10'>11</a>\u001b[0m simple_dec_block \u001b[39m=\u001b[39m \u001b[39mself\u001b[39m\u001b[39m.\u001b[39msimple_dec_block\n",
            "\u001b[1;32m/Users/nikolai/CV (Falaleev)/Autoencoder/Autoencoder._new models.ipynb Cell 12'\u001b[0m in \u001b[0;36mAutoencoder_Upsampling.simple_enc_block\u001b[0;34m(self, input_channels, output_channels, kernel_size)\u001b[0m\n\u001b[1;32m     <a href='vscode-notebook-cell:/Users/nikolai/CV%20%28Falaleev%29/Autoencoder/Autoencoder._new%20models.ipynb#ch0000011?line=30'>31</a>\u001b[0m \u001b[39mdef\u001b[39;00m \u001b[39msimple_enc_block\u001b[39m(\u001b[39mself\u001b[39m,\n\u001b[1;32m     <a href='vscode-notebook-cell:/Users/nikolai/CV%20%28Falaleev%29/Autoencoder/Autoencoder._new%20models.ipynb#ch0000011?line=31'>32</a>\u001b[0m                      input_channels: \u001b[39mint\u001b[39m \u001b[39m=\u001b[39m \u001b[39m3\u001b[39m,\n\u001b[1;32m     <a href='vscode-notebook-cell:/Users/nikolai/CV%20%28Falaleev%29/Autoencoder/Autoencoder._new%20models.ipynb#ch0000011?line=32'>33</a>\u001b[0m                      output_channels: \u001b[39mint\u001b[39m \u001b[39m=\u001b[39m \u001b[39m3\u001b[39m,\n\u001b[1;32m     <a href='vscode-notebook-cell:/Users/nikolai/CV%20%28Falaleev%29/Autoencoder/Autoencoder._new%20models.ipynb#ch0000011?line=33'>34</a>\u001b[0m                      kernel_size: \u001b[39mint\u001b[39m \u001b[39m=\u001b[39m \u001b[39m3\u001b[39m) \u001b[39m-\u001b[39m\u001b[39m>\u001b[39m Sequential:\n\u001b[1;32m     <a href='vscode-notebook-cell:/Users/nikolai/CV%20%28Falaleev%29/Autoencoder/Autoencoder._new%20models.ipynb#ch0000011?line=34'>35</a>\u001b[0m     \u001b[39mreturn\u001b[39;00m nn\u001b[39m.\u001b[39mSequential(\n\u001b[0;32m---> <a href='vscode-notebook-cell:/Users/nikolai/CV%20%28Falaleev%29/Autoencoder/Autoencoder._new%20models.ipynb#ch0000011?line=35'>36</a>\u001b[0m         nn\u001b[39m.\u001b[39;49mConv2d(\n\u001b[1;32m     <a href='vscode-notebook-cell:/Users/nikolai/CV%20%28Falaleev%29/Autoencoder/Autoencoder._new%20models.ipynb#ch0000011?line=36'>37</a>\u001b[0m             in_channels\u001b[39m=\u001b[39;49minput_channels,\n\u001b[1;32m     <a href='vscode-notebook-cell:/Users/nikolai/CV%20%28Falaleev%29/Autoencoder/Autoencoder._new%20models.ipynb#ch0000011?line=37'>38</a>\u001b[0m             out_channels\u001b[39m=\u001b[39;49moutput_channels,\n\u001b[1;32m     <a href='vscode-notebook-cell:/Users/nikolai/CV%20%28Falaleev%29/Autoencoder/Autoencoder._new%20models.ipynb#ch0000011?line=38'>39</a>\u001b[0m             kernel_size\u001b[39m=\u001b[39;49mkernel_size,\n\u001b[1;32m     <a href='vscode-notebook-cell:/Users/nikolai/CV%20%28Falaleev%29/Autoencoder/Autoencoder._new%20models.ipynb#ch0000011?line=39'>40</a>\u001b[0m         ),\n\u001b[1;32m     <a href='vscode-notebook-cell:/Users/nikolai/CV%20%28Falaleev%29/Autoencoder/Autoencoder._new%20models.ipynb#ch0000011?line=40'>41</a>\u001b[0m         nn\u001b[39m.\u001b[39mBatchNorm2d(output_channels),\n\u001b[1;32m     <a href='vscode-notebook-cell:/Users/nikolai/CV%20%28Falaleev%29/Autoencoder/Autoencoder._new%20models.ipynb#ch0000011?line=41'>42</a>\u001b[0m         nn\u001b[39m.\u001b[39mMaxPool2d(kernel_size\u001b[39m=\u001b[39mkernel_size),\n\u001b[1;32m     <a href='vscode-notebook-cell:/Users/nikolai/CV%20%28Falaleev%29/Autoencoder/Autoencoder._new%20models.ipynb#ch0000011?line=42'>43</a>\u001b[0m         nn\u001b[39m.\u001b[39mDropout(p\u001b[39m=\u001b[39m\u001b[39m0.2\u001b[39m),\n\u001b[1;32m     <a href='vscode-notebook-cell:/Users/nikolai/CV%20%28Falaleev%29/Autoencoder/Autoencoder._new%20models.ipynb#ch0000011?line=43'>44</a>\u001b[0m         nn\u001b[39m.\u001b[39mLeakyReLU(\u001b[39m0.2\u001b[39m)\n\u001b[1;32m     <a href='vscode-notebook-cell:/Users/nikolai/CV%20%28Falaleev%29/Autoencoder/Autoencoder._new%20models.ipynb#ch0000011?line=44'>45</a>\u001b[0m     )\n",
            "File \u001b[0;32m/Library/Frameworks/Python.framework/Versions/3.10/lib/python3.10/site-packages/torch/nn/modules/conv.py:450\u001b[0m, in \u001b[0;36mConv2d.__init__\u001b[0;34m(self, in_channels, out_channels, kernel_size, stride, padding, dilation, groups, bias, padding_mode, device, dtype)\u001b[0m\n\u001b[1;32m    448\u001b[0m padding_ \u001b[39m=\u001b[39m padding \u001b[39mif\u001b[39;00m \u001b[39misinstance\u001b[39m(padding, \u001b[39mstr\u001b[39m) \u001b[39melse\u001b[39;00m _pair(padding)\n\u001b[1;32m    449\u001b[0m dilation_ \u001b[39m=\u001b[39m _pair(dilation)\n\u001b[0;32m--> 450\u001b[0m \u001b[39msuper\u001b[39;49m(Conv2d, \u001b[39mself\u001b[39;49m)\u001b[39m.\u001b[39;49m\u001b[39m__init__\u001b[39;49m(\n\u001b[1;32m    451\u001b[0m     in_channels, out_channels, kernel_size_, stride_, padding_, dilation_,\n\u001b[1;32m    452\u001b[0m     \u001b[39mFalse\u001b[39;49;00m, _pair(\u001b[39m0\u001b[39;49m), groups, bias, padding_mode, \u001b[39m*\u001b[39;49m\u001b[39m*\u001b[39;49mfactory_kwargs)\n",
            "File \u001b[0;32m/Library/Frameworks/Python.framework/Versions/3.10/lib/python3.10/site-packages/torch/nn/modules/conv.py:89\u001b[0m, in \u001b[0;36m_ConvNd.__init__\u001b[0;34m(self, in_channels, out_channels, kernel_size, stride, padding, dilation, transposed, output_padding, groups, bias, padding_mode, device, dtype)\u001b[0m\n\u001b[1;32m     87\u001b[0m \u001b[39mif\u001b[39;00m groups \u001b[39m<\u001b[39m\u001b[39m=\u001b[39m \u001b[39m0\u001b[39m:\n\u001b[1;32m     88\u001b[0m     \u001b[39mraise\u001b[39;00m \u001b[39mValueError\u001b[39;00m(\u001b[39m'\u001b[39m\u001b[39mgroups must be a positive integer\u001b[39m\u001b[39m'\u001b[39m)\n\u001b[0;32m---> 89\u001b[0m \u001b[39mif\u001b[39;00m in_channels \u001b[39m%\u001b[39;49m groups \u001b[39m!=\u001b[39m \u001b[39m0\u001b[39m:\n\u001b[1;32m     90\u001b[0m     \u001b[39mraise\u001b[39;00m \u001b[39mValueError\u001b[39;00m(\u001b[39m'\u001b[39m\u001b[39min_channels must be divisible by groups\u001b[39m\u001b[39m'\u001b[39m)\n\u001b[1;32m     91\u001b[0m \u001b[39mif\u001b[39;00m out_channels \u001b[39m%\u001b[39m groups \u001b[39m!=\u001b[39m \u001b[39m0\u001b[39m:\n",
            "\u001b[0;31mTypeError\u001b[0m: unsupported operand type(s) for %: 'Autoencoder_Upsampling' and 'int'"
          ]
        }
      ],
      "source": [
        "model = Autoencoder_Upsampling()#.decoder#_layers#([3, 100, 200, 300], sb)\n",
        "model"
      ]
    },
    {
      "cell_type": "markdown",
      "metadata": {
        "id": "nYNwHRhaw36s"
      },
      "source": [
        "## Losses"
      ]
    },
    {
      "cell_type": "code",
      "execution_count": 52,
      "metadata": {
        "id": "mJjMnlj4MDDo"
      },
      "outputs": [],
      "source": [
        "def MSE(fake: torch.Tensor,\n",
        "        image: torch.Tensor) -> torch.Tensor:\n",
        "    return torch.mean((fake - image)**2)"
      ]
    },
    {
      "cell_type": "code",
      "execution_count": 54,
      "metadata": {
        "id": "Zh7e3OUCw6Rf"
      },
      "outputs": [],
      "source": [
        "def SSIM(fake: torch.Tensor, real: torch.Tensor) -> torch.Tensor:\n",
        "    k1: float = 0.01\n",
        "    k2: float = 0.03\n",
        "    mean_fake = torch.mean(fake, dim=[1, 2, 3])\n",
        "    mean_real = torch.mean(real, dim=[1, 2, 3])\n",
        "    var_fake = torch.var(fake, dim=[1, 2, 3])\n",
        "    var_real = torch.var(real, dim=[1, 2, 3])\n",
        "    c1 = (k1) ** 2  # L=1, because of normalised images\n",
        "    c2 = (k2) ** 2  # L=1, because of normalised images\n",
        "    fake_dif = torch.sub(fake, mean_fake[:, None, None, None])\n",
        "    real_dif = torch.sub(real, mean_real[:, None, None, None])\n",
        "    covariance = (\n",
        "        torch.sum(fake_dif * real_dif, dim=[1, 2, 3])\n",
        "        / real.size()[-1] / real.size()[-2] / real.size()[-3]\n",
        "    )\n",
        "    ssim_numerator = (\n",
        "        (2 * mean_fake * mean_real + c1) * (2 * covariance + c2)\n",
        "    )\n",
        "    ssim_denominator = (\n",
        "        ((mean_fake) ** 2 + (mean_real) ** 2 + c1)\n",
        "        * ((var_fake) ** 2 + (var_real) ** 2 + c2)\n",
        "    )\n",
        "    ssim = ssim_numerator / ssim_denominator\n",
        "    return torch.mean(ssim)\n"
      ]
    },
    {
      "cell_type": "markdown",
      "metadata": {
        "id": "gW6pI3t3w9Pn"
      },
      "source": [
        "## Train and test functions"
      ]
    },
    {
      "cell_type": "code",
      "execution_count": 55,
      "metadata": {
        "id": "GrAN61uMMTv_"
      },
      "outputs": [],
      "source": [
        "def train(model: nn.Sequential,\n",
        "          train_loader: DataLoader,\n",
        "          optimizer: torch.optim,\n",
        "          device: torch.device) -> None:\n",
        "    for images, _ in train_loader:\n",
        "        images = images.to(DEVICE)\n",
        "        optimizer.zero_grad()\n",
        "        outputs = model(images)\n",
        "        batch_loss = MSE(outputs, images)\n",
        "        batch_loss.backward()\n",
        "        optimizer.step()"
      ]
    },
    {
      "cell_type": "code",
      "execution_count": 56,
      "metadata": {
        "id": "DQM8mIj0WZNi"
      },
      "outputs": [],
      "source": [
        "def test(model: nn.Sequential,\n",
        "         test_loader: DataLoader,\n",
        "         device: torch.device) -> float:\n",
        "    model.eval()\n",
        "    test_loss = 0\n",
        "    acc = 0\n",
        "    with torch.no_grad():\n",
        "        for images, _ in test_loader:\n",
        "            images = images.to(DEVICE)\n",
        "            output = model(images)\n",
        "            loss = MSE(output, images)\n",
        "            test_loss += loss.item()\n",
        "    return test_loss / len(test_loader)"
      ]
    },
    {
      "cell_type": "markdown",
      "metadata": {
        "id": "UrEI0PYVMZ4g"
      },
      "source": [
        "## Training"
      ]
    },
    {
      "cell_type": "code",
      "execution_count": 59,
      "metadata": {
        "colab": {
          "base_uri": "https://localhost:8080/",
          "height": 1000
        },
        "id": "RtxjR-Tjufv9",
        "outputId": "f556610f-a975-4019-c285-92cbbf022e59"
      },
      "outputs": [
        {
          "ename": "RuntimeError",
          "evalue": "ignored",
          "output_type": "error",
          "traceback": [
            "\u001b[0;31m---------------------------------------------------------------------------\u001b[0m",
            "\u001b[0;31mRuntimeError\u001b[0m                              Traceback (most recent call last)",
            "\u001b[0;32m<ipython-input-59-6e816ff279cc>\u001b[0m in \u001b[0;36m<module>\u001b[0;34m()\u001b[0m\n\u001b[1;32m     12\u001b[0m \u001b[0;32mfor\u001b[0m \u001b[0mepoch\u001b[0m \u001b[0;32min\u001b[0m \u001b[0mrange\u001b[0m\u001b[0;34m(\u001b[0m\u001b[0mepochs\u001b[0m\u001b[0;34m)\u001b[0m\u001b[0;34m:\u001b[0m\u001b[0;34m\u001b[0m\u001b[0;34m\u001b[0m\u001b[0m\n\u001b[1;32m     13\u001b[0m     \u001b[0mloss\u001b[0m \u001b[0;34m=\u001b[0m \u001b[0;36m0.0\u001b[0m\u001b[0;34m\u001b[0m\u001b[0;34m\u001b[0m\u001b[0m\n\u001b[0;32m---> 14\u001b[0;31m     \u001b[0mtrain\u001b[0m\u001b[0;34m(\u001b[0m\u001b[0mmodel\u001b[0m\u001b[0;34m,\u001b[0m \u001b[0mtrain_loader\u001b[0m\u001b[0;34m,\u001b[0m \u001b[0moptimizer\u001b[0m\u001b[0;34m,\u001b[0m \u001b[0mDEVICE\u001b[0m\u001b[0;34m)\u001b[0m\u001b[0;34m\u001b[0m\u001b[0;34m\u001b[0m\u001b[0m\n\u001b[0m\u001b[1;32m     15\u001b[0m     \u001b[0mtest_loss\u001b[0m \u001b[0;34m=\u001b[0m \u001b[0mtest\u001b[0m\u001b[0;34m(\u001b[0m\u001b[0mmodel\u001b[0m\u001b[0;34m,\u001b[0m \u001b[0mtest_loader\u001b[0m\u001b[0;34m,\u001b[0m \u001b[0mDEVICE\u001b[0m\u001b[0;34m)\u001b[0m\u001b[0;34m\u001b[0m\u001b[0;34m\u001b[0m\u001b[0m\n\u001b[1;32m     16\u001b[0m     \u001b[0mtest_loss_list\u001b[0m\u001b[0;34m.\u001b[0m\u001b[0mappend\u001b[0m\u001b[0;34m(\u001b[0m\u001b[0mtest_loss\u001b[0m\u001b[0;34m)\u001b[0m\u001b[0;34m\u001b[0m\u001b[0;34m\u001b[0m\u001b[0m\n",
            "\u001b[0;32m<ipython-input-55-472dc862c6f8>\u001b[0m in \u001b[0;36mtrain\u001b[0;34m(model, train_loader, optimizer, device)\u001b[0m\n\u001b[1;32m      6\u001b[0m         \u001b[0mimages\u001b[0m \u001b[0;34m=\u001b[0m \u001b[0mimages\u001b[0m\u001b[0;34m.\u001b[0m\u001b[0mto\u001b[0m\u001b[0;34m(\u001b[0m\u001b[0mDEVICE\u001b[0m\u001b[0;34m)\u001b[0m\u001b[0;34m\u001b[0m\u001b[0;34m\u001b[0m\u001b[0m\n\u001b[1;32m      7\u001b[0m         \u001b[0moptimizer\u001b[0m\u001b[0;34m.\u001b[0m\u001b[0mzero_grad\u001b[0m\u001b[0;34m(\u001b[0m\u001b[0;34m)\u001b[0m\u001b[0;34m\u001b[0m\u001b[0;34m\u001b[0m\u001b[0m\n\u001b[0;32m----> 8\u001b[0;31m         \u001b[0moutputs\u001b[0m \u001b[0;34m=\u001b[0m \u001b[0mmodel\u001b[0m\u001b[0;34m(\u001b[0m\u001b[0mimages\u001b[0m\u001b[0;34m)\u001b[0m\u001b[0;34m\u001b[0m\u001b[0;34m\u001b[0m\u001b[0m\n\u001b[0m\u001b[1;32m      9\u001b[0m         \u001b[0mbatch_loss\u001b[0m \u001b[0;34m=\u001b[0m \u001b[0mMSE\u001b[0m\u001b[0;34m(\u001b[0m\u001b[0moutputs\u001b[0m\u001b[0;34m,\u001b[0m \u001b[0mimages\u001b[0m\u001b[0;34m)\u001b[0m\u001b[0;34m\u001b[0m\u001b[0;34m\u001b[0m\u001b[0m\n\u001b[1;32m     10\u001b[0m         \u001b[0mbatch_loss\u001b[0m\u001b[0;34m.\u001b[0m\u001b[0mbackward\u001b[0m\u001b[0;34m(\u001b[0m\u001b[0;34m)\u001b[0m\u001b[0;34m\u001b[0m\u001b[0;34m\u001b[0m\u001b[0m\n",
            "\u001b[0;32m/usr/local/lib/python3.7/dist-packages/torch/nn/modules/module.py\u001b[0m in \u001b[0;36m_call_impl\u001b[0;34m(self, *input, **kwargs)\u001b[0m\n\u001b[1;32m   1108\u001b[0m         if not (self._backward_hooks or self._forward_hooks or self._forward_pre_hooks or _global_backward_hooks\n\u001b[1;32m   1109\u001b[0m                 or _global_forward_hooks or _global_forward_pre_hooks):\n\u001b[0;32m-> 1110\u001b[0;31m             \u001b[0;32mreturn\u001b[0m \u001b[0mforward_call\u001b[0m\u001b[0;34m(\u001b[0m\u001b[0;34m*\u001b[0m\u001b[0minput\u001b[0m\u001b[0;34m,\u001b[0m \u001b[0;34m**\u001b[0m\u001b[0mkwargs\u001b[0m\u001b[0;34m)\u001b[0m\u001b[0;34m\u001b[0m\u001b[0;34m\u001b[0m\u001b[0m\n\u001b[0m\u001b[1;32m   1111\u001b[0m         \u001b[0;31m# Do not call functions when jit is used\u001b[0m\u001b[0;34m\u001b[0m\u001b[0;34m\u001b[0m\u001b[0;34m\u001b[0m\u001b[0m\n\u001b[1;32m   1112\u001b[0m         \u001b[0mfull_backward_hooks\u001b[0m\u001b[0;34m,\u001b[0m \u001b[0mnon_full_backward_hooks\u001b[0m \u001b[0;34m=\u001b[0m \u001b[0;34m[\u001b[0m\u001b[0;34m]\u001b[0m\u001b[0;34m,\u001b[0m \u001b[0;34m[\u001b[0m\u001b[0;34m]\u001b[0m\u001b[0;34m\u001b[0m\u001b[0;34m\u001b[0m\u001b[0m\n",
            "\u001b[0;32m<ipython-input-50-2f2e9b837470>\u001b[0m in \u001b[0;36mforward\u001b[0;34m(self, x)\u001b[0m\n\u001b[1;32m     67\u001b[0m \u001b[0;34m\u001b[0m\u001b[0m\n\u001b[1;32m     68\u001b[0m     \u001b[0;32mdef\u001b[0m \u001b[0mforward\u001b[0m\u001b[0;34m(\u001b[0m\u001b[0mself\u001b[0m\u001b[0;34m,\u001b[0m \u001b[0mx\u001b[0m\u001b[0;34m)\u001b[0m\u001b[0;34m:\u001b[0m\u001b[0;34m\u001b[0m\u001b[0;34m\u001b[0m\u001b[0m\n\u001b[0;32m---> 69\u001b[0;31m         \u001b[0mencoded\u001b[0m \u001b[0;34m=\u001b[0m \u001b[0mself\u001b[0m\u001b[0;34m.\u001b[0m\u001b[0mencoder\u001b[0m\u001b[0;34m(\u001b[0m\u001b[0mx\u001b[0m\u001b[0;34m)\u001b[0m\u001b[0;34m\u001b[0m\u001b[0;34m\u001b[0m\u001b[0m\n\u001b[0m\u001b[1;32m     70\u001b[0m         \u001b[0mdecoded\u001b[0m \u001b[0;34m=\u001b[0m \u001b[0mself\u001b[0m\u001b[0;34m.\u001b[0m\u001b[0mdecoder\u001b[0m\u001b[0;34m(\u001b[0m\u001b[0mencoded\u001b[0m\u001b[0;34m)\u001b[0m\u001b[0;34m\u001b[0m\u001b[0;34m\u001b[0m\u001b[0m\n\u001b[1;32m     71\u001b[0m         \u001b[0;32mreturn\u001b[0m \u001b[0mdecoded\u001b[0m\u001b[0;34m\u001b[0m\u001b[0;34m\u001b[0m\u001b[0m\n",
            "\u001b[0;32m/usr/local/lib/python3.7/dist-packages/torch/nn/modules/module.py\u001b[0m in \u001b[0;36m_call_impl\u001b[0;34m(self, *input, **kwargs)\u001b[0m\n\u001b[1;32m   1108\u001b[0m         if not (self._backward_hooks or self._forward_hooks or self._forward_pre_hooks or _global_backward_hooks\n\u001b[1;32m   1109\u001b[0m                 or _global_forward_hooks or _global_forward_pre_hooks):\n\u001b[0;32m-> 1110\u001b[0;31m             \u001b[0;32mreturn\u001b[0m \u001b[0mforward_call\u001b[0m\u001b[0;34m(\u001b[0m\u001b[0;34m*\u001b[0m\u001b[0minput\u001b[0m\u001b[0;34m,\u001b[0m \u001b[0;34m**\u001b[0m\u001b[0mkwargs\u001b[0m\u001b[0;34m)\u001b[0m\u001b[0;34m\u001b[0m\u001b[0;34m\u001b[0m\u001b[0m\n\u001b[0m\u001b[1;32m   1111\u001b[0m         \u001b[0;31m# Do not call functions when jit is used\u001b[0m\u001b[0;34m\u001b[0m\u001b[0;34m\u001b[0m\u001b[0;34m\u001b[0m\u001b[0m\n\u001b[1;32m   1112\u001b[0m         \u001b[0mfull_backward_hooks\u001b[0m\u001b[0;34m,\u001b[0m \u001b[0mnon_full_backward_hooks\u001b[0m \u001b[0;34m=\u001b[0m \u001b[0;34m[\u001b[0m\u001b[0;34m]\u001b[0m\u001b[0;34m,\u001b[0m \u001b[0;34m[\u001b[0m\u001b[0;34m]\u001b[0m\u001b[0;34m\u001b[0m\u001b[0;34m\u001b[0m\u001b[0m\n",
            "\u001b[0;32m/usr/local/lib/python3.7/dist-packages/torch/nn/modules/container.py\u001b[0m in \u001b[0;36mforward\u001b[0;34m(self, input)\u001b[0m\n\u001b[1;32m    139\u001b[0m     \u001b[0;32mdef\u001b[0m \u001b[0mforward\u001b[0m\u001b[0;34m(\u001b[0m\u001b[0mself\u001b[0m\u001b[0;34m,\u001b[0m \u001b[0minput\u001b[0m\u001b[0;34m)\u001b[0m\u001b[0;34m:\u001b[0m\u001b[0;34m\u001b[0m\u001b[0;34m\u001b[0m\u001b[0m\n\u001b[1;32m    140\u001b[0m         \u001b[0;32mfor\u001b[0m \u001b[0mmodule\u001b[0m \u001b[0;32min\u001b[0m \u001b[0mself\u001b[0m\u001b[0;34m:\u001b[0m\u001b[0;34m\u001b[0m\u001b[0;34m\u001b[0m\u001b[0m\n\u001b[0;32m--> 141\u001b[0;31m             \u001b[0minput\u001b[0m \u001b[0;34m=\u001b[0m \u001b[0mmodule\u001b[0m\u001b[0;34m(\u001b[0m\u001b[0minput\u001b[0m\u001b[0;34m)\u001b[0m\u001b[0;34m\u001b[0m\u001b[0;34m\u001b[0m\u001b[0m\n\u001b[0m\u001b[1;32m    142\u001b[0m         \u001b[0;32mreturn\u001b[0m \u001b[0minput\u001b[0m\u001b[0;34m\u001b[0m\u001b[0;34m\u001b[0m\u001b[0m\n\u001b[1;32m    143\u001b[0m \u001b[0;34m\u001b[0m\u001b[0m\n",
            "\u001b[0;32m/usr/local/lib/python3.7/dist-packages/torch/nn/modules/module.py\u001b[0m in \u001b[0;36m_call_impl\u001b[0;34m(self, *input, **kwargs)\u001b[0m\n\u001b[1;32m   1108\u001b[0m         if not (self._backward_hooks or self._forward_hooks or self._forward_pre_hooks or _global_backward_hooks\n\u001b[1;32m   1109\u001b[0m                 or _global_forward_hooks or _global_forward_pre_hooks):\n\u001b[0;32m-> 1110\u001b[0;31m             \u001b[0;32mreturn\u001b[0m \u001b[0mforward_call\u001b[0m\u001b[0;34m(\u001b[0m\u001b[0;34m*\u001b[0m\u001b[0minput\u001b[0m\u001b[0;34m,\u001b[0m \u001b[0;34m**\u001b[0m\u001b[0mkwargs\u001b[0m\u001b[0;34m)\u001b[0m\u001b[0;34m\u001b[0m\u001b[0;34m\u001b[0m\u001b[0m\n\u001b[0m\u001b[1;32m   1111\u001b[0m         \u001b[0;31m# Do not call functions when jit is used\u001b[0m\u001b[0;34m\u001b[0m\u001b[0;34m\u001b[0m\u001b[0;34m\u001b[0m\u001b[0m\n\u001b[1;32m   1112\u001b[0m         \u001b[0mfull_backward_hooks\u001b[0m\u001b[0;34m,\u001b[0m \u001b[0mnon_full_backward_hooks\u001b[0m \u001b[0;34m=\u001b[0m \u001b[0;34m[\u001b[0m\u001b[0;34m]\u001b[0m\u001b[0;34m,\u001b[0m \u001b[0;34m[\u001b[0m\u001b[0;34m]\u001b[0m\u001b[0;34m\u001b[0m\u001b[0;34m\u001b[0m\u001b[0m\n",
            "\u001b[0;32m/usr/local/lib/python3.7/dist-packages/torch/nn/modules/container.py\u001b[0m in \u001b[0;36mforward\u001b[0;34m(self, input)\u001b[0m\n\u001b[1;32m    139\u001b[0m     \u001b[0;32mdef\u001b[0m \u001b[0mforward\u001b[0m\u001b[0;34m(\u001b[0m\u001b[0mself\u001b[0m\u001b[0;34m,\u001b[0m \u001b[0minput\u001b[0m\u001b[0;34m)\u001b[0m\u001b[0;34m:\u001b[0m\u001b[0;34m\u001b[0m\u001b[0;34m\u001b[0m\u001b[0m\n\u001b[1;32m    140\u001b[0m         \u001b[0;32mfor\u001b[0m \u001b[0mmodule\u001b[0m \u001b[0;32min\u001b[0m \u001b[0mself\u001b[0m\u001b[0;34m:\u001b[0m\u001b[0;34m\u001b[0m\u001b[0;34m\u001b[0m\u001b[0m\n\u001b[0;32m--> 141\u001b[0;31m             \u001b[0minput\u001b[0m \u001b[0;34m=\u001b[0m \u001b[0mmodule\u001b[0m\u001b[0;34m(\u001b[0m\u001b[0minput\u001b[0m\u001b[0;34m)\u001b[0m\u001b[0;34m\u001b[0m\u001b[0;34m\u001b[0m\u001b[0m\n\u001b[0m\u001b[1;32m    142\u001b[0m         \u001b[0;32mreturn\u001b[0m \u001b[0minput\u001b[0m\u001b[0;34m\u001b[0m\u001b[0;34m\u001b[0m\u001b[0m\n\u001b[1;32m    143\u001b[0m \u001b[0;34m\u001b[0m\u001b[0m\n",
            "\u001b[0;32m/usr/local/lib/python3.7/dist-packages/torch/nn/modules/module.py\u001b[0m in \u001b[0;36m_call_impl\u001b[0;34m(self, *input, **kwargs)\u001b[0m\n\u001b[1;32m   1108\u001b[0m         if not (self._backward_hooks or self._forward_hooks or self._forward_pre_hooks or _global_backward_hooks\n\u001b[1;32m   1109\u001b[0m                 or _global_forward_hooks or _global_forward_pre_hooks):\n\u001b[0;32m-> 1110\u001b[0;31m             \u001b[0;32mreturn\u001b[0m \u001b[0mforward_call\u001b[0m\u001b[0;34m(\u001b[0m\u001b[0;34m*\u001b[0m\u001b[0minput\u001b[0m\u001b[0;34m,\u001b[0m \u001b[0;34m**\u001b[0m\u001b[0mkwargs\u001b[0m\u001b[0;34m)\u001b[0m\u001b[0;34m\u001b[0m\u001b[0;34m\u001b[0m\u001b[0m\n\u001b[0m\u001b[1;32m   1111\u001b[0m         \u001b[0;31m# Do not call functions when jit is used\u001b[0m\u001b[0;34m\u001b[0m\u001b[0;34m\u001b[0m\u001b[0;34m\u001b[0m\u001b[0m\n\u001b[1;32m   1112\u001b[0m         \u001b[0mfull_backward_hooks\u001b[0m\u001b[0;34m,\u001b[0m \u001b[0mnon_full_backward_hooks\u001b[0m \u001b[0;34m=\u001b[0m \u001b[0;34m[\u001b[0m\u001b[0;34m]\u001b[0m\u001b[0;34m,\u001b[0m \u001b[0;34m[\u001b[0m\u001b[0;34m]\u001b[0m\u001b[0;34m\u001b[0m\u001b[0;34m\u001b[0m\u001b[0m\n",
            "\u001b[0;32m/usr/local/lib/python3.7/dist-packages/torch/nn/modules/conv.py\u001b[0m in \u001b[0;36mforward\u001b[0;34m(self, input)\u001b[0m\n\u001b[1;32m    445\u001b[0m \u001b[0;34m\u001b[0m\u001b[0m\n\u001b[1;32m    446\u001b[0m     \u001b[0;32mdef\u001b[0m \u001b[0mforward\u001b[0m\u001b[0;34m(\u001b[0m\u001b[0mself\u001b[0m\u001b[0;34m,\u001b[0m \u001b[0minput\u001b[0m\u001b[0;34m:\u001b[0m \u001b[0mTensor\u001b[0m\u001b[0;34m)\u001b[0m \u001b[0;34m->\u001b[0m \u001b[0mTensor\u001b[0m\u001b[0;34m:\u001b[0m\u001b[0;34m\u001b[0m\u001b[0;34m\u001b[0m\u001b[0m\n\u001b[0;32m--> 447\u001b[0;31m         \u001b[0;32mreturn\u001b[0m \u001b[0mself\u001b[0m\u001b[0;34m.\u001b[0m\u001b[0m_conv_forward\u001b[0m\u001b[0;34m(\u001b[0m\u001b[0minput\u001b[0m\u001b[0;34m,\u001b[0m \u001b[0mself\u001b[0m\u001b[0;34m.\u001b[0m\u001b[0mweight\u001b[0m\u001b[0;34m,\u001b[0m \u001b[0mself\u001b[0m\u001b[0;34m.\u001b[0m\u001b[0mbias\u001b[0m\u001b[0;34m)\u001b[0m\u001b[0;34m\u001b[0m\u001b[0;34m\u001b[0m\u001b[0m\n\u001b[0m\u001b[1;32m    448\u001b[0m \u001b[0;34m\u001b[0m\u001b[0m\n\u001b[1;32m    449\u001b[0m \u001b[0;32mclass\u001b[0m \u001b[0mConv3d\u001b[0m\u001b[0;34m(\u001b[0m\u001b[0m_ConvNd\u001b[0m\u001b[0;34m)\u001b[0m\u001b[0;34m:\u001b[0m\u001b[0;34m\u001b[0m\u001b[0;34m\u001b[0m\u001b[0m\n",
            "\u001b[0;32m/usr/local/lib/python3.7/dist-packages/torch/nn/modules/conv.py\u001b[0m in \u001b[0;36m_conv_forward\u001b[0;34m(self, input, weight, bias)\u001b[0m\n\u001b[1;32m    442\u001b[0m                             _pair(0), self.dilation, self.groups)\n\u001b[1;32m    443\u001b[0m         return F.conv2d(input, weight, bias, self.stride,\n\u001b[0;32m--> 444\u001b[0;31m                         self.padding, self.dilation, self.groups)\n\u001b[0m\u001b[1;32m    445\u001b[0m \u001b[0;34m\u001b[0m\u001b[0m\n\u001b[1;32m    446\u001b[0m     \u001b[0;32mdef\u001b[0m \u001b[0mforward\u001b[0m\u001b[0;34m(\u001b[0m\u001b[0mself\u001b[0m\u001b[0;34m,\u001b[0m \u001b[0minput\u001b[0m\u001b[0;34m:\u001b[0m \u001b[0mTensor\u001b[0m\u001b[0;34m)\u001b[0m \u001b[0;34m->\u001b[0m \u001b[0mTensor\u001b[0m\u001b[0;34m:\u001b[0m\u001b[0;34m\u001b[0m\u001b[0;34m\u001b[0m\u001b[0m\n",
            "\u001b[0;31mRuntimeError\u001b[0m: Calculated padded input size per channel: (2 x 2). Kernel size: (3 x 3). Kernel size can't be greater than actual input size"
          ]
        }
      ],
      "source": [
        "epochs = 100\n",
        "lr = 0.001\n",
        "test_loss_list = []\n",
        "eps = 1e-3\n",
        "\n",
        "model = Autoencoder_Upsampling().to(DEVICE)\n",
        "optimizer = torch.optim.Adam(model.parameters(), lr=lr)\n",
        "scheduler = torch.optim.lr_scheduler.ReduceLROnPlateau(optimizer, 'min')\n",
        "\n",
        "t0 = time()\n",
        "\n",
        "for epoch in range(epochs):\n",
        "    loss = 0.0\n",
        "    train(model, train_loader, optimizer, DEVICE)\n",
        "    test_loss = test(model, test_loader, DEVICE)\n",
        "    test_loss_list.append(test_loss)\n",
        "    t1 = (time() - t0) / 60\n",
        "    print('Epoch: {}, test loss: {:.5f}, '.format(epoch+1, test_loss) + \n",
        "            'time: {:.2f} min'.format(t1))\n",
        "    if epoch > 2:\n",
        "        if max(test_loss_list[-5:]) - min(test_loss_list[-5:]) > eps:\n",
        "            continue\n",
        "        else:\n",
        "            break\n",
        "print('Finish!')\n"
      ]
    },
    {
      "cell_type": "code",
      "execution_count": null,
      "metadata": {
        "id": "Ss8XWQ8Hv-GT"
      },
      "outputs": [],
      "source": [
        "plt.plot(range(1, len(test_loss_list) + 1), test_loss_list)\n",
        "plt.show()"
      ]
    },
    {
      "cell_type": "code",
      "execution_count": null,
      "metadata": {
        "id": "mEBXemhvxsoL"
      },
      "outputs": [],
      "source": [
        "%matplotlib inline\n",
        "import matplotlib.pyplot as plt\n",
        "import numpy as np\n",
        "from torchvision.utils import save_image\n",
        "\n",
        "def imshow(img, im_name):\n",
        "    img = img.detach().cpu()\n",
        "    save_image(img, im_name)\n",
        "    npimg = img.numpy()\n",
        "    plt.axis('off')\n",
        "    npimg = np.transpose(npimg, (1, 2, 0))\n",
        "    plt.imshow(npimg)\n",
        "    plt.show()\n",
        "\n",
        "\n",
        "def get_file_size_in_bytes(file_path):\n",
        "   size = os.path.getsize(file_path)\n",
        "   return size\n",
        "\n",
        "\n",
        "for i, (im, lab) in enumerate(train_loader):\n",
        "    print(im.shape)\n",
        "    print(lab[0])\n",
        "    imshow(im[0], '/content/image.jpeg')\n",
        "    fake = model(im.to(DEVICE))\n",
        "    print(fake.shape)\n",
        "    imshow(fake[0], '/content/fake.jpeg')\n",
        "    real_size = get_file_size_in_bytes('/content/image.jpeg')\n",
        "    compressed_state=model.encoder_layers()\n",
        "    jpeg_comp_rate = 3*32*32 / real_size\n",
        "    #ae_comp_rate = sys.getsizeof(fake[0]) / sys.getsizeof(compressed_state(im)[0])\n",
        "    ae_comp_rate = 3*32*32 / sys.getsizeof(compressed_state(im)[0])\n",
        "    print('jpeg ompression rate : {:.2f}'.format(jpeg_comp_rate))\n",
        "    print('AE ompression rate : {:.2f}'.format(ae_comp_rate))\n",
        "    break\n",
        "\n"
      ]
    },
    {
      "cell_type": "code",
      "execution_count": null,
      "metadata": {
        "id": "Xd0AqceTD2iU"
      },
      "outputs": [],
      "source": []
    }
  ],
  "metadata": {
    "accelerator": "GPU",
    "colab": {
      "name": "Untitled17.ipynb",
      "provenance": []
    },
    "kernelspec": {
      "display_name": "Python 3.10.4 64-bit",
      "language": "python",
      "name": "python3"
    },
    "language_info": {
      "codemirror_mode": {
        "name": "ipython",
        "version": 3
      },
      "file_extension": ".py",
      "mimetype": "text/x-python",
      "name": "python",
      "nbconvert_exporter": "python",
      "pygments_lexer": "ipython3",
      "version": "3.10.4"
    },
    "vscode": {
      "interpreter": {
        "hash": "7e1998ff7f8aa20ada591c520b972326324e5ea05489af9e422744c7c09f6dad"
      }
    }
  },
  "nbformat": 4,
  "nbformat_minor": 0
}
