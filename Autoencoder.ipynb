{
  "cells": [
    {
      "cell_type": "markdown",
      "metadata": {
        "id": "nt2Axcc5LT4q"
      },
      "source": [
        "# Autoencoder"
      ]
    },
    {
      "cell_type": "markdown",
      "source": [
        "## Packages and data import"
      ],
      "metadata": {
        "id": "SHXXNaXIMv5-"
      }
    },
    {
      "cell_type": "code",
      "execution_count": 58,
      "metadata": {
        "id": "w02GLPKNLTEJ"
      },
      "outputs": [],
      "source": [
        "import os\n",
        "import sys\n",
        "\n",
        "from time import time\n",
        "\n",
        "import numpy as np\n",
        "import matplotlib.pyplot as plt\n",
        "from PIL import Image\n",
        "\n",
        "import torch\n",
        "import torch.nn as nn\n",
        "import torch.nn.functional as F\n",
        "from torch import optim\n",
        "from torch.utils.data import DataLoader\n",
        "from torchvision import datasets, transforms\n",
        "from torchvision.transforms import Compose, ToTensor, Normalize\n",
        "from torch.nn.modules.container import Sequential\n"
      ]
    },
    {
      "cell_type": "code",
      "execution_count": 2,
      "metadata": {
        "id": "2077QcCUMIym"
      },
      "outputs": [],
      "source": [
        "BATCH_SIZE = 64\n",
        "NUM_WORKERS = 2\n",
        "if torch.cuda.is_available():\n",
        "    DEVICE = torch.device('cuda')\n",
        "else:\n",
        "    DEVICE = torch.device('cpu')\n"
      ]
    },
    {
      "cell_type": "code",
      "execution_count": null,
      "metadata": {
        "id": "_h07tFQRLwHm"
      },
      "outputs": [],
      "source": [
        "transform=transforms.Compose([\n",
        "                              ToTensor(),\n",
        "                              Normalize((0.5, 0.5, 0.5), (0.5, 0.5, 0.5))\n",
        "                              ])\n",
        "train = datasets.CIFAR10('../data',\n",
        "                         train=True,\n",
        "                         download=True,\n",
        "                         transform=transform)\n",
        "test = datasets.CIFAR10('../data',\n",
        "                        train=False,\n",
        "                        download=True,\n",
        "                        transform=transform)\n",
        "train_loader = torch.utils.data.DataLoader(train,\n",
        "                                           batch_size=BATCH_SIZE,\n",
        "                                           num_workers=NUM_WORKERS,\n",
        "                                           shuffle=True)\n",
        "test_loader = torch.utils.data.DataLoader(test,\n",
        "                                          batch_size=BATCH_SIZE,\n",
        "                                          num_workers=NUM_WORKERS,\n",
        "                                          shuffle=True)\n"
      ]
    },
    {
      "cell_type": "markdown",
      "metadata": {
        "id": "KfftygNsrRWk"
      },
      "source": [
        "## Models"
      ]
    },
    {
      "cell_type": "markdown",
      "source": [
        "### Autoencoder_Initial"
      ],
      "metadata": {
        "id": "OzenWK-7wl1w"
      }
    },
    {
      "cell_type": "code",
      "source": [
        "class Autoencoder_Initial(nn.Module):\n",
        "    def __init__(self):\n",
        "        super(Autoencoder_Initial, self).__init__()\n",
        "        self.channels = [3, 60, 120, 240]\n",
        "        self.hidden_state = 300\n",
        "        self.encoder = self.encoder_layers(self.channels, self.simple_enc_block)\n",
        "        self.flatten = nn.Flatten()\n",
        "        self.lin_neurons = [240, 4, 4]\n",
        "        self.enc_neurons = np.prod(self.lin_neurons)\n",
        "        self.linear = nn.Linear(self.enc_neurons,\n",
        "                                self.hidden_state)\n",
        "        self.rev_linear = nn.Linear(self.hidden_state,\n",
        "                                    self.enc_neurons)\n",
        "        self.decoder = self.decoder_layers(self.channels, self.simple_dec_block)\n",
        "\n",
        "    def simple_enc_block(self,\n",
        "                         input_channels: int = 3,\n",
        "                         output_channels: int = 3,\n",
        "                         kernel_size: int = 4,\n",
        "                         stride: int = 2,\n",
        "                         padding: int = 1,\n",
        "                         final_layer: bool = False) -> Sequential:\n",
        "        if not final_layer:\n",
        "            return nn.Sequential(\n",
        "                nn.Conv2d(in_channels=input_channels,\n",
        "                          out_channels=output_channels,\n",
        "                          kernel_size=kernel_size,\n",
        "                          stride=stride,\n",
        "                          padding=padding),\n",
        "                nn.BatchNorm2d(output_channels),\n",
        "                nn.Dropout(p=0.2),\n",
        "                nn.LeakyReLU(0.2)\n",
        "                )\n",
        "        else:\n",
        "            return nn.Sequential(\n",
        "                nn.Conv2d(in_channels=input_channels,\n",
        "                          out_channels=output_channels,\n",
        "                          kernel_size=kernel_size,\n",
        "                          stride=stride,\n",
        "                          padding=padding)\n",
        "                )\n",
        "\n",
        "    def encoder_layers(self, channels, simple_enc_block) -> Sequential:\n",
        "        layers = []\n",
        "        for i in range(len(channels)-1):\n",
        "            if self.channels[i] != channels[-2]:\n",
        "                layers.append(simple_enc_block(\n",
        "                    input_channels=channels[i],\n",
        "                    output_channels=channels[i+1]\n",
        "                ))\n",
        "            else:\n",
        "                layers.append(simple_enc_block(\n",
        "                    input_channels=channels[i],\n",
        "                    output_channels=channels[i+1],\n",
        "                    final_layer=True\n",
        "                    ))\n",
        "        return nn.Sequential(*layers)\n",
        "\n",
        "    def simple_dec_block(self,\n",
        "                         input_channels: int = 3,\n",
        "                         output_channels: int = 3,\n",
        "                         kernel_size: int = 4,\n",
        "                         stride: int = 2,\n",
        "                         padding: int = 1,\n",
        "                         final_layer: bool = False) -> Sequential:\n",
        "        if not final_layer:\n",
        "            return nn.Sequential(\n",
        "                nn.ConvTranspose2d(in_channels=input_channels,\n",
        "                                   out_channels=output_channels,\n",
        "                                   kernel_size=kernel_size,\n",
        "                                   stride=stride,\n",
        "                                   padding=padding),\n",
        "                nn.BatchNorm2d(output_channels),\n",
        "                nn.Dropout(p=0.2),\n",
        "                nn.LeakyReLU(0.2)\n",
        "                )\n",
        "        else:\n",
        "            return nn.Sequential(\n",
        "                nn.ConvTranspose2d(in_channels=input_channels,\n",
        "                                   out_channels=output_channels,\n",
        "                                   kernel_size=kernel_size,\n",
        "                                   stride=stride,\n",
        "                                   padding=padding)\n",
        "                )\n",
        "\n",
        "    def decoder_layers(self, channels, simple_dec_block) -> Sequential:\n",
        "        layers = []\n",
        "        dec_channels = list(reversed(channels))\n",
        "        for i in range(len(dec_channels)-1):\n",
        "            if dec_channels[i] != dec_channels[-2]:\n",
        "                layers.append(simple_dec_block(\n",
        "                    input_channels=dec_channels[i],\n",
        "                    output_channels=dec_channels[i+1]\n",
        "                    ))\n",
        "            else:\n",
        "                layers.append(simple_dec_block(\n",
        "                    input_channels=dec_channels[i],\n",
        "                    output_channels=dec_channels[i+1],\n",
        "                    final_layer=True\n",
        "                    ))\n",
        "        return nn.Sequential(*layers)\n",
        "\n",
        "    def forward(self, x) -> torch.Tensor:\n",
        "        encoded = self.encoder(x)\n",
        "        hidden_layer = torch.flatten(encoded, start_dim=1)\n",
        "        hidden_layer = self.linear(hidden_layer)\n",
        "        hidden_layer = self.rev_linear(hidden_layer)\n",
        "        hidden_layer = hidden_layer.view(-1, *self.lin_neurons)\n",
        "        decoded = self.decoder(hidden_layer)\n",
        "        return decoded"
      ],
      "metadata": {
        "id": "a_HvV9KREizm"
      },
      "execution_count": 61,
      "outputs": []
    },
    {
      "cell_type": "markdown",
      "source": [
        "### Autoencoder_ConvTranspose"
      ],
      "metadata": {
        "id": "bJRQkJg1Eyms"
      }
    },
    {
      "cell_type": "code",
      "execution_count": 45,
      "metadata": {
        "id": "ht3baJMLFgdN"
      },
      "outputs": [],
      "source": [
        "class Autoencoder_ConvTranspose(nn.Module):\n",
        "    def __init__(self):\n",
        "        super(Autoencoder_ConvTranspose, self).__init__()\n",
        "        self.channels = [3, 100, 200, 300]\n",
        "        self.encoder = Autoencoder_Initial().encoder_layers(\n",
        "            self.channels,\n",
        "            self.simple_enc_block\n",
        "        )\n",
        "        self.decoder = Autoencoder_Initial().decoder_layers(\n",
        "            self.channels,\n",
        "            self.simple_dec_block\n",
        "        )\n",
        "\n",
        "    def simple_enc_block(self,\n",
        "                         input_channels: int = 3,\n",
        "                         output_channels: int = 3,\n",
        "                         kernel_size: int = 3,\n",
        "                         final_layer: bool = False) -> Sequential:\n",
        "        if not final_layer:\n",
        "            return nn.Sequential(\n",
        "                nn.Conv2d(\n",
        "                    in_channels=input_channels,\n",
        "                    out_channels=output_channels,\n",
        "                    kernel_size=kernel_size,\n",
        "                ),\n",
        "                nn.BatchNorm2d(output_channels),\n",
        "                nn.MaxPool2d(kernel_size=3),\n",
        "                nn.Dropout(p=0.2),\n",
        "                nn.LeakyReLU(0.2)\n",
        "                )\n",
        "        else:\n",
        "            return nn.Sequential(\n",
        "                nn.Conv2d(\n",
        "                    in_channels=input_channels,\n",
        "                    out_channels=300,\n",
        "                    kernel_size=2,\n",
        "                ),\n",
        "                )\n",
        "\n",
        "    def simple_dec_block(self,\n",
        "                         input_channels: int = 3,\n",
        "                         output_channels: int = 3,\n",
        "                         kernel_size: int = 3,\n",
        "                         stride=2,\n",
        "                         dilation=2,\n",
        "                         output_padding=1,\n",
        "                         final_layer: bool = False) -> Sequential:\n",
        "        if not final_layer:\n",
        "            return nn.Sequential(\n",
        "                nn.ConvTranspose2d(in_channels=input_channels,\n",
        "                                   out_channels=output_channels,\n",
        "                                   kernel_size=kernel_size,\n",
        "                                   stride=stride,\n",
        "                                   dilation=dilation,\n",
        "                                   output_padding=output_padding,),\n",
        "                nn.BatchNorm2d(output_channels),\n",
        "                nn.Dropout(p=0.2),\n",
        "                nn.LeakyReLU(0.2)\n",
        "                )\n",
        "        else:\n",
        "            return nn.Sequential(\n",
        "                nn.ConvTranspose2d(in_channels=input_channels,\n",
        "                                   out_channels=output_channels,\n",
        "                                   kernel_size=kernel_size,\n",
        "                                   stride=stride,\n",
        "                                   dilation=1,\n",
        "                                   padding=1,\n",
        "                                   output_padding=1)\n",
        "                )\n",
        "\n",
        "    def forward(self, x) -> torch.Tensor:\n",
        "        encoded = self.encoder(x)\n",
        "        decoded = self.decoder(encoded)\n",
        "        return decoded"
      ]
    },
    {
      "cell_type": "markdown",
      "source": [
        "### Autoencoder_Upsamling"
      ],
      "metadata": {
        "id": "pjbsmhefwxXp"
      }
    },
    {
      "cell_type": "code",
      "source": [
        "class Autoencoder_Upsampling(nn.Module):\n",
        "    def __init__(self):\n",
        "        super(Autoencoder_Upsampling, self).__init__()\n",
        "        self.channels = [3, 100, 200, 300]\n",
        "        self.encoder = Autoencoder_Initial().encoder_layers(\n",
        "            self.channels,\n",
        "            self.simple_enc_block\n",
        "        )\n",
        "        self.decoder = Autoencoder_Initial().decoder_layers(\n",
        "            self.channels,\n",
        "            self.simple_dec_block\n",
        "        )\n",
        "\n",
        "    def simple_enc_block(self,\n",
        "                         input_channels: int = 3,\n",
        "                         output_channels: int = 3,\n",
        "                         kernel_size: int = 3,\n",
        "                         final_layer: bool = False) -> Sequential:\n",
        "        if not final_layer:\n",
        "            return nn.Sequential(\n",
        "                nn.Conv2d(\n",
        "                    in_channels=input_channels,\n",
        "                    out_channels=output_channels,\n",
        "                    kernel_size=kernel_size,\n",
        "                ),\n",
        "                nn.BatchNorm2d(output_channels),\n",
        "                nn.MaxPool2d(kernel_size=kernel_size),\n",
        "                nn.Dropout(p=0.2),\n",
        "                nn.LeakyReLU(0.2)\n",
        "                )\n",
        "        else:\n",
        "            return nn.Sequential(\n",
        "                nn.Conv2d(\n",
        "                    in_channels=input_channels,\n",
        "                    out_channels=output_channels,\n",
        "                    kernel_size=2,\n",
        "                ),\n",
        "                )\n",
        "\n",
        "    def simple_dec_block(self,\n",
        "                         input_channels: int = 3,\n",
        "                         output_channels: int = 3,\n",
        "                         kernel_size: int = 1,\n",
        "                         scale_factor: float = 4,\n",
        "                         final_layer: bool = False) -> Sequential:\n",
        "        if not final_layer:\n",
        "            return nn.Sequential(\n",
        "                nn.Conv2d(\n",
        "                    in_channels=input_channels,\n",
        "                    out_channels=output_channels,\n",
        "                    kernel_size=kernel_size,\n",
        "                ),\n",
        "                nn.Upsample(scale_factor=scale_factor, mode='bilinear'),\n",
        "                nn.BatchNorm2d(output_channels),\n",
        "                nn.Dropout(p=0.2),\n",
        "                nn.LeakyReLU(0.2)\n",
        "                )\n",
        "        else:\n",
        "            return nn.Sequential(\n",
        "                nn.Conv2d(\n",
        "                    in_channels=input_channels,\n",
        "                    out_channels=output_channels,\n",
        "                    kernel_size=kernel_size,\n",
        "                ),\n",
        "                nn.Upsample(scale_factor=2, mode='bilinear'),\n",
        "                )\n",
        "\n",
        "    def forward(self, x) -> torch.Tensor:\n",
        "        encoded = self.encoder(x)\n",
        "        decoded = self.decoder(encoded)\n",
        "        return decoded\n"
      ],
      "metadata": {
        "id": "X2E9kePOw025"
      },
      "execution_count": 83,
      "outputs": []
    },
    {
      "cell_type": "code",
      "source": [
        "sb = Autoencoder_Upsampling().simple_enc_block(final_layer=True)\n",
        "sb"
      ],
      "metadata": {
        "id": "Xp02PNfjRdIy",
        "outputId": "101294ee-f9b8-4f3a-d923-04dc062dff9f",
        "colab": {
          "base_uri": "https://localhost:8080/"
        }
      },
      "execution_count": 87,
      "outputs": [
        {
          "output_type": "execute_result",
          "data": {
            "text/plain": [
              "Sequential(\n",
              "  (0): Conv2d(3, 3, kernel_size=(2, 2), stride=(1, 1))\n",
              ")"
            ]
          },
          "metadata": {},
          "execution_count": 87
        }
      ]
    },
    {
      "cell_type": "code",
      "source": [
        "model = Autoencoder_Initial().encoder_layers#([3, 100, 200, 300], sb)\n",
        "model"
      ],
      "metadata": {
        "id": "CQXXq3q1OVNq",
        "outputId": "da6c6cd7-81b4-42c1-d3f2-d525af0584cb",
        "colab": {
          "base_uri": "https://localhost:8080/"
        }
      },
      "execution_count": 89,
      "outputs": [
        {
          "output_type": "execute_result",
          "data": {
            "text/plain": [
              "<bound method Autoencoder_Initial.encoder_layers of Autoencoder_Initial(\n",
              "  (encoder): Sequential(\n",
              "    (0): Sequential(\n",
              "      (0): Conv2d(3, 60, kernel_size=(4, 4), stride=(2, 2), padding=(1, 1))\n",
              "      (1): BatchNorm2d(60, eps=1e-05, momentum=0.1, affine=True, track_running_stats=True)\n",
              "      (2): Dropout(p=0.2, inplace=False)\n",
              "      (3): LeakyReLU(negative_slope=0.2)\n",
              "    )\n",
              "    (1): Sequential(\n",
              "      (0): Conv2d(60, 120, kernel_size=(4, 4), stride=(2, 2), padding=(1, 1))\n",
              "      (1): BatchNorm2d(120, eps=1e-05, momentum=0.1, affine=True, track_running_stats=True)\n",
              "      (2): Dropout(p=0.2, inplace=False)\n",
              "      (3): LeakyReLU(negative_slope=0.2)\n",
              "    )\n",
              "    (2): Sequential(\n",
              "      (0): Conv2d(120, 240, kernel_size=(4, 4), stride=(2, 2), padding=(1, 1))\n",
              "    )\n",
              "  )\n",
              "  (flatten): Flatten(start_dim=1, end_dim=-1)\n",
              "  (linear): Linear(in_features=3840, out_features=300, bias=True)\n",
              "  (rev_linear): Linear(in_features=300, out_features=3840, bias=True)\n",
              "  (decoder): Sequential(\n",
              "    (0): Sequential(\n",
              "      (0): ConvTranspose2d(240, 120, kernel_size=(4, 4), stride=(2, 2), padding=(1, 1))\n",
              "      (1): BatchNorm2d(120, eps=1e-05, momentum=0.1, affine=True, track_running_stats=True)\n",
              "      (2): Dropout(p=0.2, inplace=False)\n",
              "      (3): LeakyReLU(negative_slope=0.2)\n",
              "    )\n",
              "    (1): Sequential(\n",
              "      (0): ConvTranspose2d(120, 60, kernel_size=(4, 4), stride=(2, 2), padding=(1, 1))\n",
              "      (1): BatchNorm2d(60, eps=1e-05, momentum=0.1, affine=True, track_running_stats=True)\n",
              "      (2): Dropout(p=0.2, inplace=False)\n",
              "      (3): LeakyReLU(negative_slope=0.2)\n",
              "    )\n",
              "    (2): Sequential(\n",
              "      (0): ConvTranspose2d(60, 3, kernel_size=(4, 4), stride=(2, 2), padding=(1, 1))\n",
              "    )\n",
              "  )\n",
              ")>"
            ]
          },
          "metadata": {},
          "execution_count": 89
        }
      ]
    },
    {
      "cell_type": "markdown",
      "source": [
        "## Losses"
      ],
      "metadata": {
        "id": "nYNwHRhaw36s"
      }
    },
    {
      "cell_type": "code",
      "source": [
        "def MSE(fake: torch.Tensor,\n",
        "        image: torch.Tensor) -> torch.Tensor:\n",
        "    return torch.mean((fake - image)**2)"
      ],
      "metadata": {
        "id": "mJjMnlj4MDDo"
      },
      "execution_count": 52,
      "outputs": []
    },
    {
      "cell_type": "code",
      "source": [
        "def SSIM(fake: torch.Tensor, real: torch.Tensor) -> torch.Tensor:\n",
        "    k1: float = 0.01\n",
        "    k2: float = 0.03\n",
        "    mean_fake = torch.mean(fake, dim=[1, 2, 3])\n",
        "    mean_real = torch.mean(real, dim=[1, 2, 3])\n",
        "    var_fake = torch.var(fake, dim=[1, 2, 3])\n",
        "    var_real = torch.var(real, dim=[1, 2, 3])\n",
        "    c1 = (k1) ** 2  # L=1, because of normalised images\n",
        "    c2 = (k2) ** 2  # L=1, because of normalised images\n",
        "    fake_dif = torch.sub(fake, mean_fake[:, None, None, None])\n",
        "    real_dif = torch.sub(real, mean_real[:, None, None, None])\n",
        "    covariance = (\n",
        "        torch.sum(fake_dif * real_dif, dim=[1, 2, 3])\n",
        "        / real.size()[-1] / real.size()[-2] / real.size()[-3]\n",
        "    )\n",
        "    ssim_numerator = (\n",
        "        (2 * mean_fake * mean_real + c1) * (2 * covariance + c2)\n",
        "    )\n",
        "    ssim_denominator = (\n",
        "        ((mean_fake) ** 2 + (mean_real) ** 2 + c1)\n",
        "        * ((var_fake) ** 2 + (var_real) ** 2 + c2)\n",
        "    )\n",
        "    ssim = ssim_numerator / ssim_denominator\n",
        "    return torch.mean(ssim)\n"
      ],
      "metadata": {
        "id": "Zh7e3OUCw6Rf"
      },
      "execution_count": 54,
      "outputs": []
    },
    {
      "cell_type": "markdown",
      "source": [
        "## Train and test functions"
      ],
      "metadata": {
        "id": "gW6pI3t3w9Pn"
      }
    },
    {
      "cell_type": "code",
      "source": [
        "def train(model: nn.Sequential,\n",
        "          train_loader: DataLoader,\n",
        "          optimizer: torch.optim,\n",
        "          device: torch.device) -> None:\n",
        "    for images, _ in train_loader:\n",
        "        images = images.to(DEVICE)\n",
        "        optimizer.zero_grad()\n",
        "        outputs = model(images)\n",
        "        batch_loss = MSE(outputs, images)\n",
        "        batch_loss.backward()\n",
        "        optimizer.step()"
      ],
      "metadata": {
        "id": "GrAN61uMMTv_"
      },
      "execution_count": 55,
      "outputs": []
    },
    {
      "cell_type": "code",
      "execution_count": 56,
      "metadata": {
        "id": "DQM8mIj0WZNi"
      },
      "outputs": [],
      "source": [
        "def test(model: nn.Sequential,\n",
        "         test_loader: DataLoader,\n",
        "         device: torch.device) -> float:\n",
        "    model.eval()\n",
        "    test_loss = 0\n",
        "    acc = 0\n",
        "    with torch.no_grad():\n",
        "        for images, _ in test_loader:\n",
        "            images = images.to(DEVICE)\n",
        "            output = model(images)\n",
        "            loss = MSE(output, images)\n",
        "            test_loss += loss.item()\n",
        "    return test_loss / len(test_loader)"
      ]
    },
    {
      "cell_type": "markdown",
      "source": [
        "## Training"
      ],
      "metadata": {
        "id": "UrEI0PYVMZ4g"
      }
    },
    {
      "cell_type": "code",
      "execution_count": 59,
      "metadata": {
        "id": "RtxjR-Tjufv9",
        "colab": {
          "base_uri": "https://localhost:8080/",
          "height": 1000
        },
        "outputId": "f556610f-a975-4019-c285-92cbbf022e59"
      },
      "outputs": [
        {
          "output_type": "error",
          "ename": "RuntimeError",
          "evalue": "ignored",
          "traceback": [
            "\u001b[0;31m---------------------------------------------------------------------------\u001b[0m",
            "\u001b[0;31mRuntimeError\u001b[0m                              Traceback (most recent call last)",
            "\u001b[0;32m<ipython-input-59-6e816ff279cc>\u001b[0m in \u001b[0;36m<module>\u001b[0;34m()\u001b[0m\n\u001b[1;32m     12\u001b[0m \u001b[0;32mfor\u001b[0m \u001b[0mepoch\u001b[0m \u001b[0;32min\u001b[0m \u001b[0mrange\u001b[0m\u001b[0;34m(\u001b[0m\u001b[0mepochs\u001b[0m\u001b[0;34m)\u001b[0m\u001b[0;34m:\u001b[0m\u001b[0;34m\u001b[0m\u001b[0;34m\u001b[0m\u001b[0m\n\u001b[1;32m     13\u001b[0m     \u001b[0mloss\u001b[0m \u001b[0;34m=\u001b[0m \u001b[0;36m0.0\u001b[0m\u001b[0;34m\u001b[0m\u001b[0;34m\u001b[0m\u001b[0m\n\u001b[0;32m---> 14\u001b[0;31m     \u001b[0mtrain\u001b[0m\u001b[0;34m(\u001b[0m\u001b[0mmodel\u001b[0m\u001b[0;34m,\u001b[0m \u001b[0mtrain_loader\u001b[0m\u001b[0;34m,\u001b[0m \u001b[0moptimizer\u001b[0m\u001b[0;34m,\u001b[0m \u001b[0mDEVICE\u001b[0m\u001b[0;34m)\u001b[0m\u001b[0;34m\u001b[0m\u001b[0;34m\u001b[0m\u001b[0m\n\u001b[0m\u001b[1;32m     15\u001b[0m     \u001b[0mtest_loss\u001b[0m \u001b[0;34m=\u001b[0m \u001b[0mtest\u001b[0m\u001b[0;34m(\u001b[0m\u001b[0mmodel\u001b[0m\u001b[0;34m,\u001b[0m \u001b[0mtest_loader\u001b[0m\u001b[0;34m,\u001b[0m \u001b[0mDEVICE\u001b[0m\u001b[0;34m)\u001b[0m\u001b[0;34m\u001b[0m\u001b[0;34m\u001b[0m\u001b[0m\n\u001b[1;32m     16\u001b[0m     \u001b[0mtest_loss_list\u001b[0m\u001b[0;34m.\u001b[0m\u001b[0mappend\u001b[0m\u001b[0;34m(\u001b[0m\u001b[0mtest_loss\u001b[0m\u001b[0;34m)\u001b[0m\u001b[0;34m\u001b[0m\u001b[0;34m\u001b[0m\u001b[0m\n",
            "\u001b[0;32m<ipython-input-55-472dc862c6f8>\u001b[0m in \u001b[0;36mtrain\u001b[0;34m(model, train_loader, optimizer, device)\u001b[0m\n\u001b[1;32m      6\u001b[0m         \u001b[0mimages\u001b[0m \u001b[0;34m=\u001b[0m \u001b[0mimages\u001b[0m\u001b[0;34m.\u001b[0m\u001b[0mto\u001b[0m\u001b[0;34m(\u001b[0m\u001b[0mDEVICE\u001b[0m\u001b[0;34m)\u001b[0m\u001b[0;34m\u001b[0m\u001b[0;34m\u001b[0m\u001b[0m\n\u001b[1;32m      7\u001b[0m         \u001b[0moptimizer\u001b[0m\u001b[0;34m.\u001b[0m\u001b[0mzero_grad\u001b[0m\u001b[0;34m(\u001b[0m\u001b[0;34m)\u001b[0m\u001b[0;34m\u001b[0m\u001b[0;34m\u001b[0m\u001b[0m\n\u001b[0;32m----> 8\u001b[0;31m         \u001b[0moutputs\u001b[0m \u001b[0;34m=\u001b[0m \u001b[0mmodel\u001b[0m\u001b[0;34m(\u001b[0m\u001b[0mimages\u001b[0m\u001b[0;34m)\u001b[0m\u001b[0;34m\u001b[0m\u001b[0;34m\u001b[0m\u001b[0m\n\u001b[0m\u001b[1;32m      9\u001b[0m         \u001b[0mbatch_loss\u001b[0m \u001b[0;34m=\u001b[0m \u001b[0mMSE\u001b[0m\u001b[0;34m(\u001b[0m\u001b[0moutputs\u001b[0m\u001b[0;34m,\u001b[0m \u001b[0mimages\u001b[0m\u001b[0;34m)\u001b[0m\u001b[0;34m\u001b[0m\u001b[0;34m\u001b[0m\u001b[0m\n\u001b[1;32m     10\u001b[0m         \u001b[0mbatch_loss\u001b[0m\u001b[0;34m.\u001b[0m\u001b[0mbackward\u001b[0m\u001b[0;34m(\u001b[0m\u001b[0;34m)\u001b[0m\u001b[0;34m\u001b[0m\u001b[0;34m\u001b[0m\u001b[0m\n",
            "\u001b[0;32m/usr/local/lib/python3.7/dist-packages/torch/nn/modules/module.py\u001b[0m in \u001b[0;36m_call_impl\u001b[0;34m(self, *input, **kwargs)\u001b[0m\n\u001b[1;32m   1108\u001b[0m         if not (self._backward_hooks or self._forward_hooks or self._forward_pre_hooks or _global_backward_hooks\n\u001b[1;32m   1109\u001b[0m                 or _global_forward_hooks or _global_forward_pre_hooks):\n\u001b[0;32m-> 1110\u001b[0;31m             \u001b[0;32mreturn\u001b[0m \u001b[0mforward_call\u001b[0m\u001b[0;34m(\u001b[0m\u001b[0;34m*\u001b[0m\u001b[0minput\u001b[0m\u001b[0;34m,\u001b[0m \u001b[0;34m**\u001b[0m\u001b[0mkwargs\u001b[0m\u001b[0;34m)\u001b[0m\u001b[0;34m\u001b[0m\u001b[0;34m\u001b[0m\u001b[0m\n\u001b[0m\u001b[1;32m   1111\u001b[0m         \u001b[0;31m# Do not call functions when jit is used\u001b[0m\u001b[0;34m\u001b[0m\u001b[0;34m\u001b[0m\u001b[0;34m\u001b[0m\u001b[0m\n\u001b[1;32m   1112\u001b[0m         \u001b[0mfull_backward_hooks\u001b[0m\u001b[0;34m,\u001b[0m \u001b[0mnon_full_backward_hooks\u001b[0m \u001b[0;34m=\u001b[0m \u001b[0;34m[\u001b[0m\u001b[0;34m]\u001b[0m\u001b[0;34m,\u001b[0m \u001b[0;34m[\u001b[0m\u001b[0;34m]\u001b[0m\u001b[0;34m\u001b[0m\u001b[0;34m\u001b[0m\u001b[0m\n",
            "\u001b[0;32m<ipython-input-50-2f2e9b837470>\u001b[0m in \u001b[0;36mforward\u001b[0;34m(self, x)\u001b[0m\n\u001b[1;32m     67\u001b[0m \u001b[0;34m\u001b[0m\u001b[0m\n\u001b[1;32m     68\u001b[0m     \u001b[0;32mdef\u001b[0m \u001b[0mforward\u001b[0m\u001b[0;34m(\u001b[0m\u001b[0mself\u001b[0m\u001b[0;34m,\u001b[0m \u001b[0mx\u001b[0m\u001b[0;34m)\u001b[0m\u001b[0;34m:\u001b[0m\u001b[0;34m\u001b[0m\u001b[0;34m\u001b[0m\u001b[0m\n\u001b[0;32m---> 69\u001b[0;31m         \u001b[0mencoded\u001b[0m \u001b[0;34m=\u001b[0m \u001b[0mself\u001b[0m\u001b[0;34m.\u001b[0m\u001b[0mencoder\u001b[0m\u001b[0;34m(\u001b[0m\u001b[0mx\u001b[0m\u001b[0;34m)\u001b[0m\u001b[0;34m\u001b[0m\u001b[0;34m\u001b[0m\u001b[0m\n\u001b[0m\u001b[1;32m     70\u001b[0m         \u001b[0mdecoded\u001b[0m \u001b[0;34m=\u001b[0m \u001b[0mself\u001b[0m\u001b[0;34m.\u001b[0m\u001b[0mdecoder\u001b[0m\u001b[0;34m(\u001b[0m\u001b[0mencoded\u001b[0m\u001b[0;34m)\u001b[0m\u001b[0;34m\u001b[0m\u001b[0;34m\u001b[0m\u001b[0m\n\u001b[1;32m     71\u001b[0m         \u001b[0;32mreturn\u001b[0m \u001b[0mdecoded\u001b[0m\u001b[0;34m\u001b[0m\u001b[0;34m\u001b[0m\u001b[0m\n",
            "\u001b[0;32m/usr/local/lib/python3.7/dist-packages/torch/nn/modules/module.py\u001b[0m in \u001b[0;36m_call_impl\u001b[0;34m(self, *input, **kwargs)\u001b[0m\n\u001b[1;32m   1108\u001b[0m         if not (self._backward_hooks or self._forward_hooks or self._forward_pre_hooks or _global_backward_hooks\n\u001b[1;32m   1109\u001b[0m                 or _global_forward_hooks or _global_forward_pre_hooks):\n\u001b[0;32m-> 1110\u001b[0;31m             \u001b[0;32mreturn\u001b[0m \u001b[0mforward_call\u001b[0m\u001b[0;34m(\u001b[0m\u001b[0;34m*\u001b[0m\u001b[0minput\u001b[0m\u001b[0;34m,\u001b[0m \u001b[0;34m**\u001b[0m\u001b[0mkwargs\u001b[0m\u001b[0;34m)\u001b[0m\u001b[0;34m\u001b[0m\u001b[0;34m\u001b[0m\u001b[0m\n\u001b[0m\u001b[1;32m   1111\u001b[0m         \u001b[0;31m# Do not call functions when jit is used\u001b[0m\u001b[0;34m\u001b[0m\u001b[0;34m\u001b[0m\u001b[0;34m\u001b[0m\u001b[0m\n\u001b[1;32m   1112\u001b[0m         \u001b[0mfull_backward_hooks\u001b[0m\u001b[0;34m,\u001b[0m \u001b[0mnon_full_backward_hooks\u001b[0m \u001b[0;34m=\u001b[0m \u001b[0;34m[\u001b[0m\u001b[0;34m]\u001b[0m\u001b[0;34m,\u001b[0m \u001b[0;34m[\u001b[0m\u001b[0;34m]\u001b[0m\u001b[0;34m\u001b[0m\u001b[0;34m\u001b[0m\u001b[0m\n",
            "\u001b[0;32m/usr/local/lib/python3.7/dist-packages/torch/nn/modules/container.py\u001b[0m in \u001b[0;36mforward\u001b[0;34m(self, input)\u001b[0m\n\u001b[1;32m    139\u001b[0m     \u001b[0;32mdef\u001b[0m \u001b[0mforward\u001b[0m\u001b[0;34m(\u001b[0m\u001b[0mself\u001b[0m\u001b[0;34m,\u001b[0m \u001b[0minput\u001b[0m\u001b[0;34m)\u001b[0m\u001b[0;34m:\u001b[0m\u001b[0;34m\u001b[0m\u001b[0;34m\u001b[0m\u001b[0m\n\u001b[1;32m    140\u001b[0m         \u001b[0;32mfor\u001b[0m \u001b[0mmodule\u001b[0m \u001b[0;32min\u001b[0m \u001b[0mself\u001b[0m\u001b[0;34m:\u001b[0m\u001b[0;34m\u001b[0m\u001b[0;34m\u001b[0m\u001b[0m\n\u001b[0;32m--> 141\u001b[0;31m             \u001b[0minput\u001b[0m \u001b[0;34m=\u001b[0m \u001b[0mmodule\u001b[0m\u001b[0;34m(\u001b[0m\u001b[0minput\u001b[0m\u001b[0;34m)\u001b[0m\u001b[0;34m\u001b[0m\u001b[0;34m\u001b[0m\u001b[0m\n\u001b[0m\u001b[1;32m    142\u001b[0m         \u001b[0;32mreturn\u001b[0m \u001b[0minput\u001b[0m\u001b[0;34m\u001b[0m\u001b[0;34m\u001b[0m\u001b[0m\n\u001b[1;32m    143\u001b[0m \u001b[0;34m\u001b[0m\u001b[0m\n",
            "\u001b[0;32m/usr/local/lib/python3.7/dist-packages/torch/nn/modules/module.py\u001b[0m in \u001b[0;36m_call_impl\u001b[0;34m(self, *input, **kwargs)\u001b[0m\n\u001b[1;32m   1108\u001b[0m         if not (self._backward_hooks or self._forward_hooks or self._forward_pre_hooks or _global_backward_hooks\n\u001b[1;32m   1109\u001b[0m                 or _global_forward_hooks or _global_forward_pre_hooks):\n\u001b[0;32m-> 1110\u001b[0;31m             \u001b[0;32mreturn\u001b[0m \u001b[0mforward_call\u001b[0m\u001b[0;34m(\u001b[0m\u001b[0;34m*\u001b[0m\u001b[0minput\u001b[0m\u001b[0;34m,\u001b[0m \u001b[0;34m**\u001b[0m\u001b[0mkwargs\u001b[0m\u001b[0;34m)\u001b[0m\u001b[0;34m\u001b[0m\u001b[0;34m\u001b[0m\u001b[0m\n\u001b[0m\u001b[1;32m   1111\u001b[0m         \u001b[0;31m# Do not call functions when jit is used\u001b[0m\u001b[0;34m\u001b[0m\u001b[0;34m\u001b[0m\u001b[0;34m\u001b[0m\u001b[0m\n\u001b[1;32m   1112\u001b[0m         \u001b[0mfull_backward_hooks\u001b[0m\u001b[0;34m,\u001b[0m \u001b[0mnon_full_backward_hooks\u001b[0m \u001b[0;34m=\u001b[0m \u001b[0;34m[\u001b[0m\u001b[0;34m]\u001b[0m\u001b[0;34m,\u001b[0m \u001b[0;34m[\u001b[0m\u001b[0;34m]\u001b[0m\u001b[0;34m\u001b[0m\u001b[0;34m\u001b[0m\u001b[0m\n",
            "\u001b[0;32m/usr/local/lib/python3.7/dist-packages/torch/nn/modules/container.py\u001b[0m in \u001b[0;36mforward\u001b[0;34m(self, input)\u001b[0m\n\u001b[1;32m    139\u001b[0m     \u001b[0;32mdef\u001b[0m \u001b[0mforward\u001b[0m\u001b[0;34m(\u001b[0m\u001b[0mself\u001b[0m\u001b[0;34m,\u001b[0m \u001b[0minput\u001b[0m\u001b[0;34m)\u001b[0m\u001b[0;34m:\u001b[0m\u001b[0;34m\u001b[0m\u001b[0;34m\u001b[0m\u001b[0m\n\u001b[1;32m    140\u001b[0m         \u001b[0;32mfor\u001b[0m \u001b[0mmodule\u001b[0m \u001b[0;32min\u001b[0m \u001b[0mself\u001b[0m\u001b[0;34m:\u001b[0m\u001b[0;34m\u001b[0m\u001b[0;34m\u001b[0m\u001b[0m\n\u001b[0;32m--> 141\u001b[0;31m             \u001b[0minput\u001b[0m \u001b[0;34m=\u001b[0m \u001b[0mmodule\u001b[0m\u001b[0;34m(\u001b[0m\u001b[0minput\u001b[0m\u001b[0;34m)\u001b[0m\u001b[0;34m\u001b[0m\u001b[0;34m\u001b[0m\u001b[0m\n\u001b[0m\u001b[1;32m    142\u001b[0m         \u001b[0;32mreturn\u001b[0m \u001b[0minput\u001b[0m\u001b[0;34m\u001b[0m\u001b[0;34m\u001b[0m\u001b[0m\n\u001b[1;32m    143\u001b[0m \u001b[0;34m\u001b[0m\u001b[0m\n",
            "\u001b[0;32m/usr/local/lib/python3.7/dist-packages/torch/nn/modules/module.py\u001b[0m in \u001b[0;36m_call_impl\u001b[0;34m(self, *input, **kwargs)\u001b[0m\n\u001b[1;32m   1108\u001b[0m         if not (self._backward_hooks or self._forward_hooks or self._forward_pre_hooks or _global_backward_hooks\n\u001b[1;32m   1109\u001b[0m                 or _global_forward_hooks or _global_forward_pre_hooks):\n\u001b[0;32m-> 1110\u001b[0;31m             \u001b[0;32mreturn\u001b[0m \u001b[0mforward_call\u001b[0m\u001b[0;34m(\u001b[0m\u001b[0;34m*\u001b[0m\u001b[0minput\u001b[0m\u001b[0;34m,\u001b[0m \u001b[0;34m**\u001b[0m\u001b[0mkwargs\u001b[0m\u001b[0;34m)\u001b[0m\u001b[0;34m\u001b[0m\u001b[0;34m\u001b[0m\u001b[0m\n\u001b[0m\u001b[1;32m   1111\u001b[0m         \u001b[0;31m# Do not call functions when jit is used\u001b[0m\u001b[0;34m\u001b[0m\u001b[0;34m\u001b[0m\u001b[0;34m\u001b[0m\u001b[0m\n\u001b[1;32m   1112\u001b[0m         \u001b[0mfull_backward_hooks\u001b[0m\u001b[0;34m,\u001b[0m \u001b[0mnon_full_backward_hooks\u001b[0m \u001b[0;34m=\u001b[0m \u001b[0;34m[\u001b[0m\u001b[0;34m]\u001b[0m\u001b[0;34m,\u001b[0m \u001b[0;34m[\u001b[0m\u001b[0;34m]\u001b[0m\u001b[0;34m\u001b[0m\u001b[0;34m\u001b[0m\u001b[0m\n",
            "\u001b[0;32m/usr/local/lib/python3.7/dist-packages/torch/nn/modules/conv.py\u001b[0m in \u001b[0;36mforward\u001b[0;34m(self, input)\u001b[0m\n\u001b[1;32m    445\u001b[0m \u001b[0;34m\u001b[0m\u001b[0m\n\u001b[1;32m    446\u001b[0m     \u001b[0;32mdef\u001b[0m \u001b[0mforward\u001b[0m\u001b[0;34m(\u001b[0m\u001b[0mself\u001b[0m\u001b[0;34m,\u001b[0m \u001b[0minput\u001b[0m\u001b[0;34m:\u001b[0m \u001b[0mTensor\u001b[0m\u001b[0;34m)\u001b[0m \u001b[0;34m->\u001b[0m \u001b[0mTensor\u001b[0m\u001b[0;34m:\u001b[0m\u001b[0;34m\u001b[0m\u001b[0;34m\u001b[0m\u001b[0m\n\u001b[0;32m--> 447\u001b[0;31m         \u001b[0;32mreturn\u001b[0m \u001b[0mself\u001b[0m\u001b[0;34m.\u001b[0m\u001b[0m_conv_forward\u001b[0m\u001b[0;34m(\u001b[0m\u001b[0minput\u001b[0m\u001b[0;34m,\u001b[0m \u001b[0mself\u001b[0m\u001b[0;34m.\u001b[0m\u001b[0mweight\u001b[0m\u001b[0;34m,\u001b[0m \u001b[0mself\u001b[0m\u001b[0;34m.\u001b[0m\u001b[0mbias\u001b[0m\u001b[0;34m)\u001b[0m\u001b[0;34m\u001b[0m\u001b[0;34m\u001b[0m\u001b[0m\n\u001b[0m\u001b[1;32m    448\u001b[0m \u001b[0;34m\u001b[0m\u001b[0m\n\u001b[1;32m    449\u001b[0m \u001b[0;32mclass\u001b[0m \u001b[0mConv3d\u001b[0m\u001b[0;34m(\u001b[0m\u001b[0m_ConvNd\u001b[0m\u001b[0;34m)\u001b[0m\u001b[0;34m:\u001b[0m\u001b[0;34m\u001b[0m\u001b[0;34m\u001b[0m\u001b[0m\n",
            "\u001b[0;32m/usr/local/lib/python3.7/dist-packages/torch/nn/modules/conv.py\u001b[0m in \u001b[0;36m_conv_forward\u001b[0;34m(self, input, weight, bias)\u001b[0m\n\u001b[1;32m    442\u001b[0m                             _pair(0), self.dilation, self.groups)\n\u001b[1;32m    443\u001b[0m         return F.conv2d(input, weight, bias, self.stride,\n\u001b[0;32m--> 444\u001b[0;31m                         self.padding, self.dilation, self.groups)\n\u001b[0m\u001b[1;32m    445\u001b[0m \u001b[0;34m\u001b[0m\u001b[0m\n\u001b[1;32m    446\u001b[0m     \u001b[0;32mdef\u001b[0m \u001b[0mforward\u001b[0m\u001b[0;34m(\u001b[0m\u001b[0mself\u001b[0m\u001b[0;34m,\u001b[0m \u001b[0minput\u001b[0m\u001b[0;34m:\u001b[0m \u001b[0mTensor\u001b[0m\u001b[0;34m)\u001b[0m \u001b[0;34m->\u001b[0m \u001b[0mTensor\u001b[0m\u001b[0;34m:\u001b[0m\u001b[0;34m\u001b[0m\u001b[0;34m\u001b[0m\u001b[0m\n",
            "\u001b[0;31mRuntimeError\u001b[0m: Calculated padded input size per channel: (2 x 2). Kernel size: (3 x 3). Kernel size can't be greater than actual input size"
          ]
        }
      ],
      "source": [
        "epochs = 100\n",
        "lr = 0.001\n",
        "test_loss_list = []\n",
        "eps = 1e-3\n",
        "\n",
        "model = Autoencoder_Upsampling().to(DEVICE)\n",
        "optimizer = torch.optim.Adam(model.parameters(), lr=lr)\n",
        "scheduler = torch.optim.lr_scheduler.ReduceLROnPlateau(optimizer, 'min')\n",
        "\n",
        "t0 = time()\n",
        "\n",
        "for epoch in range(epochs):\n",
        "    loss = 0.0\n",
        "    train(model, train_loader, optimizer, DEVICE)\n",
        "    test_loss = test(model, test_loader, DEVICE)\n",
        "    test_loss_list.append(test_loss)\n",
        "    t1 = (time() - t0) / 60\n",
        "    print('Epoch: {}, test loss: {:.5f}, '.format(epoch+1, test_loss) + \n",
        "            'time: {:.2f} min'.format(t1))\n",
        "    if epoch > 2:\n",
        "        if max(test_loss_list[-5:]) - min(test_loss_list[-5:]) > eps:\n",
        "            continue\n",
        "        else:\n",
        "            break\n",
        "print('Finish!')\n"
      ]
    },
    {
      "cell_type": "code",
      "execution_count": null,
      "metadata": {
        "id": "Ss8XWQ8Hv-GT"
      },
      "outputs": [],
      "source": [
        "plt.plot(range(1, len(test_loss_list) + 1), test_loss_list)\n",
        "plt.show()"
      ]
    },
    {
      "cell_type": "code",
      "execution_count": null,
      "metadata": {
        "id": "mEBXemhvxsoL"
      },
      "outputs": [],
      "source": [
        "%matplotlib inline\n",
        "import matplotlib.pyplot as plt\n",
        "import numpy as np\n",
        "from torchvision.utils import save_image\n",
        "\n",
        "def imshow(img, im_name):\n",
        "    img = img.detach().cpu()\n",
        "    save_image(img, im_name)\n",
        "    npimg = img.numpy()\n",
        "    plt.axis('off')\n",
        "    npimg = np.transpose(npimg, (1, 2, 0))\n",
        "    plt.imshow(npimg)\n",
        "    plt.show()\n",
        "\n",
        "\n",
        "def get_file_size_in_bytes(file_path):\n",
        "   size = os.path.getsize(file_path)\n",
        "   return size\n",
        "\n",
        "\n",
        "for i, (im, lab) in enumerate(train_loader):\n",
        "    print(im.shape)\n",
        "    print(lab[0])\n",
        "    imshow(im[0], '/content/image.jpeg')\n",
        "    fake = model(im.to(DEVICE))\n",
        "    print(fake.shape)\n",
        "    imshow(fake[0], '/content/fake.jpeg')\n",
        "    real_size = get_file_size_in_bytes('/content/image.jpeg')\n",
        "    compressed_state=model.encoder_layers()\n",
        "    jpeg_comp_rate = 3*32*32 / real_size\n",
        "    #ae_comp_rate = sys.getsizeof(fake[0]) / sys.getsizeof(compressed_state(im)[0])\n",
        "    ae_comp_rate = 3*32*32 / sys.getsizeof(compressed_state(im)[0])\n",
        "    print('jpeg ompression rate : {:.2f}'.format(jpeg_comp_rate))\n",
        "    print('AE ompression rate : {:.2f}'.format(ae_comp_rate))\n",
        "    break\n",
        "\n"
      ]
    },
    {
      "cell_type": "code",
      "execution_count": null,
      "metadata": {
        "id": "Xd0AqceTD2iU"
      },
      "outputs": [],
      "source": [
        ""
      ]
    }
  ],
  "metadata": {
    "accelerator": "GPU",
    "colab": {
      "name": "Untitled17.ipynb",
      "provenance": []
    },
    "kernelspec": {
      "display_name": "Python 3",
      "name": "python3"
    },
    "language_info": {
      "name": "python"
    }
  },
  "nbformat": 4,
  "nbformat_minor": 0
}