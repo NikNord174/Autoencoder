{
  "cells": [
    {
      "cell_type": "markdown",
      "metadata": {
        "id": "view-in-github",
        "colab_type": "text"
      },
      "source": [
        "<a href=\"https://colab.research.google.com/github/NikNord174/Autoencoder/blob/main/Autoencoder.ipynb\" target=\"_parent\"><img src=\"https://colab.research.google.com/assets/colab-badge.svg\" alt=\"Open In Colab\"/></a>"
      ]
    },
    {
      "cell_type": "markdown",
      "metadata": {
        "id": "nt2Axcc5LT4q"
      },
      "source": [
        "# Autoencoder"
      ]
    },
    {
      "cell_type": "markdown",
      "source": [
        "## Packages and data import"
      ],
      "metadata": {
        "id": "SHXXNaXIMv5-"
      }
    },
    {
      "cell_type": "code",
      "execution_count": null,
      "metadata": {
        "id": "w02GLPKNLTEJ"
      },
      "outputs": [],
      "source": [
        "import os\n",
        "import sys\n",
        "\n",
        "from time import time\n",
        "\n",
        "import numpy as np\n",
        "import matplotlib.pyplot as plt\n",
        "from PIL import Image\n",
        "\n",
        "import torch\n",
        "import torch.nn as nn\n",
        "import torch.nn.functional as F\n",
        "from torch import optim\n",
        "from torch.utils.data import DataLoader\n",
        "from torchvision import datasets, transforms\n",
        "from torchvision.transforms import Compose, ToTensor, Normalize\n",
        "from torch.nn.modules.container import Sequential\n"
      ]
    },
    {
      "cell_type": "code",
      "execution_count": null,
      "metadata": {
        "id": "2077QcCUMIym"
      },
      "outputs": [],
      "source": [
        "BATCH_SIZE = 64\n",
        "NUM_WORKERS = 2\n",
        "if torch.cuda.is_available():\n",
        "    DEVICE = torch.device('cuda')\n",
        "else:\n",
        "    DEVICE = torch.device('cpu')\n"
      ]
    },
    {
      "cell_type": "code",
      "execution_count": null,
      "metadata": {
        "id": "_h07tFQRLwHm"
      },
      "outputs": [],
      "source": [
        "transform=transforms.Compose([\n",
        "                              ToTensor(),\n",
        "                              Normalize((0.5, 0.5, 0.5), (0.5, 0.5, 0.5))\n",
        "                              ])\n",
        "train = datasets.CIFAR10('../data',\n",
        "                         train=True,\n",
        "                         download=True,\n",
        "                         transform=transform)\n",
        "test = datasets.CIFAR10('../data',\n",
        "                        train=False,\n",
        "                        download=True,\n",
        "                        transform=transform)\n",
        "train_loader = torch.utils.data.DataLoader(train,\n",
        "                                           batch_size=BATCH_SIZE,\n",
        "                                           num_workers=NUM_WORKERS,\n",
        "                                           shuffle=True)\n",
        "test_loader = torch.utils.data.DataLoader(test,\n",
        "                                          batch_size=BATCH_SIZE,\n",
        "                                          num_workers=NUM_WORKERS,\n",
        "                                          shuffle=True)\n"
      ]
    },
    {
      "cell_type": "markdown",
      "metadata": {
        "id": "KfftygNsrRWk"
      },
      "source": [
        "## Models"
      ]
    },
    {
      "cell_type": "markdown",
      "source": [
        "### Autoencoder_Initial"
      ],
      "metadata": {
        "id": "OzenWK-7wl1w"
      }
    },
    {
      "cell_type": "code",
      "source": [
        "class Autoencoder_Initial(nn.Module):\n",
        "    def __init__(self):\n",
        "        super(Autoencoder_Initial, self).__init__()\n",
        "        self.channels = [3, 60, 120, 240]\n",
        "        self.hidden_state = 300\n",
        "        self.encoder = self.encoder_layers()\n",
        "        self.flatten = nn.Flatten()\n",
        "        self.lin_neurons = [240, 4, 4]\n",
        "        self.enc_neurons = np.prod(self.lin_neurons)\n",
        "        self.linear = nn.Linear(self.enc_neurons,\n",
        "                                self.hidden_state)\n",
        "        self.rev_linear = nn.Linear(self.hidden_state,\n",
        "                                    self.enc_neurons)\n",
        "        self.decoder = self.decoder_layers()\n",
        "\n",
        "    def simple_enc_block(self,\n",
        "                         input_channels: int = 3,\n",
        "                         output_channels: int = 3,\n",
        "                         kernel_size: int = 4,\n",
        "                         stride: int = 2,\n",
        "                         padding: int = 1,\n",
        "                         final_layer: bool = False) -> nn.Sequential:\n",
        "        if not final_layer:\n",
        "            return nn.Sequential(\n",
        "                nn.Conv2d(in_channels=input_channels,\n",
        "                          out_channels=output_channels,\n",
        "                          kernel_size=kernel_size,\n",
        "                          stride=stride,\n",
        "                          padding=padding),\n",
        "                nn.BatchNorm2d(output_channels),\n",
        "                nn.Dropout(p=0.2),\n",
        "                nn.LeakyReLU(0.2)\n",
        "                )\n",
        "        else:\n",
        "            return nn.Sequential(\n",
        "                nn.Conv2d(in_channels=input_channels,\n",
        "                          out_channels=output_channels,\n",
        "                          kernel_size=kernel_size,\n",
        "                          stride=stride,\n",
        "                          padding=padding)\n",
        "                )\n",
        "\n",
        "    def encoder_layers(self) -> nn.Sequential:\n",
        "        layers = []\n",
        "        for i in range(len(self.channels)-1):\n",
        "            if self.channels[i] != self.channels[-2]:\n",
        "                layers.append(self.simple_enc_block(\n",
        "                    input_channels=self.channels[i],\n",
        "                    output_channels=self.channels[i+1]\n",
        "                ))\n",
        "            else:\n",
        "                layers.append(self.simple_enc_block(\n",
        "                    input_channels=self.channels[i],\n",
        "                    output_channels=self.channels[i+1],\n",
        "                    final_layer=True\n",
        "                    ))\n",
        "        return nn.Sequential(*layers)\n",
        "\n",
        "    def simple_dec_block(self,\n",
        "                         input_channels: int = 3,\n",
        "                         output_channels: int = 3,\n",
        "                         kernel_size: int = 4,\n",
        "                         stride: int = 2,\n",
        "                         padding: int = 1,\n",
        "                         final_layer: bool = False) -> nn.Sequential:\n",
        "        if not final_layer:\n",
        "            return nn.Sequential(\n",
        "                nn.ConvTranspose2d(in_channels=input_channels,\n",
        "                                   out_channels=output_channels,\n",
        "                                   kernel_size=kernel_size,\n",
        "                                   stride=stride,\n",
        "                                   padding=padding),\n",
        "                nn.BatchNorm2d(output_channels),\n",
        "                nn.Dropout(p=0.2),\n",
        "                nn.LeakyReLU(0.2)\n",
        "                )\n",
        "        else:\n",
        "            return nn.Sequential(\n",
        "                nn.ConvTranspose2d(in_channels=input_channels,\n",
        "                                   out_channels=output_channels,\n",
        "                                   kernel_size=kernel_size,\n",
        "                                   stride=stride,\n",
        "                                   padding=padding)\n",
        "                )\n",
        "\n",
        "    def decoder_layers(self) -> nn.Sequential:\n",
        "        layers = []\n",
        "        dec_channels = list(reversed(self.channels))\n",
        "        for i in range(len(dec_channels)-1):\n",
        "            if dec_channels[i] != dec_channels[-2]:\n",
        "                layers.append(self.simple_dec_block(\n",
        "                    input_channels=dec_channels[i],\n",
        "                    output_channels=dec_channels[i+1]\n",
        "                    ))\n",
        "            else:\n",
        "                layers.append(self.simple_dec_block(\n",
        "                    input_channels=dec_channels[i],\n",
        "                    output_channels=dec_channels[i+1],\n",
        "                    final_layer=True\n",
        "                    ))\n",
        "        return nn.Sequential(*layers)\n",
        "\n",
        "    def forward(self, x):\n",
        "        encoded = self.encoder(x)\n",
        "        hidden_layer = torch.flatten(encoded, start_dim=1)\n",
        "        hidden_layer = self.linear(hidden_layer)\n",
        "        hidden_layer = self.rev_linear(hidden_layer)\n",
        "        hidden_layer = hidden_layer.view(-1, *self.lin_neurons)\n",
        "        decoded = self.decoder(hidden_layer)\n",
        "        return decoded\n"
      ],
      "metadata": {
        "id": "a_HvV9KREizm"
      },
      "execution_count": null,
      "outputs": []
    },
    {
      "cell_type": "markdown",
      "source": [
        "### Autoencoder_ConvTranspose"
      ],
      "metadata": {
        "id": "bJRQkJg1Eyms"
      }
    },
    {
      "cell_type": "code",
      "execution_count": null,
      "metadata": {
        "id": "ht3baJMLFgdN"
      },
      "outputs": [],
      "source": [
        "class Autoencoder_ConvTranspose(nn.Module):\n",
        "    def __init__(self):\n",
        "        super(Autoencoder_ConvTranspose, self).__init__()\n",
        "        self.channels = [3, 100, 200, 300]\n",
        "        self.encoder = self.encoder_layers()\n",
        "        self.decoder = self.decoder_layers()\n",
        "\n",
        "    def simple_enc_block(self,\n",
        "                         input_channels: int = 3,\n",
        "                         output_channels: int = 3,\n",
        "                         kernel_size: int = 3,\n",
        "                         final_layer: bool = False) -> nn.Sequential:\n",
        "        if not final_layer:\n",
        "            return nn.Sequential(\n",
        "                nn.Conv2d(\n",
        "                    in_channels=input_channels,\n",
        "                    out_channels=output_channels,\n",
        "                    kernel_size=kernel_size,\n",
        "                ),\n",
        "                nn.BatchNorm2d(output_channels),\n",
        "                nn.MaxPool2d(kernel_size=3),\n",
        "                nn.Dropout(p=0.2),\n",
        "                nn.LeakyReLU(0.2)\n",
        "                )\n",
        "        else:\n",
        "            return nn.Sequential(\n",
        "                nn.Conv2d(\n",
        "                    in_channels=input_channels,\n",
        "                    out_channels=300,\n",
        "                    kernel_size=2,\n",
        "                ),\n",
        "                )\n",
        "\n",
        "    def encoder_layers(self) -> nn.Sequential:\n",
        "        layers = []\n",
        "        for i in range(len(self.channels)-1):\n",
        "            if self.channels[i] != self.channels[-2]:\n",
        "                layers.append(self.simple_enc_block(\n",
        "                    input_channels=self.channels[i],\n",
        "                    output_channels=self.channels[i+1])\n",
        "                )\n",
        "            else:\n",
        "                layers.append(self.simple_enc_block(\n",
        "                    input_channels=self.channels[i],\n",
        "                    output_channels=self.channels[i+1],\n",
        "                    final_layer=True)\n",
        "                )\n",
        "        return nn.Sequential(*layers)\n",
        "\n",
        "    def simple_dec_block(self,\n",
        "                         input_channels: int = 3,\n",
        "                         output_channels: int = 3,\n",
        "                         kernel_size: int = 3,\n",
        "                         stride: int = 2,\n",
        "                         dilation: int = 2,\n",
        "                         output_padding: int = 1,\n",
        "                         final_layer: bool = False) -> nn.Sequential:\n",
        "        if not final_layer:\n",
        "            return nn.Sequential(\n",
        "                nn.ConvTranspose2d(in_channels=input_channels,\n",
        "                                   out_channels=output_channels,\n",
        "                                   kernel_size=kernel_size,\n",
        "                                   stride=stride,\n",
        "                                   dilation=dilation,\n",
        "                                   output_padding=output_padding,),\n",
        "                nn.BatchNorm2d(output_channels),\n",
        "                nn.Dropout(p=0.2),\n",
        "                nn.LeakyReLU(0.2)\n",
        "                )\n",
        "        else:\n",
        "            return nn.Sequential(\n",
        "                nn.ConvTranspose2d(in_channels=input_channels,\n",
        "                                   out_channels=output_channels,\n",
        "                                   kernel_size=kernel_size,\n",
        "                                   stride=stride,\n",
        "                                   dilation=1,\n",
        "                                   padding=1,\n",
        "                                   output_padding=1)\n",
        "                )\n",
        "\n",
        "    def decoder_layers(self) -> nn.Sequential:\n",
        "        layers = []\n",
        "        dec_channels = list(reversed(self.channels))\n",
        "        for i in range(len(dec_channels)-1):\n",
        "            if dec_channels[i] != dec_channels[-2]:\n",
        "                layers.append(self.simple_dec_block(\n",
        "                    input_channels=dec_channels[i],\n",
        "                    output_channels=dec_channels[i+1])\n",
        "                )\n",
        "            else:\n",
        "                layers.append(self.simple_dec_block(\n",
        "                    input_channels=dec_channels[i],\n",
        "                    output_channels=dec_channels[i+1],\n",
        "                    final_layer=True)\n",
        "                )\n",
        "        return nn.Sequential(*layers)\n",
        "\n",
        "    def forward(self, x):\n",
        "        encoded = self.encoder(x)\n",
        "        decoded = self.decoder(encoded)\n",
        "        return decoded\n"
      ]
    },
    {
      "cell_type": "markdown",
      "source": [
        "### Autoencoder_Upsamling"
      ],
      "metadata": {
        "id": "pjbsmhefwxXp"
      }
    },
    {
      "cell_type": "code",
      "source": [
        "class Autoencoder_Upsampling(nn.Module):\n",
        "    def __init__(self):\n",
        "        super(Autoencoder_Upsampling, self).__init__()\n",
        "        self.channels = [3, 100, 200, 300]\n",
        "        self.encoder = self.encoder_layers()\n",
        "        self.decoder = self.decoder_layers()\n",
        "\n",
        "    def simple_enc_block(self,\n",
        "                         input_channels: int = 3,\n",
        "                         output_channels: int = 3,\n",
        "                         kernel_size: int = 3,\n",
        "                         final_layer: bool = False) -> nn.Sequential:\n",
        "        if not final_layer:\n",
        "            return nn.Sequential(\n",
        "                nn.Conv2d(\n",
        "                    in_channels=input_channels,\n",
        "                    out_channels=output_channels,\n",
        "                    kernel_size=kernel_size,\n",
        "                ),\n",
        "                nn.BatchNorm2d(output_channels),\n",
        "                nn.MaxPool2d(kernel_size=3),\n",
        "                nn.Dropout(p=0.2),\n",
        "                nn.LeakyReLU(0.2),)\n",
        "        else:\n",
        "            return nn.Sequential(\n",
        "                nn.Conv2d(\n",
        "                    in_channels=input_channels,\n",
        "                    out_channels=output_channels,\n",
        "                    kernel_size=2,\n",
        "                ),\n",
        "                )\n",
        "\n",
        "    def encoder_layers(self) -> nn.Sequential:\n",
        "        layers = []\n",
        "        for i in range(len(self.channels)-1):\n",
        "            if self.channels[i] != self.channels[-2]:\n",
        "                layers.append(self.simple_enc_block(\n",
        "                    input_channels=self.channels[i],\n",
        "                    output_channels=self.channels[i+1])\n",
        "                )\n",
        "            else:\n",
        "                layers.append(self.simple_enc_block(\n",
        "                    input_channels=self.channels[i],\n",
        "                    output_channels=self.channels[i+1],\n",
        "                    final_layer=True)\n",
        "                )\n",
        "        return nn.Sequential(*layers)\n",
        "\n",
        "    def simple_dec_block(self,\n",
        "                         input_channels: int = 3,\n",
        "                         output_channels: int = 3,\n",
        "                         kernel_size: int = 1,\n",
        "                         scale_factor: int = 4,\n",
        "                         mode: str = 'nearest',\n",
        "                         final_layer: bool = False) -> nn.Sequential:\n",
        "        if not final_layer:\n",
        "            return nn.Sequential(\n",
        "                nn.Conv2d(\n",
        "                    in_channels=input_channels,\n",
        "                    out_channels=output_channels,\n",
        "                    kernel_size=kernel_size,\n",
        "                ),\n",
        "                nn.Upsample(scale_factor=scale_factor, mode=mode),\n",
        "                nn.BatchNorm2d(output_channels),\n",
        "                nn.Dropout(p=0.2),\n",
        "                nn.LeakyReLU(0.2)\n",
        "                )\n",
        "        else:\n",
        "            return nn.Sequential(\n",
        "                nn.Conv2d(\n",
        "                    in_channels=input_channels,\n",
        "                    out_channels=output_channels,\n",
        "                    kernel_size=kernel_size,\n",
        "                ),\n",
        "                nn.Upsample(scale_factor=2, mode=mode),\n",
        "                )\n",
        "\n",
        "    def decoder_layers(self) -> nn.Sequential:\n",
        "        layers = []\n",
        "        dec_channels = list(reversed(self.channels))\n",
        "        for i in range(len(dec_channels)-1):\n",
        "            if dec_channels[i] != dec_channels[-2]:\n",
        "                layers.append(self.simple_dec_block(\n",
        "                    input_channels=dec_channels[i],\n",
        "                    output_channels=dec_channels[i+1])\n",
        "                )\n",
        "            else:\n",
        "                layers.append(self.simple_dec_block(\n",
        "                    input_channels=dec_channels[i],\n",
        "                    output_channels=dec_channels[i+1],\n",
        "                    final_layer=True)\n",
        "                )\n",
        "        return nn.Sequential(*layers)\n",
        "\n",
        "    def forward(self, x):\n",
        "        encoded = self.encoder(x)\n",
        "        decoded = self.decoder(encoded)\n",
        "        return decoded\n"
      ],
      "metadata": {
        "id": "X2E9kePOw025"
      },
      "execution_count": null,
      "outputs": []
    },
    {
      "cell_type": "markdown",
      "source": [
        "## Losses"
      ],
      "metadata": {
        "id": "nYNwHRhaw36s"
      }
    },
    {
      "cell_type": "code",
      "source": [
        "def MSE(fake: torch.Tensor,\n",
        "        image: torch.Tensor) -> torch.Tensor:\n",
        "    return torch.mean((fake - image)**2)"
      ],
      "metadata": {
        "id": "mJjMnlj4MDDo"
      },
      "execution_count": null,
      "outputs": []
    },
    {
      "cell_type": "code",
      "source": [
        "def SSIM(fake: torch.Tensor, real: torch.Tensor) -> torch.Tensor:\n",
        "    k1: float = 0.01\n",
        "    k2: float = 0.03\n",
        "    mean_fake = torch.mean(fake, dim=[1, 2, 3])\n",
        "    mean_real = torch.mean(real, dim=[1, 2, 3])\n",
        "    var_fake = torch.var(fake, dim=[1, 2, 3])\n",
        "    var_real = torch.var(real, dim=[1, 2, 3])\n",
        "    c1 = (k1) ** 2  # L=1, because of normalised images\n",
        "    c2 = (k2) ** 2  # L=1, because of normalised images\n",
        "    fake_dif = torch.sub(fake, mean_fake[:, None, None, None])\n",
        "    real_dif = torch.sub(real, mean_real[:, None, None, None])\n",
        "    covariance = (\n",
        "        torch.sum(fake_dif * real_dif, dim=[1, 2, 3])\n",
        "        / real.size()[-1] / real.size()[-2] / real.size()[-3]\n",
        "    )\n",
        "    ssim_numerator = (\n",
        "        (2 * mean_fake * mean_real + c1) * (2 * covariance + c2)\n",
        "    )\n",
        "    ssim_denominator = (\n",
        "        ((mean_fake) ** 2 + (mean_real) ** 2 + c1)\n",
        "        * ((var_fake) ** 2 + (var_real) ** 2 + c2)\n",
        "    )\n",
        "    ssim = ssim_numerator / ssim_denominator\n",
        "    return torch.mean(ssim)\n"
      ],
      "metadata": {
        "id": "Zh7e3OUCw6Rf"
      },
      "execution_count": null,
      "outputs": []
    },
    {
      "cell_type": "markdown",
      "source": [
        "## Train and test functions"
      ],
      "metadata": {
        "id": "gW6pI3t3w9Pn"
      }
    },
    {
      "cell_type": "code",
      "source": [
        "def train(model: nn.modules,\n",
        "          train_loader: DataLoader,\n",
        "          optimizer: torch.optim,\n",
        "          device: torch.device) -> None:\n",
        "    for images, _ in train_loader:\n",
        "        images = images.to(DEVICE)\n",
        "        optimizer.zero_grad()\n",
        "        outputs = model(images)\n",
        "        batch_loss = MSE(outputs, images)\n",
        "        batch_loss.backward()\n",
        "        optimizer.step()"
      ],
      "metadata": {
        "id": "GrAN61uMMTv_"
      },
      "execution_count": null,
      "outputs": []
    },
    {
      "cell_type": "code",
      "execution_count": null,
      "metadata": {
        "id": "DQM8mIj0WZNi"
      },
      "outputs": [],
      "source": [
        "def test(model: nn.modules,\n",
        "         test_loader: DataLoader,\n",
        "         device: torch.device) -> float:\n",
        "    model.eval()\n",
        "    test_loss = 0\n",
        "    acc = 0\n",
        "    with torch.no_grad():\n",
        "        for images, _ in test_loader:\n",
        "            images = images.to(DEVICE)\n",
        "            output = model(images)\n",
        "            loss = MSE(output, images)\n",
        "            test_loss += loss.item()\n",
        "    return test_loss / len(test_loader)"
      ]
    },
    {
      "cell_type": "markdown",
      "source": [
        "## Training"
      ],
      "metadata": {
        "id": "UrEI0PYVMZ4g"
      }
    },
    {
      "cell_type": "code",
      "execution_count": null,
      "metadata": {
        "id": "RtxjR-Tjufv9"
      },
      "outputs": [],
      "source": [
        "epochs = 100\n",
        "lr = 0.001\n",
        "test_loss_list = []\n",
        "eps = 1e-3\n",
        "\n",
        "model = Autoencoder_Upsampling().to(DEVICE)\n",
        "optimizer = torch.optim.Adam(model.parameters(), lr=lr)\n",
        "scheduler = torch.optim.lr_scheduler.ReduceLROnPlateau(optimizer, 'min')\n",
        "\n",
        "t0 = time()\n",
        "\n",
        "for epoch in range(epochs):\n",
        "    loss = 0.0\n",
        "    train(model, train_loader, optimizer, DEVICE)\n",
        "    test_loss = test(model, test_loader, DEVICE)\n",
        "    test_loss_list.append(test_loss)\n",
        "    t1 = (time() - t0) / 60\n",
        "    print('Epoch: {}, test loss: {:.5f}, '.format(epoch+1, test_loss) + \n",
        "            'time: {:.2f} min'.format(t1))\n",
        "    if epoch > 2:\n",
        "        if max(test_loss_list[-5:]) - min(test_loss_list[-5:]) > eps:\n",
        "            continue\n",
        "        else:\n",
        "            break\n",
        "print('Finish!')\n"
      ]
    },
    {
      "cell_type": "code",
      "execution_count": null,
      "metadata": {
        "id": "Ss8XWQ8Hv-GT"
      },
      "outputs": [],
      "source": [
        "plt.plot(range(1, len(test_loss_list) + 1), test_loss_list)\n",
        "plt.show()"
      ]
    },
    {
      "cell_type": "code",
      "execution_count": null,
      "metadata": {
        "id": "mEBXemhvxsoL"
      },
      "outputs": [],
      "source": [
        "%matplotlib inline\n",
        "import matplotlib.pyplot as plt\n",
        "import numpy as np\n",
        "from torchvision.utils import save_image\n",
        "\n",
        "def imshow(img, im_name):\n",
        "    img = img.detach().cpu()\n",
        "    save_image(img, im_name)\n",
        "    npimg = img.numpy()\n",
        "    plt.axis('off')\n",
        "    npimg = np.transpose(npimg, (1, 2, 0))\n",
        "    plt.imshow(npimg)\n",
        "    plt.show()\n",
        "\n",
        "\n",
        "def get_file_size_in_bytes(file_path):\n",
        "   size = os.path.getsize(file_path)\n",
        "   return size\n",
        "\n",
        "\n",
        "for i, (im, lab) in enumerate(train_loader):\n",
        "    print(im.shape)\n",
        "    print(lab[0])\n",
        "    imshow(im[0], '/content/image.jpeg')\n",
        "    fake = model(im.to(DEVICE))\n",
        "    print(fake.shape)\n",
        "    imshow(fake[0], '/content/fake.jpeg')\n",
        "    real_size = get_file_size_in_bytes('/content/image.jpeg')\n",
        "    compressed_state=model.encoder_layers()\n",
        "    jpeg_comp_rate = 3*32*32 / real_size\n",
        "    #ae_comp_rate = sys.getsizeof(fake[0]) / sys.getsizeof(compressed_state(im)[0])\n",
        "    ae_comp_rate = 3*32*32 / sys.getsizeof(compressed_state(im)[0])\n",
        "    print('jpeg ompression rate : {:.2f}'.format(jpeg_comp_rate))\n",
        "    print('AE ompression rate : {:.2f}'.format(ae_comp_rate))\n",
        "    break\n",
        "\n"
      ]
    },
    {
      "cell_type": "code",
      "execution_count": null,
      "metadata": {
        "id": "Xd0AqceTD2iU"
      },
      "outputs": [],
      "source": [
        ""
      ]
    }
  ],
  "metadata": {
    "accelerator": "GPU",
    "colab": {
      "name": "Untitled17.ipynb",
      "provenance": [],
      "include_colab_link": true
    },
    "kernelspec": {
      "display_name": "Python 3",
      "name": "python3"
    },
    "language_info": {
      "name": "python"
    }
  },
  "nbformat": 4,
  "nbformat_minor": 0
}