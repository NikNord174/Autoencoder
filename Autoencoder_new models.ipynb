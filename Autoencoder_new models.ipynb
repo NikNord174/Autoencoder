{
  "cells": [
    {
      "cell_type": "markdown",
      "metadata": {
        "id": "view-in-github",
        "colab_type": "text"
      },
      "source": [
        "<a href=\"https://colab.research.google.com/github/NikNord174/Autoencoder/blob/main/Autoencoder_new%20models.ipynb\" target=\"_parent\"><img src=\"https://colab.research.google.com/assets/colab-badge.svg\" alt=\"Open In Colab\"/></a>"
      ]
    },
    {
      "cell_type": "markdown",
      "metadata": {
        "id": "nt2Axcc5LT4q"
      },
      "source": [
        "# Autoencoder"
      ]
    },
    {
      "cell_type": "code",
      "execution_count": 1,
      "metadata": {
        "id": "w02GLPKNLTEJ"
      },
      "outputs": [],
      "source": [
        "import os\n",
        "import sys\n",
        "\n",
        "from time import time\n",
        "\n",
        "import numpy as np\n",
        "import matplotlib.pyplot as plt\n",
        "from PIL import Image\n",
        "\n",
        "import torch\n",
        "import torch.nn as nn\n",
        "import torch.nn.functional as F\n",
        "from torch import optim\n",
        "from torch.utils.data import DataLoader\n",
        "from torchvision import datasets, transforms\n",
        "from torchvision.transforms import Compose, ToTensor, Normalize\n"
      ]
    },
    {
      "cell_type": "code",
      "source": [
        "!pip install pytorch-ignite"
      ],
      "metadata": {
        "id": "ZhAg7JdPE-pG",
        "outputId": "4e1e5cf5-0c31-4e47-f384-c457fe810146",
        "colab": {
          "base_uri": "https://localhost:8080/"
        }
      },
      "execution_count": 2,
      "outputs": [
        {
          "output_type": "stream",
          "name": "stdout",
          "text": [
            "Looking in indexes: https://pypi.org/simple, https://us-python.pkg.dev/colab-wheels/public/simple/\n",
            "Collecting pytorch-ignite\n",
            "  Downloading pytorch_ignite-0.4.9-py3-none-any.whl (259 kB)\n",
            "\u001b[K     |████████████████████████████████| 259 kB 28.6 MB/s \n",
            "\u001b[?25hRequirement already satisfied: torch<2,>=1.3 in /usr/local/lib/python3.7/dist-packages (from pytorch-ignite) (1.11.0+cu113)\n",
            "Requirement already satisfied: packaging in /usr/local/lib/python3.7/dist-packages (from pytorch-ignite) (21.3)\n",
            "Requirement already satisfied: typing-extensions in /usr/local/lib/python3.7/dist-packages (from torch<2,>=1.3->pytorch-ignite) (4.1.1)\n",
            "Requirement already satisfied: pyparsing!=3.0.5,>=2.0.2 in /usr/local/lib/python3.7/dist-packages (from packaging->pytorch-ignite) (3.0.9)\n",
            "Installing collected packages: pytorch-ignite\n",
            "Successfully installed pytorch-ignite-0.4.9\n"
          ]
        }
      ]
    },
    {
      "cell_type": "code",
      "source": [
        "from ignite.metrics import SSIM"
      ],
      "metadata": {
        "id": "WFJHBupLE6O7"
      },
      "execution_count": 3,
      "outputs": []
    },
    {
      "cell_type": "code",
      "source": [
        "help(SSIM)"
      ],
      "metadata": {
        "id": "5qan83g_FFV-"
      },
      "execution_count": null,
      "outputs": []
    },
    {
      "cell_type": "code",
      "source": [
        "# With square kernels and equal stride\n",
        "filters = torch.randn(9, 4, 3, 3)\n",
        "inputs = torch.randn(1, 4, 5, 5)\n",
        "F.conv2d(inputs, filters, padding=1, groups=3).size()"
      ],
      "metadata": {
        "id": "Ved7xkgnFadT",
        "outputId": "287bcf85-6f48-47e2-e1e7-cec57a3b4aaf",
        "colab": {
          "base_uri": "https://localhost:8080/",
          "height": 198
        }
      },
      "execution_count": 63,
      "outputs": [
        {
          "output_type": "error",
          "ename": "RuntimeError",
          "evalue": "ignored",
          "traceback": [
            "\u001b[0;31m---------------------------------------------------------------------------\u001b[0m",
            "\u001b[0;31mRuntimeError\u001b[0m                              Traceback (most recent call last)",
            "\u001b[0;32m<ipython-input-63-59747662083b>\u001b[0m in \u001b[0;36m<module>\u001b[0;34m()\u001b[0m\n\u001b[1;32m      2\u001b[0m \u001b[0mfilters\u001b[0m \u001b[0;34m=\u001b[0m \u001b[0mtorch\u001b[0m\u001b[0;34m.\u001b[0m\u001b[0mrandn\u001b[0m\u001b[0;34m(\u001b[0m\u001b[0;36m9\u001b[0m\u001b[0;34m,\u001b[0m \u001b[0;36m4\u001b[0m\u001b[0;34m,\u001b[0m \u001b[0;36m3\u001b[0m\u001b[0;34m,\u001b[0m \u001b[0;36m3\u001b[0m\u001b[0;34m)\u001b[0m\u001b[0;34m\u001b[0m\u001b[0;34m\u001b[0m\u001b[0m\n\u001b[1;32m      3\u001b[0m \u001b[0minputs\u001b[0m \u001b[0;34m=\u001b[0m \u001b[0mtorch\u001b[0m\u001b[0;34m.\u001b[0m\u001b[0mrandn\u001b[0m\u001b[0;34m(\u001b[0m\u001b[0;36m1\u001b[0m\u001b[0;34m,\u001b[0m \u001b[0;36m4\u001b[0m\u001b[0;34m,\u001b[0m \u001b[0;36m5\u001b[0m\u001b[0;34m,\u001b[0m \u001b[0;36m5\u001b[0m\u001b[0;34m)\u001b[0m\u001b[0;34m\u001b[0m\u001b[0;34m\u001b[0m\u001b[0m\n\u001b[0;32m----> 4\u001b[0;31m \u001b[0mF\u001b[0m\u001b[0;34m.\u001b[0m\u001b[0mconv2d\u001b[0m\u001b[0;34m(\u001b[0m\u001b[0minputs\u001b[0m\u001b[0;34m,\u001b[0m \u001b[0mfilters\u001b[0m\u001b[0;34m,\u001b[0m \u001b[0mpadding\u001b[0m\u001b[0;34m=\u001b[0m\u001b[0;36m1\u001b[0m\u001b[0;34m,\u001b[0m \u001b[0mgroups\u001b[0m\u001b[0;34m=\u001b[0m\u001b[0;36m3\u001b[0m\u001b[0;34m)\u001b[0m\u001b[0;34m.\u001b[0m\u001b[0msize\u001b[0m\u001b[0;34m(\u001b[0m\u001b[0;34m)\u001b[0m\u001b[0;34m\u001b[0m\u001b[0;34m\u001b[0m\u001b[0m\n\u001b[0m",
            "\u001b[0;31mRuntimeError\u001b[0m: Given groups=3, weight of size [9, 4, 3, 3], expected input[1, 4, 5, 5] to have 12 channels, but got 4 channels instead"
          ]
        }
      ]
    },
    {
      "cell_type": "code",
      "execution_count": 5,
      "metadata": {
        "id": "2077QcCUMIym"
      },
      "outputs": [],
      "source": [
        "BATCH_SIZE = 64\n",
        "NUM_WORKERS = 2\n",
        "if torch.cuda.is_available():\n",
        "  DEVICE = torch.device('cuda')\n",
        "else:\n",
        "  DEVICE = torch.device('cpu')\n"
      ]
    },
    {
      "cell_type": "code",
      "execution_count": 6,
      "metadata": {
        "id": "_h07tFQRLwHm",
        "outputId": "30295980-7fe7-4e1c-ca87-d943ea00916f",
        "colab": {
          "base_uri": "https://localhost:8080/",
          "height": 100,
          "referenced_widgets": [
            "186a62b2258940f7b558bca8e43f8cb5",
            "3559aebfea3a4fdd9f470bc034874430",
            "95e6d17d2bb24d8c97df1d127a042329",
            "94b7e25a04394d58a34f017f2e03c31c",
            "b6f6070099ac40618282b9c46f2f4a82",
            "d72d661e12c045dea6f2539243716800",
            "f7ba4dd2490f40eb91e16666502d8994",
            "8bca1382a7894905976d1803367f4a0f",
            "c3c14677dd7448a3abbec1eb96241ea0",
            "f7ba1d1549d04e318ddd40c6ce98f5ab",
            "8591bf21d40e44e2b1abb3f47267f240"
          ]
        }
      },
      "outputs": [
        {
          "output_type": "stream",
          "name": "stdout",
          "text": [
            "Downloading https://www.cs.toronto.edu/~kriz/cifar-10-python.tar.gz to ../data/cifar-10-python.tar.gz\n"
          ]
        },
        {
          "output_type": "display_data",
          "data": {
            "text/plain": [
              "  0%|          | 0/170498071 [00:00<?, ?it/s]"
            ],
            "application/vnd.jupyter.widget-view+json": {
              "version_major": 2,
              "version_minor": 0,
              "model_id": "186a62b2258940f7b558bca8e43f8cb5"
            }
          },
          "metadata": {}
        },
        {
          "output_type": "stream",
          "name": "stdout",
          "text": [
            "Extracting ../data/cifar-10-python.tar.gz to ../data\n",
            "Files already downloaded and verified\n"
          ]
        }
      ],
      "source": [
        "transform=transforms.Compose([\n",
        "                              ToTensor(),\n",
        "                              Normalize((0.5, 0.5, 0.5), (0.5, 0.5, 0.5))\n",
        "                              ])\n",
        "train = datasets.CIFAR10('../data',\n",
        "                         train=True,\n",
        "                         download=True,\n",
        "                         transform=transform)\n",
        "test = datasets.CIFAR10('../data',\n",
        "                        train=False,\n",
        "                        download=True,\n",
        "                        transform=transform)\n",
        "train_loader = torch.utils.data.DataLoader(train,\n",
        "                                           batch_size=BATCH_SIZE,\n",
        "                                           num_workers=NUM_WORKERS,\n",
        "                                           shuffle=True)\n",
        "test_loader = torch.utils.data.DataLoader(test,\n",
        "                                          batch_size=BATCH_SIZE,\n",
        "                                          num_workers=NUM_WORKERS,\n",
        "                                          shuffle=True)\n"
      ]
    },
    {
      "cell_type": "markdown",
      "metadata": {
        "id": "KfftygNsrRWk"
      },
      "source": [
        "## Models"
      ]
    },
    {
      "cell_type": "markdown",
      "source": [
        "### Autoencoder_ConvTranspose"
      ],
      "metadata": {
        "id": "OzenWK-7wl1w"
      }
    },
    {
      "cell_type": "code",
      "execution_count": 10,
      "metadata": {
        "id": "ht3baJMLFgdN"
      },
      "outputs": [],
      "source": [
        "class Autoencoder_ConvTranspose(nn.Module):\n",
        "    def __init__(self):\n",
        "        super(Autoencoder_ConvTranspose, self).__init__()\n",
        "        self.channels = [3, 100, 200, 300]\n",
        "        self.encoder = self.encoder_layers()\n",
        "        self.decoder = self.decoder_layers()\n",
        "\n",
        "    def simple_enc_block(self,\n",
        "                         input_channels: int = 3,\n",
        "                         output_channels: int = 3,\n",
        "                         kernel_size: int = 3,\n",
        "                         final_layer: bool = False) -> nn.Sequential:\n",
        "        if not final_layer:\n",
        "            return nn.Sequential(\n",
        "                nn.Conv2d(\n",
        "                    in_channels=input_channels,\n",
        "                    out_channels=output_channels,\n",
        "                    kernel_size=kernel_size,\n",
        "                ),\n",
        "                nn.BatchNorm2d(output_channels),\n",
        "                nn.MaxPool2d(kernel_size=3),\n",
        "                nn.Dropout(p=0.2),\n",
        "                nn.LeakyReLU(0.2)\n",
        "                )\n",
        "        else:\n",
        "            return nn.Sequential(\n",
        "                nn.Conv2d(\n",
        "                    in_channels=input_channels,\n",
        "                    out_channels=300,\n",
        "                    kernel_size=2,\n",
        "                ),\n",
        "                )\n",
        "\n",
        "    def encoder_layers(self) -> nn.Sequential:\n",
        "        layers = []\n",
        "        for i in range(len(self.channels)-1):\n",
        "            if self.channels[i] != self.channels[-2]:\n",
        "                layers.append(self.simple_enc_block(\n",
        "                    input_channels=self.channels[i],\n",
        "                    output_channels=self.channels[i+1])\n",
        "                )\n",
        "            else:\n",
        "                layers.append(self.simple_enc_block(\n",
        "                    input_channels=self.channels[i],\n",
        "                    output_channels=self.channels[i+1],\n",
        "                    final_layer=True)\n",
        "                )\n",
        "        return nn.Sequential(*layers)\n",
        "\n",
        "    def simple_dec_block(self,\n",
        "                         input_channels: int = 3,\n",
        "                         output_channels: int = 3,\n",
        "                         kernel_size: int = 3,\n",
        "                         stride=2,\n",
        "                         dilation=2,\n",
        "                         output_padding=1,\n",
        "                         final_layer: bool = False) -> nn.Sequential:\n",
        "        if not final_layer:\n",
        "            return nn.Sequential(\n",
        "                nn.ConvTranspose2d(in_channels=input_channels,\n",
        "                                   out_channels=output_channels,\n",
        "                                   kernel_size=kernel_size,\n",
        "                                   stride=stride,\n",
        "                                   dilation=dilation,\n",
        "                                   output_padding=output_padding,),\n",
        "                nn.BatchNorm2d(output_channels),\n",
        "                nn.Dropout(p=0.2),\n",
        "                nn.LeakyReLU(0.2)\n",
        "                )\n",
        "        else:\n",
        "            return nn.Sequential(\n",
        "                nn.ConvTranspose2d(in_channels=input_channels,\n",
        "                                   out_channels=output_channels,\n",
        "                                   kernel_size=3,\n",
        "                                   stride=stride,\n",
        "                                   dilation=1,\n",
        "                                   padding=1,\n",
        "                                   output_padding=1)\n",
        "                )\n",
        "\n",
        "    def decoder_layers(self) -> nn.Sequential:\n",
        "        layers = []\n",
        "        dec_channels = list(reversed(self.channels))\n",
        "        for i in range(len(dec_channels)-1):\n",
        "            if dec_channels[i] != dec_channels[-2]:\n",
        "                layers.append(self.simple_dec_block(\n",
        "                    input_channels=dec_channels[i],\n",
        "                    output_channels=dec_channels[i+1])\n",
        "                )\n",
        "            else:\n",
        "                layers.append(self.simple_dec_block(\n",
        "                    input_channels=dec_channels[i],\n",
        "                    output_channels=dec_channels[i+1],\n",
        "                    final_layer=True)\n",
        "                )\n",
        "        return nn.Sequential(*layers)\n",
        "\n",
        "    def forward(self, x):\n",
        "        encoded = self.encoder(x)\n",
        "        decoded = self.decoder(encoded)\n",
        "        return decoded"
      ]
    },
    {
      "cell_type": "markdown",
      "source": [
        "### Autoencoder_Upsamling"
      ],
      "metadata": {
        "id": "pjbsmhefwxXp"
      }
    },
    {
      "cell_type": "code",
      "source": [
        "class Autoencoder_Upsampling(nn.Module):\n",
        "    def __init__(self):\n",
        "        super(Autoencoder_Upsampling, self).__init__()\n",
        "        self.channels = [3, 100, 200, 300]\n",
        "        self.encoder = self.encoder_layers()\n",
        "        self.decoder = self.decoder_layers()\n",
        "\n",
        "    def simple_enc_block(self,\n",
        "                         input_channels: int = 3,\n",
        "                         output_channels: int = 3,\n",
        "                         kernel_size: int = 3,\n",
        "                         final_layer: bool = False) -> nn.Sequential:\n",
        "        if not final_layer:\n",
        "            return nn.Sequential(\n",
        "                nn.Conv2d(\n",
        "                    in_channels=input_channels,\n",
        "                    out_channels=output_channels,\n",
        "                    kernel_size=kernel_size,\n",
        "                ),\n",
        "                nn.BatchNorm2d(output_channels),\n",
        "                nn.MaxPool2d(kernel_size=3),\n",
        "                nn.Dropout(p=0.2),\n",
        "                nn.LeakyReLU(0.2)\n",
        "                )\n",
        "        else:\n",
        "            return nn.Sequential(\n",
        "                nn.Conv2d(\n",
        "                    in_channels=input_channels,\n",
        "                    out_channels=300,\n",
        "                    kernel_size=2,\n",
        "                ),\n",
        "                )\n",
        "\n",
        "    def encoder_layers(self) -> nn.Sequential:\n",
        "        layers = []\n",
        "        for i in range(len(self.channels)-1):\n",
        "            if self.channels[i] != self.channels[-2]:\n",
        "                layers.append(self.simple_enc_block(\n",
        "                    input_channels=self.channels[i],\n",
        "                    output_channels=self.channels[i+1])\n",
        "                )\n",
        "            else:\n",
        "                layers.append(self.simple_enc_block(\n",
        "                    input_channels=self.channels[i],\n",
        "                    output_channels=self.channels[i+1],\n",
        "                    final_layer=True)\n",
        "                )\n",
        "        return nn.Sequential(*layers)\n",
        "\n",
        "    def simple_dec_block(self,\n",
        "                         input_channels: int = 3,\n",
        "                         output_channels: int = 3,\n",
        "                         kernel_size: int = 1,\n",
        "                         scale_factor=4,\n",
        "                         final_layer: bool = False) -> nn.Sequential:\n",
        "        if not final_layer:\n",
        "            return nn.Sequential(\n",
        "                nn.Conv2d(\n",
        "                    in_channels=input_channels,\n",
        "                    out_channels=output_channels,\n",
        "                    kernel_size=kernel_size,\n",
        "                ),\n",
        "                nn.Upsample(scale_factor=scale_factor, mode='bilinear'),\n",
        "                #nn.BatchNorm2d(output_channels),\n",
        "                nn.Dropout(p=0.2),\n",
        "                nn.LeakyReLU(0.2)\n",
        "                )\n",
        "        else:\n",
        "            return nn.Sequential(\n",
        "                nn.Conv2d(\n",
        "                    in_channels=input_channels,\n",
        "                    out_channels=output_channels,\n",
        "                    kernel_size=kernel_size,\n",
        "                ),\n",
        "                nn.Upsample(scale_factor=2, mode='bilinear'),\n",
        "                )\n",
        "\n",
        "    def decoder_layers(self) -> nn.Sequential:\n",
        "        layers = []\n",
        "        dec_channels = list(reversed(self.channels))\n",
        "        for i in range(len(dec_channels)-1):\n",
        "            if dec_channels[i] != dec_channels[-2]:\n",
        "                layers.append(self.simple_dec_block(\n",
        "                    input_channels=dec_channels[i],\n",
        "                    output_channels=dec_channels[i+1])\n",
        "                )\n",
        "            else:\n",
        "                layers.append(self.simple_dec_block(\n",
        "                    input_channels=dec_channels[i],\n",
        "                    output_channels=dec_channels[i+1],\n",
        "                    final_layer=True)\n",
        "                )\n",
        "        return nn.Sequential(*layers)\n",
        "\n",
        "    def forward(self, x):\n",
        "        encoded = self.encoder(x)\n",
        "        decoded = self.decoder(encoded)\n",
        "        return decoded\n"
      ],
      "metadata": {
        "id": "X2E9kePOw025"
      },
      "execution_count": 10,
      "outputs": []
    },
    {
      "cell_type": "markdown",
      "source": [
        "## Losses"
      ],
      "metadata": {
        "id": "nYNwHRhaw36s"
      }
    },
    {
      "cell_type": "code",
      "source": [
        "def MSE(fake: torch.Tensor,\n",
        "        image: torch.Tensor) -> torch.Tensor:\n",
        "    return torch.mean((fake - image)**2)\n",
        "\n",
        "\n",
        "def SSIM(fake: torch.Tensor, real: torch.Tensor) -> torch.Tensor:\n",
        "    k1: float = 0.01\n",
        "    k2: float = 0.03\n",
        "    mean_fake = torch.mean(fake, dim=[1, 2, 3])\n",
        "    mean_real = torch.mean(real, dim=[1, 2, 3])\n",
        "    var_fake = torch.var(fake, dim=[1, 2, 3])\n",
        "    var_real = torch.var(real, dim=[1, 2, 3])\n",
        "    c1 = (k1) ** 2  # L=1, тк изображения нормализованы\n",
        "    c2 = (k2) ** 2  # L=1, тк изображения нормализованы\n",
        "    fake_dif = torch.sub(fake, mean_fake[:, None, None, None])\n",
        "    real_dif = torch.sub(real, mean_real[:, None, None, None])\n",
        "    covariance = (\n",
        "        torch.sum(fake_dif * real_dif, dim=[1, 2, 3])\n",
        "        / real.size()[-1] / real.size()[-2] / real.size()[-3]\n",
        "    )\n",
        "    ssim_numerator = (\n",
        "        (2 * mean_fake * mean_real + c1) * (2 * covariance + c2)\n",
        "    )\n",
        "    ssim_denominator = (\n",
        "        ((mean_fake) ** 2 + (mean_real) ** 2 + c1)\n",
        "        * ((var_fake) ** 2 + (var_real) ** 2 + c2)\n",
        "    )\n",
        "    ssim = ssim_numerator / ssim_denominator\n",
        "    print('mean_fake:', torch.mean(mean_fake))\n",
        "    print('mean_real:', torch.mean(mean_real))\n",
        "    print('var_fake:', torch.mean(var_fake))\n",
        "    print('var_real:', torch.mean(var_real))\n",
        "    print('fake_dif:', fake_dif.size())\n",
        "    print('real_dif:', torch.mean(real_dif))\n",
        "    print('covariance size:', covariance.size())\n",
        "    print('covariance:', torch.mean(covariance))\n",
        "    print('ssim_numerator:', torch.mean(ssim_numerator))\n",
        "    print('ssim_denominator:', torch.mean(ssim_denominator))\n",
        "    print('ssim:', torch.mean(ssim))\n",
        "    return torch.mean(ssim)\n"
      ],
      "metadata": {
        "id": "Zh7e3OUCw6Rf"
      },
      "execution_count": 57,
      "outputs": []
    },
    {
      "cell_type": "code",
      "source": [
        "fake = torch.randn(64, 3, 32, 32)\n",
        "real = torch.randn(64, 3, 32, 32)\n",
        "SSIM(fake, real)"
      ],
      "metadata": {
        "id": "Xpcq0vzlIAwF",
        "outputId": "dddb5a5a-0673-4f1d-f89e-65fe9f7edf6f",
        "colab": {
          "base_uri": "https://localhost:8080/"
        }
      },
      "execution_count": 58,
      "outputs": [
        {
          "output_type": "stream",
          "name": "stdout",
          "text": [
            "mean_fake: tensor(-0.0011)\n",
            "mean_real: tensor(0.0005)\n",
            "var_fake: tensor(0.9949)\n",
            "var_real: tensor(1.0036)\n",
            "fake_dif: torch.Size([64, 3, 32, 32])\n",
            "real_dif: tensor(-1.2806e-09)\n",
            "covariance size: torch.Size([64])\n",
            "covariance: tensor(-0.0043)\n",
            "ssim_numerator: tensor(-3.3115e-06)\n",
            "ssim_denominator: tensor(0.0015)\n",
            "ssim: tensor(-0.0013)\n"
          ]
        },
        {
          "output_type": "execute_result",
          "data": {
            "text/plain": [
              "tensor(-0.0013)"
            ]
          },
          "metadata": {},
          "execution_count": 58
        }
      ]
    },
    {
      "cell_type": "markdown",
      "source": [
        "## Train and test functions"
      ],
      "metadata": {
        "id": "gW6pI3t3w9Pn"
      }
    },
    {
      "cell_type": "code",
      "execution_count": 64,
      "metadata": {
        "id": "DQM8mIj0WZNi"
      },
      "outputs": [],
      "source": [
        "def train(model: nn.Sequential,\n",
        "          train_loader: DataLoader,\n",
        "          optimizer: torch.optim,\n",
        "          device: torch.device) -> None:\n",
        "    for images, _ in train_loader:\n",
        "        images = images.to(DEVICE)\n",
        "        optimizer.zero_grad()\n",
        "        outputs = model(images)\n",
        "        batch_loss = MSE(outputs, images)\n",
        "        batch_loss.backward()\n",
        "        optimizer.step()\n",
        "\n",
        "\n",
        "def test(model: nn.Sequential,\n",
        "         test_loader: DataLoader,\n",
        "         device: torch.device) -> float:\n",
        "    model.eval()\n",
        "    test_loss = 0\n",
        "    acc = 0\n",
        "    with torch.no_grad():\n",
        "        for images, _ in test_loader:\n",
        "            images = images.to(DEVICE)\n",
        "            output = model(images)\n",
        "            loss = MSE(output, images)\n",
        "            test_loss += loss.item()\n",
        "    return test_loss / len(test_loader.dataset)"
      ]
    },
    {
      "cell_type": "code",
      "execution_count": 11,
      "metadata": {
        "id": "RtxjR-Tjufv9",
        "outputId": "814a9458-a5bf-4fa7-9635-1275832fc49a",
        "colab": {
          "base_uri": "https://localhost:8080/"
        }
      },
      "outputs": [
        {
          "output_type": "stream",
          "name": "stdout",
          "text": [
            "Epoch: 1, test loss: 0.00285, time: 0.45 min\n",
            "Epoch: 2, test loss: 0.00282, time: 0.89 min\n",
            "Epoch: 3, test loss: 0.00284, time: 1.33 min\n",
            "Epoch: 4, test loss: 0.00282, time: 1.78 min\n",
            "Epoch: 5, test loss: 0.00281, time: 2.21 min\n",
            "Epoch: 6, test loss: 0.00282, time: 2.65 min\n",
            "Epoch: 7, test loss: 0.00281, time: 3.09 min\n",
            "Epoch: 8, test loss: 0.00282, time: 3.53 min\n",
            "Epoch: 9, test loss: 0.00280, time: 3.96 min\n",
            "Epoch: 10, test loss: 0.00281, time: 4.40 min\n",
            "Epoch: 11, test loss: 0.00281, time: 4.83 min\n",
            "Epoch: 12, test loss: 0.00281, time: 5.25 min\n",
            "Epoch: 13, test loss: 0.00282, time: 5.70 min\n",
            "Epoch: 14, test loss: 0.00280, time: 6.13 min\n",
            "Epoch: 15, test loss: 0.00280, time: 6.56 min\n",
            "Epoch: 16, test loss: 0.00281, time: 6.99 min\n",
            "Epoch: 17, test loss: 0.00281, time: 7.42 min\n",
            "Epoch: 18, test loss: 0.00279, time: 7.85 min\n",
            "Epoch: 19, test loss: 0.00280, time: 8.27 min\n",
            "Epoch: 20, test loss: 0.00279, time: 8.70 min\n",
            "Epoch: 21, test loss: 0.00280, time: 9.12 min\n",
            "Epoch: 22, test loss: 0.00279, time: 9.55 min\n",
            "Epoch: 23, test loss: 0.00280, time: 9.98 min\n",
            "Epoch: 24, test loss: 0.00279, time: 10.41 min\n",
            "Epoch: 25, test loss: 0.00279, time: 10.86 min\n",
            "Epoch: 26, test loss: 0.00280, time: 11.28 min\n",
            "Epoch: 27, test loss: 0.00280, time: 11.71 min\n",
            "Epoch: 28, test loss: 0.00279, time: 12.14 min\n",
            "Epoch: 29, test loss: 0.00279, time: 12.57 min\n",
            "Epoch: 30, test loss: 0.00279, time: 13.00 min\n",
            "Epoch: 31, test loss: 0.00279, time: 13.43 min\n",
            "Epoch: 32, test loss: 0.00279, time: 13.86 min\n",
            "Epoch: 33, test loss: 0.00279, time: 14.29 min\n",
            "Epoch: 34, test loss: 0.00279, time: 14.72 min\n",
            "Epoch: 35, test loss: 0.00279, time: 15.15 min\n",
            "Epoch: 36, test loss: 0.00279, time: 15.57 min\n",
            "Epoch: 37, test loss: 0.00279, time: 16.03 min\n",
            "Epoch: 38, test loss: 0.00278, time: 16.45 min\n",
            "Epoch: 39, test loss: 0.00279, time: 16.88 min\n",
            "Epoch: 40, test loss: 0.00279, time: 17.31 min\n",
            "Epoch: 41, test loss: 0.00278, time: 17.74 min\n",
            "Epoch: 42, test loss: 0.00278, time: 18.16 min\n",
            "Epoch: 43, test loss: 0.00278, time: 18.59 min\n",
            "Epoch: 44, test loss: 0.00279, time: 19.01 min\n",
            "Epoch: 45, test loss: 0.00278, time: 19.44 min\n",
            "Epoch: 46, test loss: 0.00278, time: 19.86 min\n",
            "Epoch: 47, test loss: 0.00278, time: 20.29 min\n",
            "Epoch: 48, test loss: 0.00278, time: 20.71 min\n",
            "Epoch: 49, test loss: 0.00278, time: 21.15 min\n",
            "Epoch: 50, test loss: 0.00278, time: 21.57 min\n",
            "Epoch: 51, test loss: 0.00278, time: 22.00 min\n",
            "Epoch: 52, test loss: 0.00278, time: 22.42 min\n",
            "Epoch: 53, test loss: 0.00278, time: 22.84 min\n",
            "Epoch: 54, test loss: 0.00278, time: 23.26 min\n",
            "Epoch: 55, test loss: 0.00278, time: 23.69 min\n",
            "Epoch: 56, test loss: 0.00278, time: 24.11 min\n",
            "Epoch: 57, test loss: 0.00278, time: 24.53 min\n",
            "Epoch: 58, test loss: 0.00278, time: 24.95 min\n",
            "Epoch: 59, test loss: 0.00278, time: 25.37 min\n",
            "Epoch: 60, test loss: 0.00278, time: 25.80 min\n",
            "Epoch: 61, test loss: 0.00278, time: 26.21 min\n",
            "Epoch: 62, test loss: 0.00278, time: 26.65 min\n",
            "Epoch: 63, test loss: 0.00278, time: 27.08 min\n",
            "Epoch: 64, test loss: 0.00278, time: 27.50 min\n",
            "Epoch: 65, test loss: 0.00278, time: 27.92 min\n",
            "Epoch: 66, test loss: 0.00278, time: 28.34 min\n",
            "Epoch: 67, test loss: 0.00278, time: 28.76 min\n",
            "Epoch: 68, test loss: 0.00278, time: 29.19 min\n",
            "Epoch: 69, test loss: 0.00278, time: 29.60 min\n",
            "Epoch: 70, test loss: 0.00278, time: 30.02 min\n",
            "Epoch: 71, test loss: 0.00278, time: 30.44 min\n",
            "Epoch: 72, test loss: 0.00278, time: 30.87 min\n",
            "Epoch: 73, test loss: 0.00278, time: 31.29 min\n",
            "Epoch: 74, test loss: 0.00278, time: 31.72 min\n",
            "Epoch: 75, test loss: 0.00278, time: 32.14 min\n",
            "Epoch: 76, test loss: 0.00278, time: 32.56 min\n",
            "Epoch: 77, test loss: 0.00278, time: 32.99 min\n",
            "Epoch: 78, test loss: 0.00278, time: 33.41 min\n",
            "Epoch: 79, test loss: 0.00278, time: 33.83 min\n",
            "Epoch: 80, test loss: 0.00278, time: 34.25 min\n",
            "Epoch: 81, test loss: 0.00278, time: 34.67 min\n",
            "Epoch: 82, test loss: 0.00278, time: 35.09 min\n",
            "Epoch: 83, test loss: 0.00278, time: 35.51 min\n",
            "Epoch: 84, test loss: 0.00278, time: 35.92 min\n",
            "Epoch: 85, test loss: 0.00278, time: 36.35 min\n",
            "Epoch: 86, test loss: 0.00278, time: 36.76 min\n",
            "Epoch: 87, test loss: 0.00278, time: 37.20 min\n",
            "Epoch: 88, test loss: 0.00278, time: 37.62 min\n",
            "Epoch: 89, test loss: 0.00278, time: 38.04 min\n",
            "Epoch: 90, test loss: 0.00278, time: 38.46 min\n",
            "Epoch: 91, test loss: 0.00278, time: 38.89 min\n",
            "Epoch: 92, test loss: 0.00278, time: 39.31 min\n",
            "Epoch: 93, test loss: 0.00278, time: 39.73 min\n",
            "Epoch: 94, test loss: 0.00278, time: 40.15 min\n",
            "Epoch: 95, test loss: 0.00278, time: 40.57 min\n",
            "Epoch: 96, test loss: 0.00278, time: 40.99 min\n",
            "Epoch: 97, test loss: 0.00278, time: 41.40 min\n",
            "Epoch: 98, test loss: 0.00278, time: 41.82 min\n",
            "Epoch: 99, test loss: 0.00278, time: 42.26 min\n",
            "Epoch: 100, test loss: 0.00278, time: 42.68 min\n",
            "Finish!\n"
          ]
        }
      ],
      "source": [
        "epochs = 100\n",
        "running_loss = 0.0\n",
        "lr = 0.001\n",
        "test_loss_list = []\n",
        "eps = 1e-4\n",
        "\n",
        "model = Autoencoder_Upsampling().to(DEVICE)\n",
        "optimizer = torch.optim.Adam(model.parameters(), lr=lr)\n",
        "scheduler = torch.optim.lr_scheduler.ReduceLROnPlateau(optimizer, 'min')\n",
        "\n",
        "t0 = time()\n",
        "\n",
        "for epoch in range(epochs):\n",
        "    loss = 0.0\n",
        "    train(model, train_loader, optimizer, DEVICE)\n",
        "    test_loss = test(model, train_loader, DEVICE)\n",
        "    test_loss_list.append(test_loss)\n",
        "    t1 = (time() - t0) / 60\n",
        "    print('Epoch: {}, test loss: {:.5f}, '.format(epoch+1, test_loss) + \n",
        "            'time: {:.2f} min'.format(t1))\n",
        "    '''if epoch > 2:\n",
        "        if max(test_loss_list[-5:]) - min(test_loss_list[-5:]) > eps:\n",
        "            continue\n",
        "        else:\n",
        "            break'''\n",
        "print('Finish!')\n"
      ]
    },
    {
      "cell_type": "code",
      "execution_count": 16,
      "metadata": {
        "id": "Ss8XWQ8Hv-GT",
        "outputId": "a99ef8e1-8a8d-4a74-9a36-40218ba18a8d",
        "colab": {
          "base_uri": "https://localhost:8080/",
          "height": 265
        }
      },
      "outputs": [
        {
          "output_type": "display_data",
          "data": {
            "text/plain": [
              "<Figure size 432x288 with 1 Axes>"
            ],
            "image/png": "[encoded data removed]"
          },
          "metadata": {
            "needs_background": "light"
          }
        }
      ],
      "source": [
        "plt.plot(range(1, len(test_loss_list) + 1), test_loss_list)\n",
        "plt.show()"
      ]
    },
    {
      "cell_type": "code",
      "execution_count": 31,
      "metadata": {
        "id": "mEBXemhvxsoL",
        "outputId": "a5bbde42-7379-4cbe-de49-c1dc0290cd5c",
        "colab": {
          "base_uri": "https://localhost:8080/",
          "height": 598
        }
      },
      "outputs": [
        {
          "output_type": "stream",
          "name": "stderr",
          "text": [
            "Clipping input data to the valid range for imshow with RGB data ([0..1] for floats or [0..255] for integers).\n"
          ]
        },
        {
          "output_type": "stream",
          "name": "stdout",
          "text": [
            "torch.Size([64, 3, 32, 32])\n",
            "tensor(5)\n"
          ]
        },
        {
          "output_type": "display_data",
          "data": {
            "text/plain": [
              "<Figure size 432x288 with 1 Axes>"
            ],
            "image/png": "[encoded data removed]"
          },
          "metadata": {
            "needs_background": "light"
          }
        },
        {
          "output_type": "stream",
          "name": "stderr",
          "text": [
            "Clipping input data to the valid range for imshow with RGB data ([0..1] for floats or [0..255] for integers).\n"
          ]
        },
        {
          "output_type": "stream",
          "name": "stdout",
          "text": [
            "torch.Size([64, 3, 32, 32])\n"
          ]
        },
        {
          "output_type": "display_data",
          "data": {
            "text/plain": [
              "<Figure size 432x288 with 1 Axes>"
            ],
            "image/png": "[encoded data removed]"
          },
          "metadata": {
            "needs_background": "light"
          }
        },
        {
          "output_type": "stream",
          "name": "stdout",
          "text": [
            "jpeg ompression rate : 3.30\n",
            "AE ompression rate : 34.91\n"
          ]
        }
      ],
      "source": [
        "%matplotlib inline\n",
        "import matplotlib.pyplot as plt\n",
        "import numpy as np\n",
        "from torchvision.utils import save_image\n",
        "\n",
        "def imshow(img, im_name):\n",
        "    img = img.detach().cpu()\n",
        "    save_image(img, im_name)\n",
        "    npimg = img.numpy()\n",
        "    plt.axis('off')\n",
        "    npimg = np.transpose(npimg, (1, 2, 0))\n",
        "    #im = Image.fromarray(npimg)\n",
        "    #im.save(im_name)\n",
        "    #plt.imsave(im_name, npimg/)\n",
        "    plt.imshow(npimg)\n",
        "    plt.show()\n",
        "\n",
        "\n",
        "def get_file_size_in_bytes(file_path):\n",
        "   size = os.path.getsize(file_path)\n",
        "   return size\n",
        "\n",
        "\n",
        "for i, (im, lab) in enumerate(train_loader):\n",
        "    print(im.shape)\n",
        "    print(lab[0])\n",
        "    imshow(im[0], '/content/image.jpeg')\n",
        "    fake = model(im.to(DEVICE))\n",
        "    print(fake.shape)\n",
        "    imshow(fake[0], '/content/fake.jpeg')\n",
        "    real_size = get_file_size_in_bytes('/content/image.jpeg')\n",
        "    compressed_state=model.encoder_layers()\n",
        "    jpeg_comp_rate = 3*32*32 / real_size\n",
        "    #ae_comp_rate = sys.getsizeof(fake[0]) / sys.getsizeof(compressed_state(im)[0])\n",
        "    ae_comp_rate = 3*32*32 / sys.getsizeof(compressed_state(im)[0])\n",
        "    print('jpeg ompression rate : {:.2f}'.format(jpeg_comp_rate))\n",
        "    print('AE ompression rate : {:.2f}'.format(ae_comp_rate))\n",
        "    break\n",
        "\n"
      ]
    },
    {
      "cell_type": "code",
      "execution_count": null,
      "metadata": {
        "id": "Xd0AqceTD2iU"
      },
      "outputs": [],
      "source": [
        ""
      ]
    }
  ],
  "metadata": {
    "accelerator": "GPU",
    "colab": {
      "name": "Untitled17.ipynb",
      "provenance": [],
      "include_colab_link": true
    },
    "kernelspec": {
      "display_name": "Python 3",
      "name": "python3"
    },
    "language_info": {
      "name": "python"
    },
    "widgets": {
      "application/vnd.jupyter.widget-state+json": {
        "186a62b2258940f7b558bca8e43f8cb5": {
          "model_module": "@jupyter-widgets/controls",
          "model_name": "HBoxModel",
          "model_module_version": "1.5.0",
          "state": {
            "_dom_classes": [],
            "_model_module": "@jupyter-widgets/controls",
            "_model_module_version": "1.5.0",
            "_model_name": "HBoxModel",
            "_view_count": null,
            "_view_module": "@jupyter-widgets/controls",
            "_view_module_version": "1.5.0",
            "_view_name": "HBoxView",
            "box_style": "",
            "children": [
              "IPY_MODEL_3559aebfea3a4fdd9f470bc034874430",
              "IPY_MODEL_95e6d17d2bb24d8c97df1d127a042329",
              "IPY_MODEL_94b7e25a04394d58a34f017f2e03c31c"
            ],
            "layout": "IPY_MODEL_b6f6070099ac40618282b9c46f2f4a82"
          }
        },
        "3559aebfea3a4fdd9f470bc034874430": {
          "model_module": "@jupyter-widgets/controls",
          "model_name": "HTMLModel",
          "model_module_version": "1.5.0",
          "state": {
            "_dom_classes": [],
            "_model_module": "@jupyter-widgets/controls",
            "_model_module_version": "1.5.0",
            "_model_name": "HTMLModel",
            "_view_count": null,
            "_view_module": "@jupyter-widgets/controls",
            "_view_module_version": "1.5.0",
            "_view_name": "HTMLView",
            "description": "",
            "description_tooltip": null,
            "layout": "IPY_MODEL_d72d661e12c045dea6f2539243716800",
            "placeholder": "​",
            "style": "IPY_MODEL_f7ba4dd2490f40eb91e16666502d8994",
            "value": ""
          }
        },
        "95e6d17d2bb24d8c97df1d127a042329": {
          "model_module": "@jupyter-widgets/controls",
          "model_name": "FloatProgressModel",
          "model_module_version": "1.5.0",
          "state": {
            "_dom_classes": [],
            "_model_module": "@jupyter-widgets/controls",
            "_model_module_version": "1.5.0",
            "_model_name": "FloatProgressModel",
            "_view_count": null,
            "_view_module": "@jupyter-widgets/controls",
            "_view_module_version": "1.5.0",
            "_view_name": "ProgressView",
            "bar_style": "success",
            "description": "",
            "description_tooltip": null,
            "layout": "IPY_MODEL_8bca1382a7894905976d1803367f4a0f",
            "max": 170498071,
            "min": 0,
            "orientation": "horizontal",
            "style": "IPY_MODEL_c3c14677dd7448a3abbec1eb96241ea0",
            "value": 170498071
          }
        },
        "94b7e25a04394d58a34f017f2e03c31c": {
          "model_module": "@jupyter-widgets/controls",
          "model_name": "HTMLModel",
          "model_module_version": "1.5.0",
          "state": {
            "_dom_classes": [],
            "_model_module": "@jupyter-widgets/controls",
            "_model_module_version": "1.5.0",
            "_model_name": "HTMLModel",
            "_view_count": null,
            "_view_module": "@jupyter-widgets/controls",
            "_view_module_version": "1.5.0",
            "_view_name": "HTMLView",
            "description": "",
            "description_tooltip": null,
            "layout": "IPY_MODEL_f7ba1d1549d04e318ddd40c6ce98f5ab",
            "placeholder": "​",
            "style": "IPY_MODEL_8591bf21d40e44e2b1abb3f47267f240",
            "value": " 170499072/? [00:13&lt;00:00, 14437326.81it/s]"
          }
        },
        "b6f6070099ac40618282b9c46f2f4a82": {
          "model_module": "@jupyter-widgets/base",
          "model_name": "LayoutModel",
          "model_module_version": "1.2.0",
          "state": {
            "_model_module": "@jupyter-widgets/base",
            "_model_module_version": "1.2.0",
            "_model_name": "LayoutModel",
            "_view_count": null,
            "_view_module": "@jupyter-widgets/base",
            "_view_module_version": "1.2.0",
            "_view_name": "LayoutView",
            "align_content": null,
            "align_items": null,
            "align_self": null,
            "border": null,
            "bottom": null,
            "display": null,
            "flex": null,
            "flex_flow": null,
            "grid_area": null,
            "grid_auto_columns": null,
            "grid_auto_flow": null,
            "grid_auto_rows": null,
            "grid_column": null,
            "grid_gap": null,
            "grid_row": null,
            "grid_template_areas": null,
            "grid_template_columns": null,
            "grid_template_rows": null,
            "height": null,
            "justify_content": null,
            "justify_items": null,
            "left": null,
            "margin": null,
            "max_height": null,
            "max_width": null,
            "min_height": null,
            "min_width": null,
            "object_fit": null,
            "object_position": null,
            "order": null,
            "overflow": null,
            "overflow_x": null,
            "overflow_y": null,
            "padding": null,
            "right": null,
            "top": null,
            "visibility": null,
            "width": null
          }
        },
        "d72d661e12c045dea6f2539243716800": {
          "model_module": "@jupyter-widgets/base",
          "model_name": "LayoutModel",
          "model_module_version": "1.2.0",
          "state": {
            "_model_module": "@jupyter-widgets/base",
            "_model_module_version": "1.2.0",
            "_model_name": "LayoutModel",
            "_view_count": null,
            "_view_module": "@jupyter-widgets/base",
            "_view_module_version": "1.2.0",
            "_view_name": "LayoutView",
            "align_content": null,
            "align_items": null,
            "align_self": null,
            "border": null,
            "bottom": null,
            "display": null,
            "flex": null,
            "flex_flow": null,
            "grid_area": null,
            "grid_auto_columns": null,
            "grid_auto_flow": null,
            "grid_auto_rows": null,
            "grid_column": null,
            "grid_gap": null,
            "grid_row": null,
            "grid_template_areas": null,
            "grid_template_columns": null,
            "grid_template_rows": null,
            "height": null,
            "justify_content": null,
            "justify_items": null,
            "left": null,
            "margin": null,
            "max_height": null,
            "max_width": null,
            "min_height": null,
            "min_width": null,
            "object_fit": null,
            "object_position": null,
            "order": null,
            "overflow": null,
            "overflow_x": null,
            "overflow_y": null,
            "padding": null,
            "right": null,
            "top": null,
            "visibility": null,
            "width": null
          }
        },
        "f7ba4dd2490f40eb91e16666502d8994": {
          "model_module": "@jupyter-widgets/controls",
          "model_name": "DescriptionStyleModel",
          "model_module_version": "1.5.0",
          "state": {
            "_model_module": "@jupyter-widgets/controls",
            "_model_module_version": "1.5.0",
            "_model_name": "DescriptionStyleModel",
            "_view_count": null,
            "_view_module": "@jupyter-widgets/base",
            "_view_module_version": "1.2.0",
            "_view_name": "StyleView",
            "description_width": ""
          }
        },
        "8bca1382a7894905976d1803367f4a0f": {
          "model_module": "@jupyter-widgets/base",
          "model_name": "LayoutModel",
          "model_module_version": "1.2.0",
          "state": {
            "_model_module": "@jupyter-widgets/base",
            "_model_module_version": "1.2.0",
            "_model_name": "LayoutModel",
            "_view_count": null,
            "_view_module": "@jupyter-widgets/base",
            "_view_module_version": "1.2.0",
            "_view_name": "LayoutView",
            "align_content": null,
            "align_items": null,
            "align_self": null,
            "border": null,
            "bottom": null,
            "display": null,
            "flex": null,
            "flex_flow": null,
            "grid_area": null,
            "grid_auto_columns": null,
            "grid_auto_flow": null,
            "grid_auto_rows": null,
            "grid_column": null,
            "grid_gap": null,
            "grid_row": null,
            "grid_template_areas": null,
            "grid_template_columns": null,
            "grid_template_rows": null,
            "height": null,
            "justify_content": null,
            "justify_items": null,
            "left": null,
            "margin": null,
            "max_height": null,
            "max_width": null,
            "min_height": null,
            "min_width": null,
            "object_fit": null,
            "object_position": null,
            "order": null,
            "overflow": null,
            "overflow_x": null,
            "overflow_y": null,
            "padding": null,
            "right": null,
            "top": null,
            "visibility": null,
            "width": null
          }
        },
        "c3c14677dd7448a3abbec1eb96241ea0": {
          "model_module": "@jupyter-widgets/controls",
          "model_name": "ProgressStyleModel",
          "model_module_version": "1.5.0",
          "state": {
            "_model_module": "@jupyter-widgets/controls",
            "_model_module_version": "1.5.0",
            "_model_name": "ProgressStyleModel",
            "_view_count": null,
            "_view_module": "@jupyter-widgets/base",
            "_view_module_version": "1.2.0",
            "_view_name": "StyleView",
            "bar_color": null,
            "description_width": ""
          }
        },
        "f7ba1d1549d04e318ddd40c6ce98f5ab": {
          "model_module": "@jupyter-widgets/base",
          "model_name": "LayoutModel",
          "model_module_version": "1.2.0",
          "state": {
            "_model_module": "@jupyter-widgets/base",
            "_model_module_version": "1.2.0",
            "_model_name": "LayoutModel",
            "_view_count": null,
            "_view_module": "@jupyter-widgets/base",
            "_view_module_version": "1.2.0",
            "_view_name": "LayoutView",
            "align_content": null,
            "align_items": null,
            "align_self": null,
            "border": null,
            "bottom": null,
            "display": null,
            "flex": null,
            "flex_flow": null,
            "grid_area": null,
            "grid_auto_columns": null,
            "grid_auto_flow": null,
            "grid_auto_rows": null,
            "grid_column": null,
            "grid_gap": null,
            "grid_row": null,
            "grid_template_areas": null,
            "grid_template_columns": null,
            "grid_template_rows": null,
            "height": null,
            "justify_content": null,
            "justify_items": null,
            "left": null,
            "margin": null,
            "max_height": null,
            "max_width": null,
            "min_height": null,
            "min_width": null,
            "object_fit": null,
            "object_position": null,
            "order": null,
            "overflow": null,
            "overflow_x": null,
            "overflow_y": null,
            "padding": null,
            "right": null,
            "top": null,
            "visibility": null,
            "width": null
          }
        },
        "8591bf21d40e44e2b1abb3f47267f240": {
          "model_module": "@jupyter-widgets/controls",
          "model_name": "DescriptionStyleModel",
          "model_module_version": "1.5.0",
          "state": {
            "_model_module": "@jupyter-widgets/controls",
            "_model_module_version": "1.5.0",
            "_model_name": "DescriptionStyleModel",
            "_view_count": null,
            "_view_module": "@jupyter-widgets/base",
            "_view_module_version": "1.2.0",
            "_view_name": "StyleView",
            "description_width": ""
          }
        }
      }
    }
  },
  "nbformat": 4,
  "nbformat_minor": 0
}